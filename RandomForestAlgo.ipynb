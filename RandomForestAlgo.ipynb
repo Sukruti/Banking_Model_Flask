{
 "cells": [
  {
   "cell_type": "code",
   "execution_count": 1,
   "metadata": {},
   "outputs": [
    {
     "name": "stderr",
     "output_type": "stream",
     "text": [
      "C:\\Anaconda\\Anaconda3\\lib\\site-packages\\statsmodels\\tools\\_testing.py:19: FutureWarning: pandas.util.testing is deprecated. Use the functions in the public API at pandas.testing instead.\n",
      "  import pandas.util.testing as tm\n"
     ]
    },
    {
     "data": {
      "text/html": [
       "<div>\n",
       "<style scoped>\n",
       "    .dataframe tbody tr th:only-of-type {\n",
       "        vertical-align: middle;\n",
       "    }\n",
       "\n",
       "    .dataframe tbody tr th {\n",
       "        vertical-align: top;\n",
       "    }\n",
       "\n",
       "    .dataframe thead th {\n",
       "        text-align: right;\n",
       "    }\n",
       "</style>\n",
       "<table border=\"1\" class=\"dataframe\">\n",
       "  <thead>\n",
       "    <tr style=\"text-align: right;\">\n",
       "      <th></th>\n",
       "      <th>CustomerId</th>\n",
       "      <th>CreditRating</th>\n",
       "      <th>Customer Address</th>\n",
       "      <th>Industry</th>\n",
       "      <th>CustomerSegment</th>\n",
       "      <th>Turnover</th>\n",
       "      <th>Established Date</th>\n",
       "      <th>DistanceToResidence</th>\n",
       "      <th>Tenure</th>\n",
       "      <th>NumOfProducts</th>\n",
       "      <th>...</th>\n",
       "      <th>No Of Transactions</th>\n",
       "      <th>%  difference in balance amount for 6 Months</th>\n",
       "      <th>Payments made after due date</th>\n",
       "      <th># of cancelled Bills in last 6 Months</th>\n",
       "      <th># of cancelled Paymnets in last 6 Months</th>\n",
       "      <th># of credit adjustments in last 6 Months</th>\n",
       "      <th># of debit adjustments in last 6 Months</th>\n",
       "      <th># of reversed/cancelled adjustments in last 6 Months</th>\n",
       "      <th># of complains</th>\n",
       "      <th>Exit</th>\n",
       "    </tr>\n",
       "  </thead>\n",
       "  <tbody>\n",
       "    <tr>\n",
       "      <th>0</th>\n",
       "      <td>C001</td>\n",
       "      <td>A</td>\n",
       "      <td>Cust_Addr_1</td>\n",
       "      <td>Manufaturing</td>\n",
       "      <td>Large_customer</td>\n",
       "      <td>12000000000</td>\n",
       "      <td>1995-01-22</td>\n",
       "      <td>High Proximity</td>\n",
       "      <td>2015-01-04</td>\n",
       "      <td>238</td>\n",
       "      <td>...</td>\n",
       "      <td>77</td>\n",
       "      <td>0.0546</td>\n",
       "      <td>7</td>\n",
       "      <td>8</td>\n",
       "      <td>9</td>\n",
       "      <td>7</td>\n",
       "      <td>8</td>\n",
       "      <td>6</td>\n",
       "      <td>42</td>\n",
       "      <td>No</td>\n",
       "    </tr>\n",
       "    <tr>\n",
       "      <th>1</th>\n",
       "      <td>C002</td>\n",
       "      <td>B</td>\n",
       "      <td>Cust_Addr_2</td>\n",
       "      <td>Services</td>\n",
       "      <td>Large_customer</td>\n",
       "      <td>11000050000</td>\n",
       "      <td>1995-02-12</td>\n",
       "      <td>High Proximity</td>\n",
       "      <td>2008-01-25</td>\n",
       "      <td>261</td>\n",
       "      <td>...</td>\n",
       "      <td>31</td>\n",
       "      <td>0.0684</td>\n",
       "      <td>8</td>\n",
       "      <td>9</td>\n",
       "      <td>1</td>\n",
       "      <td>8</td>\n",
       "      <td>4</td>\n",
       "      <td>7</td>\n",
       "      <td>17</td>\n",
       "      <td>No</td>\n",
       "    </tr>\n",
       "    <tr>\n",
       "      <th>2</th>\n",
       "      <td>C003</td>\n",
       "      <td>A</td>\n",
       "      <td>Cust_Addr_3</td>\n",
       "      <td>NBFI</td>\n",
       "      <td>Large_customer</td>\n",
       "      <td>9000100000</td>\n",
       "      <td>1995-03-05</td>\n",
       "      <td>Low Proximity</td>\n",
       "      <td>2008-02-15</td>\n",
       "      <td>284</td>\n",
       "      <td>...</td>\n",
       "      <td>5</td>\n",
       "      <td>0.0822</td>\n",
       "      <td>10</td>\n",
       "      <td>2</td>\n",
       "      <td>5</td>\n",
       "      <td>10</td>\n",
       "      <td>11</td>\n",
       "      <td>9</td>\n",
       "      <td>21</td>\n",
       "      <td>No</td>\n",
       "    </tr>\n",
       "    <tr>\n",
       "      <th>3</th>\n",
       "      <td>C004</td>\n",
       "      <td>A</td>\n",
       "      <td>Cust_Addr_4</td>\n",
       "      <td>Manufaturing</td>\n",
       "      <td>Large_customer</td>\n",
       "      <td>10000150000</td>\n",
       "      <td>1995-03-26</td>\n",
       "      <td>High Proximity</td>\n",
       "      <td>2010-03-08</td>\n",
       "      <td>307</td>\n",
       "      <td>...</td>\n",
       "      <td>90</td>\n",
       "      <td>0.0960</td>\n",
       "      <td>6</td>\n",
       "      <td>3</td>\n",
       "      <td>1</td>\n",
       "      <td>11</td>\n",
       "      <td>4</td>\n",
       "      <td>4</td>\n",
       "      <td>4</td>\n",
       "      <td>No</td>\n",
       "    </tr>\n",
       "    <tr>\n",
       "      <th>4</th>\n",
       "      <td>C005</td>\n",
       "      <td>B</td>\n",
       "      <td>Cust_Addr_5</td>\n",
       "      <td>Services</td>\n",
       "      <td>Large_customer</td>\n",
       "      <td>8000200000</td>\n",
       "      <td>1995-04-16</td>\n",
       "      <td>High Proximity</td>\n",
       "      <td>2015-03-29</td>\n",
       "      <td>330</td>\n",
       "      <td>...</td>\n",
       "      <td>30</td>\n",
       "      <td>0.1098</td>\n",
       "      <td>3</td>\n",
       "      <td>2</td>\n",
       "      <td>6</td>\n",
       "      <td>12</td>\n",
       "      <td>2</td>\n",
       "      <td>11</td>\n",
       "      <td>10</td>\n",
       "      <td>No</td>\n",
       "    </tr>\n",
       "  </tbody>\n",
       "</table>\n",
       "<p>5 rows × 27 columns</p>\n",
       "</div>"
      ],
      "text/plain": [
       "  CustomerId CreditRating Customer Address      Industry CustomerSegment  \\\n",
       "0       C001            A      Cust_Addr_1  Manufaturing  Large_customer   \n",
       "1       C002            B      Cust_Addr_2      Services  Large_customer   \n",
       "2       C003            A      Cust_Addr_3          NBFI  Large_customer   \n",
       "3       C004            A      Cust_Addr_4  Manufaturing  Large_customer   \n",
       "4       C005            B      Cust_Addr_5      Services  Large_customer   \n",
       "\n",
       "      Turnover Established Date DistanceToResidence     Tenure  NumOfProducts  \\\n",
       "0  12000000000       1995-01-22      High Proximity 2015-01-04            238   \n",
       "1  11000050000       1995-02-12      High Proximity 2008-01-25            261   \n",
       "2   9000100000       1995-03-05       Low Proximity 2008-02-15            284   \n",
       "3  10000150000       1995-03-26      High Proximity 2010-03-08            307   \n",
       "4   8000200000       1995-04-16      High Proximity 2015-03-29            330   \n",
       "\n",
       "   ...  No Of Transactions  %  difference in balance amount for 6 Months  \\\n",
       "0  ...                  77                                        0.0546   \n",
       "1  ...                  31                                        0.0684   \n",
       "2  ...                   5                                        0.0822   \n",
       "3  ...                  90                                        0.0960   \n",
       "4  ...                  30                                        0.1098   \n",
       "\n",
       "   Payments made after due date  # of cancelled Bills in last 6 Months  \\\n",
       "0                             7                                      8   \n",
       "1                             8                                      9   \n",
       "2                            10                                      2   \n",
       "3                             6                                      3   \n",
       "4                             3                                      2   \n",
       "\n",
       "   # of cancelled Paymnets in last 6 Months  \\\n",
       "0                                         9   \n",
       "1                                         1   \n",
       "2                                         5   \n",
       "3                                         1   \n",
       "4                                         6   \n",
       "\n",
       "  # of credit adjustments in last 6 Months  \\\n",
       "0                                        7   \n",
       "1                                        8   \n",
       "2                                       10   \n",
       "3                                       11   \n",
       "4                                       12   \n",
       "\n",
       "   # of debit adjustments in last 6 Months  \\\n",
       "0                                        8   \n",
       "1                                        4   \n",
       "2                                       11   \n",
       "3                                        4   \n",
       "4                                        2   \n",
       "\n",
       "   # of reversed/cancelled adjustments in last 6 Months  # of complains   Exit  \n",
       "0                                                  6                  42    No  \n",
       "1                                                  7                  17    No  \n",
       "2                                                  9                  21    No  \n",
       "3                                                  4                   4    No  \n",
       "4                                                 11                  10    No  \n",
       "\n",
       "[5 rows x 27 columns]"
      ]
     },
     "execution_count": 1,
     "metadata": {},
     "output_type": "execute_result"
    }
   ],
   "source": [
    "import pandas as pd\n",
    "import numpy as np\n",
    "import seaborn as sns\n",
    "sns.set(style=\"white\")\n",
    "import matplotlib.pyplot as plt\n",
    "\n",
    "import sklearn\n",
    "from sklearn.preprocessing import LabelEncoder, StandardScaler, normalize\n",
    "from sklearn.model_selection import train_test_split, KFold\n",
    "from sklearn.metrics import accuracy_score, roc_auc_score, f1_score, recall_score\n",
    "from matplotlib.backends.backend_pdf import PdfPages\n",
    "#ML_Visuals = PdfPages('ML_Bank_Attr_Visualisation.pdf')\n",
    "\n",
    "# Load csv as pandas frame and drop useless columns\n",
    "\n",
    "file = r'RIA_ML_Data_Set.xlsx'\n",
    "data = pd.read_excel(file)\n",
    "df = pd.DataFrame(data) \n",
    "df.head()"
   ]
  },
  {
   "cell_type": "code",
   "execution_count": 2,
   "metadata": {},
   "outputs": [
    {
     "name": "stdout",
     "output_type": "stream",
     "text": [
      "Shape (75, 27)\n",
      "Data Types\n",
      "CustomerId                                                      object\n",
      "CreditRating                                                    object\n",
      "Customer Address                                                object\n",
      "Industry                                                        object\n",
      "CustomerSegment                                                 object\n",
      "Turnover                                                         int64\n",
      "Established Date                                        datetime64[ns]\n",
      "DistanceToResidence                                             object\n",
      "Tenure                                                  datetime64[ns]\n",
      "NumOfProducts                                                    int64\n",
      "Liquidity                                                        int64\n",
      "Payments                                                         int64\n",
      "Lending_Loan                                                     int64\n",
      "Trade                                                            int64\n",
      "Insurance                                                      float64\n",
      "HasCrCard                                                       object\n",
      "Aggregate Balance                                              float64\n",
      "No Of Transactions                                               int64\n",
      "%  difference in balance amount for 6 Months                   float64\n",
      "Payments made after due date                                     int64\n",
      "# of cancelled Bills in last 6 Months                            int64\n",
      "# of cancelled Paymnets in last 6 Months                         int64\n",
      "# of credit adjustments in last 6 Months                         int64\n",
      "# of debit adjustments in last 6 Months                          int64\n",
      "# of reversed/cancelled adjustments in last 6 Months             int64\n",
      "# of complains                                                   int64\n",
      "Exit                                                            object\n",
      "dtype: object\n"
     ]
    }
   ],
   "source": [
    "print('Shape' , df.shape)\n",
    "print('Data Types')\n",
    "print(df.dtypes)"
   ]
  },
  {
   "cell_type": "code",
   "execution_count": 3,
   "metadata": {},
   "outputs": [
    {
     "data": {
      "text/html": [
       "<div>\n",
       "<style scoped>\n",
       "    .dataframe tbody tr th:only-of-type {\n",
       "        vertical-align: middle;\n",
       "    }\n",
       "\n",
       "    .dataframe tbody tr th {\n",
       "        vertical-align: top;\n",
       "    }\n",
       "\n",
       "    .dataframe thead th {\n",
       "        text-align: right;\n",
       "    }\n",
       "</style>\n",
       "<table border=\"1\" class=\"dataframe\">\n",
       "  <thead>\n",
       "    <tr style=\"text-align: right;\">\n",
       "      <th></th>\n",
       "      <th>Turnover</th>\n",
       "      <th>NumOfProducts</th>\n",
       "      <th>Liquidity</th>\n",
       "      <th>Payments</th>\n",
       "      <th>Lending_Loan</th>\n",
       "      <th>Trade</th>\n",
       "      <th>Insurance</th>\n",
       "      <th>Aggregate Balance</th>\n",
       "      <th>No Of Transactions</th>\n",
       "      <th>%  difference in balance amount for 6 Months</th>\n",
       "      <th>Payments made after due date</th>\n",
       "      <th># of cancelled Bills in last 6 Months</th>\n",
       "      <th># of cancelled Paymnets in last 6 Months</th>\n",
       "      <th># of credit adjustments in last 6 Months</th>\n",
       "      <th># of debit adjustments in last 6 Months</th>\n",
       "      <th># of reversed/cancelled adjustments in last 6 Months</th>\n",
       "      <th># of complains</th>\n",
       "    </tr>\n",
       "  </thead>\n",
       "  <tbody>\n",
       "    <tr>\n",
       "      <th>count</th>\n",
       "      <td>7.500000e+01</td>\n",
       "      <td>75.000000</td>\n",
       "      <td>75.000000</td>\n",
       "      <td>75.000000</td>\n",
       "      <td>7.500000e+01</td>\n",
       "      <td>7.500000e+01</td>\n",
       "      <td>7.500000e+01</td>\n",
       "      <td>7.500000e+01</td>\n",
       "      <td>75.000000</td>\n",
       "      <td>75.000000</td>\n",
       "      <td>75.000000</td>\n",
       "      <td>75.000000</td>\n",
       "      <td>75.000000</td>\n",
       "      <td>75.000000</td>\n",
       "      <td>75.000000</td>\n",
       "      <td>75.000000</td>\n",
       "      <td>75.000000</td>\n",
       "    </tr>\n",
       "    <tr>\n",
       "      <th>mean</th>\n",
       "      <td>2.743370e+09</td>\n",
       "      <td>216.746667</td>\n",
       "      <td>290.946667</td>\n",
       "      <td>23740.160000</td>\n",
       "      <td>1.767163e+06</td>\n",
       "      <td>2.492251e+06</td>\n",
       "      <td>1.315700e+06</td>\n",
       "      <td>2.898377e+06</td>\n",
       "      <td>46.560000</td>\n",
       "      <td>-0.161540</td>\n",
       "      <td>7.760000</td>\n",
       "      <td>7.280000</td>\n",
       "      <td>6.213333</td>\n",
       "      <td>7.733333</td>\n",
       "      <td>6.533333</td>\n",
       "      <td>5.973333</td>\n",
       "      <td>28.746667</td>\n",
       "    </tr>\n",
       "    <tr>\n",
       "      <th>std</th>\n",
       "      <td>3.906375e+09</td>\n",
       "      <td>174.635303</td>\n",
       "      <td>314.034681</td>\n",
       "      <td>23559.873434</td>\n",
       "      <td>1.871165e+06</td>\n",
       "      <td>1.968637e+06</td>\n",
       "      <td>9.748184e+05</td>\n",
       "      <td>2.446793e+06</td>\n",
       "      <td>56.891134</td>\n",
       "      <td>0.241731</td>\n",
       "      <td>4.798198</td>\n",
       "      <td>4.831093</td>\n",
       "      <td>4.256294</td>\n",
       "      <td>3.775216</td>\n",
       "      <td>3.922676</td>\n",
       "      <td>3.755980</td>\n",
       "      <td>21.342822</td>\n",
       "    </tr>\n",
       "    <tr>\n",
       "      <th>min</th>\n",
       "      <td>1.157500e+07</td>\n",
       "      <td>13.000000</td>\n",
       "      <td>2.000000</td>\n",
       "      <td>1120.000000</td>\n",
       "      <td>3.203000e+05</td>\n",
       "      <td>3.939690e+05</td>\n",
       "      <td>1.352995e+05</td>\n",
       "      <td>5.909535e+05</td>\n",
       "      <td>4.000000</td>\n",
       "      <td>-0.612900</td>\n",
       "      <td>1.000000</td>\n",
       "      <td>0.000000</td>\n",
       "      <td>1.000000</td>\n",
       "      <td>1.000000</td>\n",
       "      <td>0.000000</td>\n",
       "      <td>0.000000</td>\n",
       "      <td>1.000000</td>\n",
       "    </tr>\n",
       "    <tr>\n",
       "      <th>25%</th>\n",
       "      <td>2.205032e+08</td>\n",
       "      <td>67.000000</td>\n",
       "      <td>48.500000</td>\n",
       "      <td>6013.000000</td>\n",
       "      <td>7.007500e+05</td>\n",
       "      <td>1.046054e+06</td>\n",
       "      <td>7.389220e+05</td>\n",
       "      <td>1.111520e+06</td>\n",
       "      <td>6.000000</td>\n",
       "      <td>-0.428500</td>\n",
       "      <td>4.000000</td>\n",
       "      <td>3.000000</td>\n",
       "      <td>3.000000</td>\n",
       "      <td>6.500000</td>\n",
       "      <td>3.000000</td>\n",
       "      <td>1.000000</td>\n",
       "      <td>11.000000</td>\n",
       "    </tr>\n",
       "    <tr>\n",
       "      <th>50%</th>\n",
       "      <td>7.281002e+08</td>\n",
       "      <td>146.000000</td>\n",
       "      <td>90.000000</td>\n",
       "      <td>11061.000000</td>\n",
       "      <td>9.103000e+05</td>\n",
       "      <td>1.861738e+06</td>\n",
       "      <td>1.232460e+06</td>\n",
       "      <td>1.573047e+06</td>\n",
       "      <td>31.000000</td>\n",
       "      <td>-0.053109</td>\n",
       "      <td>8.000000</td>\n",
       "      <td>8.000000</td>\n",
       "      <td>4.000000</td>\n",
       "      <td>8.000000</td>\n",
       "      <td>8.000000</td>\n",
       "      <td>7.000000</td>\n",
       "      <td>21.000000</td>\n",
       "    </tr>\n",
       "    <tr>\n",
       "      <th>75%</th>\n",
       "      <td>5.500325e+09</td>\n",
       "      <td>363.000000</td>\n",
       "      <td>682.500000</td>\n",
       "      <td>36001.500000</td>\n",
       "      <td>2.301850e+06</td>\n",
       "      <td>3.493784e+06</td>\n",
       "      <td>1.494460e+06</td>\n",
       "      <td>4.246175e+06</td>\n",
       "      <td>61.000000</td>\n",
       "      <td>0.053450</td>\n",
       "      <td>10.000000</td>\n",
       "      <td>11.000000</td>\n",
       "      <td>10.000000</td>\n",
       "      <td>11.000000</td>\n",
       "      <td>10.000000</td>\n",
       "      <td>9.000000</td>\n",
       "      <td>44.000000</td>\n",
       "    </tr>\n",
       "    <tr>\n",
       "      <th>max</th>\n",
       "      <td>1.200000e+10</td>\n",
       "      <td>607.000000</td>\n",
       "      <td>800.000000</td>\n",
       "      <td>97017.000000</td>\n",
       "      <td>9.402600e+06</td>\n",
       "      <td>7.864198e+06</td>\n",
       "      <td>4.428738e+06</td>\n",
       "      <td>1.020719e+07</td>\n",
       "      <td>308.000000</td>\n",
       "      <td>0.109800</td>\n",
       "      <td>23.000000</td>\n",
       "      <td>20.000000</td>\n",
       "      <td>14.000000</td>\n",
       "      <td>17.000000</td>\n",
       "      <td>13.000000</td>\n",
       "      <td>11.000000</td>\n",
       "      <td>88.000000</td>\n",
       "    </tr>\n",
       "  </tbody>\n",
       "</table>\n",
       "</div>"
      ],
      "text/plain": [
       "           Turnover  NumOfProducts   Liquidity      Payments  Lending_Loan  \\\n",
       "count  7.500000e+01      75.000000   75.000000     75.000000  7.500000e+01   \n",
       "mean   2.743370e+09     216.746667  290.946667  23740.160000  1.767163e+06   \n",
       "std    3.906375e+09     174.635303  314.034681  23559.873434  1.871165e+06   \n",
       "min    1.157500e+07      13.000000    2.000000   1120.000000  3.203000e+05   \n",
       "25%    2.205032e+08      67.000000   48.500000   6013.000000  7.007500e+05   \n",
       "50%    7.281002e+08     146.000000   90.000000  11061.000000  9.103000e+05   \n",
       "75%    5.500325e+09     363.000000  682.500000  36001.500000  2.301850e+06   \n",
       "max    1.200000e+10     607.000000  800.000000  97017.000000  9.402600e+06   \n",
       "\n",
       "              Trade     Insurance  Aggregate Balance  No Of Transactions  \\\n",
       "count  7.500000e+01  7.500000e+01       7.500000e+01           75.000000   \n",
       "mean   2.492251e+06  1.315700e+06       2.898377e+06           46.560000   \n",
       "std    1.968637e+06  9.748184e+05       2.446793e+06           56.891134   \n",
       "min    3.939690e+05  1.352995e+05       5.909535e+05            4.000000   \n",
       "25%    1.046054e+06  7.389220e+05       1.111520e+06            6.000000   \n",
       "50%    1.861738e+06  1.232460e+06       1.573047e+06           31.000000   \n",
       "75%    3.493784e+06  1.494460e+06       4.246175e+06           61.000000   \n",
       "max    7.864198e+06  4.428738e+06       1.020719e+07          308.000000   \n",
       "\n",
       "       %  difference in balance amount for 6 Months  \\\n",
       "count                                     75.000000   \n",
       "mean                                      -0.161540   \n",
       "std                                        0.241731   \n",
       "min                                       -0.612900   \n",
       "25%                                       -0.428500   \n",
       "50%                                       -0.053109   \n",
       "75%                                        0.053450   \n",
       "max                                        0.109800   \n",
       "\n",
       "       Payments made after due date  # of cancelled Bills in last 6 Months  \\\n",
       "count                     75.000000                              75.000000   \n",
       "mean                       7.760000                               7.280000   \n",
       "std                        4.798198                               4.831093   \n",
       "min                        1.000000                               0.000000   \n",
       "25%                        4.000000                               3.000000   \n",
       "50%                        8.000000                               8.000000   \n",
       "75%                       10.000000                              11.000000   \n",
       "max                       23.000000                              20.000000   \n",
       "\n",
       "       # of cancelled Paymnets in last 6 Months  \\\n",
       "count                                 75.000000   \n",
       "mean                                   6.213333   \n",
       "std                                    4.256294   \n",
       "min                                    1.000000   \n",
       "25%                                    3.000000   \n",
       "50%                                    4.000000   \n",
       "75%                                   10.000000   \n",
       "max                                   14.000000   \n",
       "\n",
       "       # of credit adjustments in last 6 Months  \\\n",
       "count                                 75.000000   \n",
       "mean                                   7.733333   \n",
       "std                                    3.775216   \n",
       "min                                    1.000000   \n",
       "25%                                    6.500000   \n",
       "50%                                    8.000000   \n",
       "75%                                   11.000000   \n",
       "max                                   17.000000   \n",
       "\n",
       "       # of debit adjustments in last 6 Months  \\\n",
       "count                                75.000000   \n",
       "mean                                  6.533333   \n",
       "std                                   3.922676   \n",
       "min                                   0.000000   \n",
       "25%                                   3.000000   \n",
       "50%                                   8.000000   \n",
       "75%                                  10.000000   \n",
       "max                                  13.000000   \n",
       "\n",
       "       # of reversed/cancelled adjustments in last 6 Months  # of complains   \n",
       "count                                          75.000000           75.000000  \n",
       "mean                                            5.973333           28.746667  \n",
       "std                                             3.755980           21.342822  \n",
       "min                                             0.000000            1.000000  \n",
       "25%                                             1.000000           11.000000  \n",
       "50%                                             7.000000           21.000000  \n",
       "75%                                             9.000000           44.000000  \n",
       "max                                            11.000000           88.000000  "
      ]
     },
     "execution_count": 3,
     "metadata": {},
     "output_type": "execute_result"
    }
   ],
   "source": [
    "df.describe()"
   ]
  },
  {
   "cell_type": "code",
   "execution_count": 4,
   "metadata": {},
   "outputs": [],
   "source": [
    "from datetime import datetime\n",
    "from dateutil import relativedelta\n",
    "from datetime import date\n",
    "\n",
    "today = date.today()\n",
    "\n",
    "def calculate_age(dtob):\n",
    "    today=date.today()\n",
    "    delta= relativedelta.relativedelta(today,dtob)\n",
    "    return (round((delta.years+(delta.months/12)), 2))"
   ]
  },
  {
   "cell_type": "code",
   "execution_count": 5,
   "metadata": {},
   "outputs": [],
   "source": [
    "establish_age=df['Established Date'].dt.date\n",
    "Age = [0] * len(establish_age)\n",
    "for  i in range(0,len(establish_age)):\n",
    "    Age[i]=calculate_age(establish_age[i])\n",
    "df['Age']= Age\n",
    "df=df.drop(['Established Date'], axis = 1)"
   ]
  },
  {
   "cell_type": "code",
   "execution_count": 6,
   "metadata": {},
   "outputs": [],
   "source": [
    "Tenure=df['Tenure'].dt.date\n",
    "Tenure_ = [0] * len(Tenure)\n",
    "for  i in range(0,len(Tenure)):\n",
    "    Tenure_[i]=calculate_age(Tenure[i])\n",
    "df['Tenure_']=Tenure_\n",
    "df=df.drop(['Tenure'], axis = 1)"
   ]
  },
  {
   "cell_type": "code",
   "execution_count": 7,
   "metadata": {},
   "outputs": [
    {
     "name": "stdout",
     "output_type": "stream",
     "text": [
      "Data Types Object -Unique\n",
      "['A' 'B' 'C']\n",
      "['Manufaturing' 'Services' 'NBFI']\n",
      "['Large_customer' 'Small_customer' 'Mid_customer']\n",
      "['Yes' 'No']\n",
      "['High Proximity' 'Low Proximity' 'Medium Proximity']\n",
      "['No' 'Yes']\n"
     ]
    }
   ],
   "source": [
    "print('Data Types Object -Unique')\n",
    "print(df['CreditRating'].unique())\n",
    "print(df['Industry'].unique())\n",
    "print(df['CustomerSegment'].unique())\n",
    "print(df['HasCrCard'].unique())\n",
    "print(df['DistanceToResidence'].unique())\n",
    "print(df['Exit'].unique())"
   ]
  },
  {
   "cell_type": "code",
   "execution_count": 8,
   "metadata": {},
   "outputs": [],
   "source": [
    "# converts categorical features to integers\n",
    "\n",
    "def label_encoder(data_: df, columns_name_: list):\n",
    "    le = LabelEncoder()\n",
    "    for i in columns_name_:\n",
    "        le.fit(data_[i])\n",
    "        data_[i] = le.transform(data_[i])\n",
    "    return data_"
   ]
  },
  {
   "cell_type": "code",
   "execution_count": 9,
   "metadata": {},
   "outputs": [
    {
     "data": {
      "text/html": [
       "<div>\n",
       "<style scoped>\n",
       "    .dataframe tbody tr th:only-of-type {\n",
       "        vertical-align: middle;\n",
       "    }\n",
       "\n",
       "    .dataframe tbody tr th {\n",
       "        vertical-align: top;\n",
       "    }\n",
       "\n",
       "    .dataframe thead th {\n",
       "        text-align: right;\n",
       "    }\n",
       "</style>\n",
       "<table border=\"1\" class=\"dataframe\">\n",
       "  <thead>\n",
       "    <tr style=\"text-align: right;\">\n",
       "      <th></th>\n",
       "      <th>CustomerId</th>\n",
       "      <th>CreditRating</th>\n",
       "      <th>Customer Address</th>\n",
       "      <th>Industry</th>\n",
       "      <th>CustomerSegment</th>\n",
       "      <th>Turnover</th>\n",
       "      <th>DistanceToResidence</th>\n",
       "      <th>NumOfProducts</th>\n",
       "      <th>Liquidity</th>\n",
       "      <th>Payments</th>\n",
       "      <th>...</th>\n",
       "      <th>Payments made after due date</th>\n",
       "      <th># of cancelled Bills in last 6 Months</th>\n",
       "      <th># of cancelled Paymnets in last 6 Months</th>\n",
       "      <th># of credit adjustments in last 6 Months</th>\n",
       "      <th># of debit adjustments in last 6 Months</th>\n",
       "      <th># of reversed/cancelled adjustments in last 6 Months</th>\n",
       "      <th># of complains</th>\n",
       "      <th>Exit</th>\n",
       "      <th>Age</th>\n",
       "      <th>Tenure_</th>\n",
       "    </tr>\n",
       "  </thead>\n",
       "  <tbody>\n",
       "    <tr>\n",
       "      <th>0</th>\n",
       "      <td>C001</td>\n",
       "      <td>A</td>\n",
       "      <td>Cust_Addr_1</td>\n",
       "      <td>Manufaturing</td>\n",
       "      <td>Large_customer</td>\n",
       "      <td>12000000000</td>\n",
       "      <td>High Proximity</td>\n",
       "      <td>238</td>\n",
       "      <td>700</td>\n",
       "      <td>36000</td>\n",
       "      <td>...</td>\n",
       "      <td>7</td>\n",
       "      <td>8</td>\n",
       "      <td>9</td>\n",
       "      <td>7</td>\n",
       "      <td>8</td>\n",
       "      <td>6</td>\n",
       "      <td>42</td>\n",
       "      <td>No</td>\n",
       "      <td>25.67</td>\n",
       "      <td>5.75</td>\n",
       "    </tr>\n",
       "    <tr>\n",
       "      <th>1</th>\n",
       "      <td>C002</td>\n",
       "      <td>B</td>\n",
       "      <td>Cust_Addr_2</td>\n",
       "      <td>Services</td>\n",
       "      <td>Large_customer</td>\n",
       "      <td>11000050000</td>\n",
       "      <td>High Proximity</td>\n",
       "      <td>261</td>\n",
       "      <td>750</td>\n",
       "      <td>23000</td>\n",
       "      <td>...</td>\n",
       "      <td>8</td>\n",
       "      <td>9</td>\n",
       "      <td>1</td>\n",
       "      <td>8</td>\n",
       "      <td>4</td>\n",
       "      <td>7</td>\n",
       "      <td>17</td>\n",
       "      <td>No</td>\n",
       "      <td>25.67</td>\n",
       "      <td>12.67</td>\n",
       "    </tr>\n",
       "    <tr>\n",
       "      <th>2</th>\n",
       "      <td>C003</td>\n",
       "      <td>A</td>\n",
       "      <td>Cust_Addr_3</td>\n",
       "      <td>NBFI</td>\n",
       "      <td>Large_customer</td>\n",
       "      <td>9000100000</td>\n",
       "      <td>Low Proximity</td>\n",
       "      <td>284</td>\n",
       "      <td>800</td>\n",
       "      <td>10000</td>\n",
       "      <td>...</td>\n",
       "      <td>10</td>\n",
       "      <td>2</td>\n",
       "      <td>5</td>\n",
       "      <td>10</td>\n",
       "      <td>11</td>\n",
       "      <td>9</td>\n",
       "      <td>21</td>\n",
       "      <td>No</td>\n",
       "      <td>25.58</td>\n",
       "      <td>12.67</td>\n",
       "    </tr>\n",
       "    <tr>\n",
       "      <th>3</th>\n",
       "      <td>C004</td>\n",
       "      <td>A</td>\n",
       "      <td>Cust_Addr_4</td>\n",
       "      <td>Manufaturing</td>\n",
       "      <td>Large_customer</td>\n",
       "      <td>10000150000</td>\n",
       "      <td>High Proximity</td>\n",
       "      <td>307</td>\n",
       "      <td>120</td>\n",
       "      <td>67000</td>\n",
       "      <td>...</td>\n",
       "      <td>6</td>\n",
       "      <td>3</td>\n",
       "      <td>1</td>\n",
       "      <td>11</td>\n",
       "      <td>4</td>\n",
       "      <td>4</td>\n",
       "      <td>4</td>\n",
       "      <td>No</td>\n",
       "      <td>25.50</td>\n",
       "      <td>10.58</td>\n",
       "    </tr>\n",
       "    <tr>\n",
       "      <th>4</th>\n",
       "      <td>C005</td>\n",
       "      <td>B</td>\n",
       "      <td>Cust_Addr_5</td>\n",
       "      <td>Services</td>\n",
       "      <td>Large_customer</td>\n",
       "      <td>8000200000</td>\n",
       "      <td>High Proximity</td>\n",
       "      <td>330</td>\n",
       "      <td>154</td>\n",
       "      <td>48500</td>\n",
       "      <td>...</td>\n",
       "      <td>3</td>\n",
       "      <td>2</td>\n",
       "      <td>6</td>\n",
       "      <td>12</td>\n",
       "      <td>2</td>\n",
       "      <td>11</td>\n",
       "      <td>10</td>\n",
       "      <td>No</td>\n",
       "      <td>25.50</td>\n",
       "      <td>5.50</td>\n",
       "    </tr>\n",
       "    <tr>\n",
       "      <th>5</th>\n",
       "      <td>C006</td>\n",
       "      <td>C</td>\n",
       "      <td>Cust_Addr_6</td>\n",
       "      <td>NBFI</td>\n",
       "      <td>Large_customer</td>\n",
       "      <td>10000250000</td>\n",
       "      <td>High Proximity</td>\n",
       "      <td>353</td>\n",
       "      <td>129</td>\n",
       "      <td>6000</td>\n",
       "      <td>...</td>\n",
       "      <td>8</td>\n",
       "      <td>9</td>\n",
       "      <td>1</td>\n",
       "      <td>8</td>\n",
       "      <td>9</td>\n",
       "      <td>7</td>\n",
       "      <td>22</td>\n",
       "      <td>No</td>\n",
       "      <td>22.42</td>\n",
       "      <td>8.50</td>\n",
       "    </tr>\n",
       "    <tr>\n",
       "      <th>6</th>\n",
       "      <td>C007</td>\n",
       "      <td>A</td>\n",
       "      <td>Cust_Addr_7</td>\n",
       "      <td>Manufaturing</td>\n",
       "      <td>Large_customer</td>\n",
       "      <td>7000300000</td>\n",
       "      <td>High Proximity</td>\n",
       "      <td>214</td>\n",
       "      <td>70</td>\n",
       "      <td>66100</td>\n",
       "      <td>...</td>\n",
       "      <td>9</td>\n",
       "      <td>4</td>\n",
       "      <td>3</td>\n",
       "      <td>4</td>\n",
       "      <td>4</td>\n",
       "      <td>8</td>\n",
       "      <td>11</td>\n",
       "      <td>No</td>\n",
       "      <td>25.33</td>\n",
       "      <td>6.42</td>\n",
       "    </tr>\n",
       "    <tr>\n",
       "      <th>7</th>\n",
       "      <td>C008</td>\n",
       "      <td>B</td>\n",
       "      <td>Cust_Addr_8</td>\n",
       "      <td>Services</td>\n",
       "      <td>Large_customer</td>\n",
       "      <td>4000350000</td>\n",
       "      <td>High Proximity</td>\n",
       "      <td>399</td>\n",
       "      <td>10</td>\n",
       "      <td>3200</td>\n",
       "      <td>...</td>\n",
       "      <td>5</td>\n",
       "      <td>2</td>\n",
       "      <td>3</td>\n",
       "      <td>10</td>\n",
       "      <td>11</td>\n",
       "      <td>9</td>\n",
       "      <td>11</td>\n",
       "      <td>No</td>\n",
       "      <td>22.33</td>\n",
       "      <td>6.33</td>\n",
       "    </tr>\n",
       "    <tr>\n",
       "      <th>8</th>\n",
       "      <td>C009</td>\n",
       "      <td>B</td>\n",
       "      <td>Cust_Addr_9</td>\n",
       "      <td>NBFI</td>\n",
       "      <td>Large_customer</td>\n",
       "      <td>7000400000</td>\n",
       "      <td>Low Proximity</td>\n",
       "      <td>422</td>\n",
       "      <td>15</td>\n",
       "      <td>4000</td>\n",
       "      <td>...</td>\n",
       "      <td>4</td>\n",
       "      <td>7</td>\n",
       "      <td>1</td>\n",
       "      <td>2</td>\n",
       "      <td>12</td>\n",
       "      <td>10</td>\n",
       "      <td>11</td>\n",
       "      <td>No</td>\n",
       "      <td>25.25</td>\n",
       "      <td>4.25</td>\n",
       "    </tr>\n",
       "    <tr>\n",
       "      <th>9</th>\n",
       "      <td>C010</td>\n",
       "      <td>A</td>\n",
       "      <td>Cust_Addr_10</td>\n",
       "      <td>Manufaturing</td>\n",
       "      <td>Large_customer</td>\n",
       "      <td>9000450000</td>\n",
       "      <td>High Proximity</td>\n",
       "      <td>76</td>\n",
       "      <td>683</td>\n",
       "      <td>36017</td>\n",
       "      <td>...</td>\n",
       "      <td>7</td>\n",
       "      <td>8</td>\n",
       "      <td>9</td>\n",
       "      <td>7</td>\n",
       "      <td>8</td>\n",
       "      <td>6</td>\n",
       "      <td>11</td>\n",
       "      <td>No</td>\n",
       "      <td>25.17</td>\n",
       "      <td>4.58</td>\n",
       "    </tr>\n",
       "  </tbody>\n",
       "</table>\n",
       "<p>10 rows × 27 columns</p>\n",
       "</div>"
      ],
      "text/plain": [
       "  CustomerId CreditRating Customer Address      Industry CustomerSegment  \\\n",
       "0       C001            A      Cust_Addr_1  Manufaturing  Large_customer   \n",
       "1       C002            B      Cust_Addr_2      Services  Large_customer   \n",
       "2       C003            A      Cust_Addr_3          NBFI  Large_customer   \n",
       "3       C004            A      Cust_Addr_4  Manufaturing  Large_customer   \n",
       "4       C005            B      Cust_Addr_5      Services  Large_customer   \n",
       "5       C006            C      Cust_Addr_6          NBFI  Large_customer   \n",
       "6       C007            A      Cust_Addr_7  Manufaturing  Large_customer   \n",
       "7       C008            B      Cust_Addr_8      Services  Large_customer   \n",
       "8       C009            B      Cust_Addr_9          NBFI  Large_customer   \n",
       "9       C010            A     Cust_Addr_10  Manufaturing  Large_customer   \n",
       "\n",
       "      Turnover DistanceToResidence  NumOfProducts  Liquidity  Payments  ...  \\\n",
       "0  12000000000      High Proximity            238        700     36000  ...   \n",
       "1  11000050000      High Proximity            261        750     23000  ...   \n",
       "2   9000100000       Low Proximity            284        800     10000  ...   \n",
       "3  10000150000      High Proximity            307        120     67000  ...   \n",
       "4   8000200000      High Proximity            330        154     48500  ...   \n",
       "5  10000250000      High Proximity            353        129      6000  ...   \n",
       "6   7000300000      High Proximity            214         70     66100  ...   \n",
       "7   4000350000      High Proximity            399         10      3200  ...   \n",
       "8   7000400000       Low Proximity            422         15      4000  ...   \n",
       "9   9000450000      High Proximity             76        683     36017  ...   \n",
       "\n",
       "   Payments made after due date  # of cancelled Bills in last 6 Months  \\\n",
       "0                             7                                      8   \n",
       "1                             8                                      9   \n",
       "2                            10                                      2   \n",
       "3                             6                                      3   \n",
       "4                             3                                      2   \n",
       "5                             8                                      9   \n",
       "6                             9                                      4   \n",
       "7                             5                                      2   \n",
       "8                             4                                      7   \n",
       "9                             7                                      8   \n",
       "\n",
       "   # of cancelled Paymnets in last 6 Months  \\\n",
       "0                                         9   \n",
       "1                                         1   \n",
       "2                                         5   \n",
       "3                                         1   \n",
       "4                                         6   \n",
       "5                                         1   \n",
       "6                                         3   \n",
       "7                                         3   \n",
       "8                                         1   \n",
       "9                                         9   \n",
       "\n",
       "  # of credit adjustments in last 6 Months  \\\n",
       "0                                        7   \n",
       "1                                        8   \n",
       "2                                       10   \n",
       "3                                       11   \n",
       "4                                       12   \n",
       "5                                        8   \n",
       "6                                        4   \n",
       "7                                       10   \n",
       "8                                        2   \n",
       "9                                        7   \n",
       "\n",
       "   # of debit adjustments in last 6 Months  \\\n",
       "0                                        8   \n",
       "1                                        4   \n",
       "2                                       11   \n",
       "3                                        4   \n",
       "4                                        2   \n",
       "5                                        9   \n",
       "6                                        4   \n",
       "7                                       11   \n",
       "8                                       12   \n",
       "9                                        8   \n",
       "\n",
       "   # of reversed/cancelled adjustments in last 6 Months  # of complains   \\\n",
       "0                                                  6                  42   \n",
       "1                                                  7                  17   \n",
       "2                                                  9                  21   \n",
       "3                                                  4                   4   \n",
       "4                                                 11                  10   \n",
       "5                                                  7                  22   \n",
       "6                                                  8                  11   \n",
       "7                                                  9                  11   \n",
       "8                                                 10                  11   \n",
       "9                                                  6                  11   \n",
       "\n",
       "   Exit    Age  Tenure_  \n",
       "0    No  25.67     5.75  \n",
       "1    No  25.67    12.67  \n",
       "2    No  25.58    12.67  \n",
       "3    No  25.50    10.58  \n",
       "4    No  25.50     5.50  \n",
       "5    No  22.42     8.50  \n",
       "6    No  25.33     6.42  \n",
       "7    No  22.33     6.33  \n",
       "8    No  25.25     4.25  \n",
       "9    No  25.17     4.58  \n",
       "\n",
       "[10 rows x 27 columns]"
      ]
     },
     "execution_count": 9,
     "metadata": {},
     "output_type": "execute_result"
    }
   ],
   "source": [
    "df.head(10)"
   ]
  },
  {
   "cell_type": "code",
   "execution_count": 10,
   "metadata": {},
   "outputs": [],
   "source": [
    "\n",
    "df = label_encoder(df, ['CreditRating'])\n",
    "df = label_encoder(df, ['DistanceToResidence'])\n",
    "df = label_encoder(df, ['HasCrCard'])\n",
    "df = label_encoder(df, ['Exit'])\n"
   ]
  },
  {
   "cell_type": "code",
   "execution_count": 11,
   "metadata": {},
   "outputs": [
    {
     "data": {
      "text/html": [
       "<div>\n",
       "<style scoped>\n",
       "    .dataframe tbody tr th:only-of-type {\n",
       "        vertical-align: middle;\n",
       "    }\n",
       "\n",
       "    .dataframe tbody tr th {\n",
       "        vertical-align: top;\n",
       "    }\n",
       "\n",
       "    .dataframe thead th {\n",
       "        text-align: right;\n",
       "    }\n",
       "</style>\n",
       "<table border=\"1\" class=\"dataframe\">\n",
       "  <thead>\n",
       "    <tr style=\"text-align: right;\">\n",
       "      <th></th>\n",
       "      <th>CustomerId</th>\n",
       "      <th>CreditRating</th>\n",
       "      <th>Customer Address</th>\n",
       "      <th>Industry</th>\n",
       "      <th>CustomerSegment</th>\n",
       "      <th>Turnover</th>\n",
       "      <th>DistanceToResidence</th>\n",
       "      <th>NumOfProducts</th>\n",
       "      <th>Liquidity</th>\n",
       "      <th>Payments</th>\n",
       "      <th>...</th>\n",
       "      <th>Payments made after due date</th>\n",
       "      <th># of cancelled Bills in last 6 Months</th>\n",
       "      <th># of cancelled Paymnets in last 6 Months</th>\n",
       "      <th># of credit adjustments in last 6 Months</th>\n",
       "      <th># of debit adjustments in last 6 Months</th>\n",
       "      <th># of reversed/cancelled adjustments in last 6 Months</th>\n",
       "      <th># of complains</th>\n",
       "      <th>Exit</th>\n",
       "      <th>Age</th>\n",
       "      <th>Tenure_</th>\n",
       "    </tr>\n",
       "  </thead>\n",
       "  <tbody>\n",
       "    <tr>\n",
       "      <th>0</th>\n",
       "      <td>C001</td>\n",
       "      <td>0</td>\n",
       "      <td>Cust_Addr_1</td>\n",
       "      <td>Manufaturing</td>\n",
       "      <td>Large_customer</td>\n",
       "      <td>12000000000</td>\n",
       "      <td>0</td>\n",
       "      <td>238</td>\n",
       "      <td>700</td>\n",
       "      <td>36000</td>\n",
       "      <td>...</td>\n",
       "      <td>7</td>\n",
       "      <td>8</td>\n",
       "      <td>9</td>\n",
       "      <td>7</td>\n",
       "      <td>8</td>\n",
       "      <td>6</td>\n",
       "      <td>42</td>\n",
       "      <td>0</td>\n",
       "      <td>25.67</td>\n",
       "      <td>5.75</td>\n",
       "    </tr>\n",
       "    <tr>\n",
       "      <th>1</th>\n",
       "      <td>C002</td>\n",
       "      <td>1</td>\n",
       "      <td>Cust_Addr_2</td>\n",
       "      <td>Services</td>\n",
       "      <td>Large_customer</td>\n",
       "      <td>11000050000</td>\n",
       "      <td>0</td>\n",
       "      <td>261</td>\n",
       "      <td>750</td>\n",
       "      <td>23000</td>\n",
       "      <td>...</td>\n",
       "      <td>8</td>\n",
       "      <td>9</td>\n",
       "      <td>1</td>\n",
       "      <td>8</td>\n",
       "      <td>4</td>\n",
       "      <td>7</td>\n",
       "      <td>17</td>\n",
       "      <td>0</td>\n",
       "      <td>25.67</td>\n",
       "      <td>12.67</td>\n",
       "    </tr>\n",
       "    <tr>\n",
       "      <th>2</th>\n",
       "      <td>C003</td>\n",
       "      <td>0</td>\n",
       "      <td>Cust_Addr_3</td>\n",
       "      <td>NBFI</td>\n",
       "      <td>Large_customer</td>\n",
       "      <td>9000100000</td>\n",
       "      <td>1</td>\n",
       "      <td>284</td>\n",
       "      <td>800</td>\n",
       "      <td>10000</td>\n",
       "      <td>...</td>\n",
       "      <td>10</td>\n",
       "      <td>2</td>\n",
       "      <td>5</td>\n",
       "      <td>10</td>\n",
       "      <td>11</td>\n",
       "      <td>9</td>\n",
       "      <td>21</td>\n",
       "      <td>0</td>\n",
       "      <td>25.58</td>\n",
       "      <td>12.67</td>\n",
       "    </tr>\n",
       "    <tr>\n",
       "      <th>3</th>\n",
       "      <td>C004</td>\n",
       "      <td>0</td>\n",
       "      <td>Cust_Addr_4</td>\n",
       "      <td>Manufaturing</td>\n",
       "      <td>Large_customer</td>\n",
       "      <td>10000150000</td>\n",
       "      <td>0</td>\n",
       "      <td>307</td>\n",
       "      <td>120</td>\n",
       "      <td>67000</td>\n",
       "      <td>...</td>\n",
       "      <td>6</td>\n",
       "      <td>3</td>\n",
       "      <td>1</td>\n",
       "      <td>11</td>\n",
       "      <td>4</td>\n",
       "      <td>4</td>\n",
       "      <td>4</td>\n",
       "      <td>0</td>\n",
       "      <td>25.50</td>\n",
       "      <td>10.58</td>\n",
       "    </tr>\n",
       "    <tr>\n",
       "      <th>4</th>\n",
       "      <td>C005</td>\n",
       "      <td>1</td>\n",
       "      <td>Cust_Addr_5</td>\n",
       "      <td>Services</td>\n",
       "      <td>Large_customer</td>\n",
       "      <td>8000200000</td>\n",
       "      <td>0</td>\n",
       "      <td>330</td>\n",
       "      <td>154</td>\n",
       "      <td>48500</td>\n",
       "      <td>...</td>\n",
       "      <td>3</td>\n",
       "      <td>2</td>\n",
       "      <td>6</td>\n",
       "      <td>12</td>\n",
       "      <td>2</td>\n",
       "      <td>11</td>\n",
       "      <td>10</td>\n",
       "      <td>0</td>\n",
       "      <td>25.50</td>\n",
       "      <td>5.50</td>\n",
       "    </tr>\n",
       "    <tr>\n",
       "      <th>5</th>\n",
       "      <td>C006</td>\n",
       "      <td>2</td>\n",
       "      <td>Cust_Addr_6</td>\n",
       "      <td>NBFI</td>\n",
       "      <td>Large_customer</td>\n",
       "      <td>10000250000</td>\n",
       "      <td>0</td>\n",
       "      <td>353</td>\n",
       "      <td>129</td>\n",
       "      <td>6000</td>\n",
       "      <td>...</td>\n",
       "      <td>8</td>\n",
       "      <td>9</td>\n",
       "      <td>1</td>\n",
       "      <td>8</td>\n",
       "      <td>9</td>\n",
       "      <td>7</td>\n",
       "      <td>22</td>\n",
       "      <td>0</td>\n",
       "      <td>22.42</td>\n",
       "      <td>8.50</td>\n",
       "    </tr>\n",
       "    <tr>\n",
       "      <th>6</th>\n",
       "      <td>C007</td>\n",
       "      <td>0</td>\n",
       "      <td>Cust_Addr_7</td>\n",
       "      <td>Manufaturing</td>\n",
       "      <td>Large_customer</td>\n",
       "      <td>7000300000</td>\n",
       "      <td>0</td>\n",
       "      <td>214</td>\n",
       "      <td>70</td>\n",
       "      <td>66100</td>\n",
       "      <td>...</td>\n",
       "      <td>9</td>\n",
       "      <td>4</td>\n",
       "      <td>3</td>\n",
       "      <td>4</td>\n",
       "      <td>4</td>\n",
       "      <td>8</td>\n",
       "      <td>11</td>\n",
       "      <td>0</td>\n",
       "      <td>25.33</td>\n",
       "      <td>6.42</td>\n",
       "    </tr>\n",
       "    <tr>\n",
       "      <th>7</th>\n",
       "      <td>C008</td>\n",
       "      <td>1</td>\n",
       "      <td>Cust_Addr_8</td>\n",
       "      <td>Services</td>\n",
       "      <td>Large_customer</td>\n",
       "      <td>4000350000</td>\n",
       "      <td>0</td>\n",
       "      <td>399</td>\n",
       "      <td>10</td>\n",
       "      <td>3200</td>\n",
       "      <td>...</td>\n",
       "      <td>5</td>\n",
       "      <td>2</td>\n",
       "      <td>3</td>\n",
       "      <td>10</td>\n",
       "      <td>11</td>\n",
       "      <td>9</td>\n",
       "      <td>11</td>\n",
       "      <td>0</td>\n",
       "      <td>22.33</td>\n",
       "      <td>6.33</td>\n",
       "    </tr>\n",
       "    <tr>\n",
       "      <th>8</th>\n",
       "      <td>C009</td>\n",
       "      <td>1</td>\n",
       "      <td>Cust_Addr_9</td>\n",
       "      <td>NBFI</td>\n",
       "      <td>Large_customer</td>\n",
       "      <td>7000400000</td>\n",
       "      <td>1</td>\n",
       "      <td>422</td>\n",
       "      <td>15</td>\n",
       "      <td>4000</td>\n",
       "      <td>...</td>\n",
       "      <td>4</td>\n",
       "      <td>7</td>\n",
       "      <td>1</td>\n",
       "      <td>2</td>\n",
       "      <td>12</td>\n",
       "      <td>10</td>\n",
       "      <td>11</td>\n",
       "      <td>0</td>\n",
       "      <td>25.25</td>\n",
       "      <td>4.25</td>\n",
       "    </tr>\n",
       "    <tr>\n",
       "      <th>9</th>\n",
       "      <td>C010</td>\n",
       "      <td>0</td>\n",
       "      <td>Cust_Addr_10</td>\n",
       "      <td>Manufaturing</td>\n",
       "      <td>Large_customer</td>\n",
       "      <td>9000450000</td>\n",
       "      <td>0</td>\n",
       "      <td>76</td>\n",
       "      <td>683</td>\n",
       "      <td>36017</td>\n",
       "      <td>...</td>\n",
       "      <td>7</td>\n",
       "      <td>8</td>\n",
       "      <td>9</td>\n",
       "      <td>7</td>\n",
       "      <td>8</td>\n",
       "      <td>6</td>\n",
       "      <td>11</td>\n",
       "      <td>0</td>\n",
       "      <td>25.17</td>\n",
       "      <td>4.58</td>\n",
       "    </tr>\n",
       "  </tbody>\n",
       "</table>\n",
       "<p>10 rows × 27 columns</p>\n",
       "</div>"
      ],
      "text/plain": [
       "  CustomerId  CreditRating Customer Address      Industry CustomerSegment  \\\n",
       "0       C001             0      Cust_Addr_1  Manufaturing  Large_customer   \n",
       "1       C002             1      Cust_Addr_2      Services  Large_customer   \n",
       "2       C003             0      Cust_Addr_3          NBFI  Large_customer   \n",
       "3       C004             0      Cust_Addr_4  Manufaturing  Large_customer   \n",
       "4       C005             1      Cust_Addr_5      Services  Large_customer   \n",
       "5       C006             2      Cust_Addr_6          NBFI  Large_customer   \n",
       "6       C007             0      Cust_Addr_7  Manufaturing  Large_customer   \n",
       "7       C008             1      Cust_Addr_8      Services  Large_customer   \n",
       "8       C009             1      Cust_Addr_9          NBFI  Large_customer   \n",
       "9       C010             0     Cust_Addr_10  Manufaturing  Large_customer   \n",
       "\n",
       "      Turnover  DistanceToResidence  NumOfProducts  Liquidity  Payments  ...  \\\n",
       "0  12000000000                    0            238        700     36000  ...   \n",
       "1  11000050000                    0            261        750     23000  ...   \n",
       "2   9000100000                    1            284        800     10000  ...   \n",
       "3  10000150000                    0            307        120     67000  ...   \n",
       "4   8000200000                    0            330        154     48500  ...   \n",
       "5  10000250000                    0            353        129      6000  ...   \n",
       "6   7000300000                    0            214         70     66100  ...   \n",
       "7   4000350000                    0            399         10      3200  ...   \n",
       "8   7000400000                    1            422         15      4000  ...   \n",
       "9   9000450000                    0             76        683     36017  ...   \n",
       "\n",
       "   Payments made after due date  # of cancelled Bills in last 6 Months  \\\n",
       "0                             7                                      8   \n",
       "1                             8                                      9   \n",
       "2                            10                                      2   \n",
       "3                             6                                      3   \n",
       "4                             3                                      2   \n",
       "5                             8                                      9   \n",
       "6                             9                                      4   \n",
       "7                             5                                      2   \n",
       "8                             4                                      7   \n",
       "9                             7                                      8   \n",
       "\n",
       "   # of cancelled Paymnets in last 6 Months  \\\n",
       "0                                         9   \n",
       "1                                         1   \n",
       "2                                         5   \n",
       "3                                         1   \n",
       "4                                         6   \n",
       "5                                         1   \n",
       "6                                         3   \n",
       "7                                         3   \n",
       "8                                         1   \n",
       "9                                         9   \n",
       "\n",
       "   # of credit adjustments in last 6 Months  \\\n",
       "0                                         7   \n",
       "1                                         8   \n",
       "2                                        10   \n",
       "3                                        11   \n",
       "4                                        12   \n",
       "5                                         8   \n",
       "6                                         4   \n",
       "7                                        10   \n",
       "8                                         2   \n",
       "9                                         7   \n",
       "\n",
       "   # of debit adjustments in last 6 Months  \\\n",
       "0                                        8   \n",
       "1                                        4   \n",
       "2                                       11   \n",
       "3                                        4   \n",
       "4                                        2   \n",
       "5                                        9   \n",
       "6                                        4   \n",
       "7                                       11   \n",
       "8                                       12   \n",
       "9                                        8   \n",
       "\n",
       "   # of reversed/cancelled adjustments in last 6 Months  # of complains   \\\n",
       "0                                                  6                  42   \n",
       "1                                                  7                  17   \n",
       "2                                                  9                  21   \n",
       "3                                                  4                   4   \n",
       "4                                                 11                  10   \n",
       "5                                                  7                  22   \n",
       "6                                                  8                  11   \n",
       "7                                                  9                  11   \n",
       "8                                                 10                  11   \n",
       "9                                                  6                  11   \n",
       "\n",
       "   Exit    Age  Tenure_  \n",
       "0     0  25.67     5.75  \n",
       "1     0  25.67    12.67  \n",
       "2     0  25.58    12.67  \n",
       "3     0  25.50    10.58  \n",
       "4     0  25.50     5.50  \n",
       "5     0  22.42     8.50  \n",
       "6     0  25.33     6.42  \n",
       "7     0  22.33     6.33  \n",
       "8     0  25.25     4.25  \n",
       "9     0  25.17     4.58  \n",
       "\n",
       "[10 rows x 27 columns]"
      ]
     },
     "execution_count": 11,
     "metadata": {},
     "output_type": "execute_result"
    }
   ],
   "source": [
    "df.head(10)"
   ]
  },
  {
   "cell_type": "code",
   "execution_count": 12,
   "metadata": {},
   "outputs": [
    {
     "data": {
      "text/plain": [
       "'\\nIndustry = pd.get_dummies(df.Industry)\\ndf = pd.concat([df, Industry], axis=1)\\n\\nCust_Seg = pd.get_dummies(df.CustomerSegment)\\ndf = pd.concat([df, Cust_Seg], axis=1)\\n'"
      ]
     },
     "execution_count": 12,
     "metadata": {},
     "output_type": "execute_result"
    }
   ],
   "source": [
    "'''\n",
    "Industry = pd.get_dummies(df.Industry)\n",
    "df = pd.concat([df, Industry], axis=1)\n",
    "\n",
    "Cust_Seg = pd.get_dummies(df.CustomerSegment)\n",
    "df = pd.concat([df, Cust_Seg], axis=1)\n",
    "'''"
   ]
  },
  {
   "cell_type": "code",
   "execution_count": 13,
   "metadata": {},
   "outputs": [],
   "source": [
    "df=pd.get_dummies(df,columns=['Industry','CustomerSegment'],drop_first=True)"
   ]
  },
  {
   "cell_type": "code",
   "execution_count": 14,
   "metadata": {},
   "outputs": [
    {
     "data": {
      "text/plain": [
       "<AxesSubplot:>"
      ]
     },
     "execution_count": 14,
     "metadata": {},
     "output_type": "execute_result"
    },
    {
     "data": {
      "image/png": "[encoded data removed]",
      "text/plain": [
       "<Figure size 720x720 with 2 Axes>"
      ]
     },
     "metadata": {
      "needs_background": "light"
     },
     "output_type": "display_data"
    }
   ],
   "source": [
    "# correlation table\n",
    "\n",
    "corr = df.corr()\n",
    "f, ax = plt.subplots(figsize=(10, 10))\n",
    "cmap = sns.diverging_palette(220, 10, as_cmap=True)\n",
    "sns.heatmap(corr, mask=None, cmap=cmap, vmax=.3, center=0,\n",
    "            square=True, linewidths=.5, cbar_kws={\"shrink\": .5})"
   ]
  },
  {
   "cell_type": "code",
   "execution_count": 15,
   "metadata": {},
   "outputs": [
    {
     "data": {
      "text/html": [
       "<div>\n",
       "<style scoped>\n",
       "    .dataframe tbody tr th:only-of-type {\n",
       "        vertical-align: middle;\n",
       "    }\n",
       "\n",
       "    .dataframe tbody tr th {\n",
       "        vertical-align: top;\n",
       "    }\n",
       "\n",
       "    .dataframe thead th {\n",
       "        text-align: right;\n",
       "    }\n",
       "</style>\n",
       "<table border=\"1\" class=\"dataframe\">\n",
       "  <thead>\n",
       "    <tr style=\"text-align: right;\">\n",
       "      <th></th>\n",
       "      <th>CustomerId</th>\n",
       "      <th>CreditRating</th>\n",
       "      <th>Customer Address</th>\n",
       "      <th>Turnover</th>\n",
       "      <th>DistanceToResidence</th>\n",
       "      <th>NumOfProducts</th>\n",
       "      <th>Liquidity</th>\n",
       "      <th>Payments</th>\n",
       "      <th>Lending_Loan</th>\n",
       "      <th>Trade</th>\n",
       "      <th>...</th>\n",
       "      <th># of debit adjustments in last 6 Months</th>\n",
       "      <th># of reversed/cancelled adjustments in last 6 Months</th>\n",
       "      <th># of complains</th>\n",
       "      <th>Exit</th>\n",
       "      <th>Age</th>\n",
       "      <th>Tenure_</th>\n",
       "      <th>Industry_NBFI</th>\n",
       "      <th>Industry_Services</th>\n",
       "      <th>CustomerSegment_Mid_customer</th>\n",
       "      <th>CustomerSegment_Small_customer</th>\n",
       "    </tr>\n",
       "  </thead>\n",
       "  <tbody>\n",
       "    <tr>\n",
       "      <th>0</th>\n",
       "      <td>C001</td>\n",
       "      <td>0</td>\n",
       "      <td>Cust_Addr_1</td>\n",
       "      <td>12000000000</td>\n",
       "      <td>0</td>\n",
       "      <td>238</td>\n",
       "      <td>700</td>\n",
       "      <td>36000</td>\n",
       "      <td>700000</td>\n",
       "      <td>3135300</td>\n",
       "      <td>...</td>\n",
       "      <td>8</td>\n",
       "      <td>6</td>\n",
       "      <td>42</td>\n",
       "      <td>0</td>\n",
       "      <td>25.67</td>\n",
       "      <td>5.75</td>\n",
       "      <td>0</td>\n",
       "      <td>0</td>\n",
       "      <td>0</td>\n",
       "      <td>0</td>\n",
       "    </tr>\n",
       "  </tbody>\n",
       "</table>\n",
       "<p>1 rows × 29 columns</p>\n",
       "</div>"
      ],
      "text/plain": [
       "  CustomerId  CreditRating Customer Address     Turnover  DistanceToResidence  \\\n",
       "0       C001             0      Cust_Addr_1  12000000000                    0   \n",
       "\n",
       "   NumOfProducts  Liquidity  Payments  Lending_Loan    Trade  ...  \\\n",
       "0            238        700     36000        700000  3135300  ...   \n",
       "\n",
       "   # of debit adjustments in last 6 Months  \\\n",
       "0                                        8   \n",
       "\n",
       "   # of reversed/cancelled adjustments in last 6 Months  # of complains   \\\n",
       "0                                                  6                  42   \n",
       "\n",
       "   Exit    Age  Tenure_  Industry_NBFI  Industry_Services  \\\n",
       "0     0  25.67     5.75              0                  0   \n",
       "\n",
       "   CustomerSegment_Mid_customer  CustomerSegment_Small_customer  \n",
       "0                             0                               0  \n",
       "\n",
       "[1 rows x 29 columns]"
      ]
     },
     "execution_count": 15,
     "metadata": {},
     "output_type": "execute_result"
    }
   ],
   "source": [
    "df.head(1)"
   ]
  },
  {
   "cell_type": "code",
   "execution_count": 16,
   "metadata": {},
   "outputs": [
    {
     "data": {
      "text/html": [
       "<div>\n",
       "<style scoped>\n",
       "    .dataframe tbody tr th:only-of-type {\n",
       "        vertical-align: middle;\n",
       "    }\n",
       "\n",
       "    .dataframe tbody tr th {\n",
       "        vertical-align: top;\n",
       "    }\n",
       "\n",
       "    .dataframe thead th {\n",
       "        text-align: right;\n",
       "    }\n",
       "</style>\n",
       "<table border=\"1\" class=\"dataframe\">\n",
       "  <thead>\n",
       "    <tr style=\"text-align: right;\">\n",
       "      <th></th>\n",
       "      <th># of cancelled Bills in last 6 Months</th>\n",
       "      <th># of cancelled Paymnets in last 6 Months</th>\n",
       "      <th># of credit adjustments in last 6 Months</th>\n",
       "      <th># of debit adjustments in last 6 Months</th>\n",
       "    </tr>\n",
       "  </thead>\n",
       "  <tbody>\n",
       "    <tr>\n",
       "      <th>0</th>\n",
       "      <td>8</td>\n",
       "      <td>9</td>\n",
       "      <td>7</td>\n",
       "      <td>8</td>\n",
       "    </tr>\n",
       "    <tr>\n",
       "      <th>1</th>\n",
       "      <td>9</td>\n",
       "      <td>1</td>\n",
       "      <td>8</td>\n",
       "      <td>4</td>\n",
       "    </tr>\n",
       "    <tr>\n",
       "      <th>2</th>\n",
       "      <td>2</td>\n",
       "      <td>5</td>\n",
       "      <td>10</td>\n",
       "      <td>11</td>\n",
       "    </tr>\n",
       "    <tr>\n",
       "      <th>3</th>\n",
       "      <td>3</td>\n",
       "      <td>1</td>\n",
       "      <td>11</td>\n",
       "      <td>4</td>\n",
       "    </tr>\n",
       "    <tr>\n",
       "      <th>4</th>\n",
       "      <td>2</td>\n",
       "      <td>6</td>\n",
       "      <td>12</td>\n",
       "      <td>2</td>\n",
       "    </tr>\n",
       "    <tr>\n",
       "      <th>...</th>\n",
       "      <td>...</td>\n",
       "      <td>...</td>\n",
       "      <td>...</td>\n",
       "      <td>...</td>\n",
       "    </tr>\n",
       "    <tr>\n",
       "      <th>70</th>\n",
       "      <td>2</td>\n",
       "      <td>3</td>\n",
       "      <td>1</td>\n",
       "      <td>2</td>\n",
       "    </tr>\n",
       "    <tr>\n",
       "      <th>71</th>\n",
       "      <td>2</td>\n",
       "      <td>3</td>\n",
       "      <td>1</td>\n",
       "      <td>2</td>\n",
       "    </tr>\n",
       "    <tr>\n",
       "      <th>72</th>\n",
       "      <td>3</td>\n",
       "      <td>4</td>\n",
       "      <td>2</td>\n",
       "      <td>3</td>\n",
       "    </tr>\n",
       "    <tr>\n",
       "      <th>73</th>\n",
       "      <td>3</td>\n",
       "      <td>4</td>\n",
       "      <td>2</td>\n",
       "      <td>3</td>\n",
       "    </tr>\n",
       "    <tr>\n",
       "      <th>74</th>\n",
       "      <td>2</td>\n",
       "      <td>3</td>\n",
       "      <td>1</td>\n",
       "      <td>2</td>\n",
       "    </tr>\n",
       "  </tbody>\n",
       "</table>\n",
       "<p>75 rows × 4 columns</p>\n",
       "</div>"
      ],
      "text/plain": [
       "    # of cancelled Bills in last 6 Months  \\\n",
       "0                                       8   \n",
       "1                                       9   \n",
       "2                                       2   \n",
       "3                                       3   \n",
       "4                                       2   \n",
       "..                                    ...   \n",
       "70                                      2   \n",
       "71                                      2   \n",
       "72                                      3   \n",
       "73                                      3   \n",
       "74                                      2   \n",
       "\n",
       "    # of cancelled Paymnets in last 6 Months  \\\n",
       "0                                          9   \n",
       "1                                          1   \n",
       "2                                          5   \n",
       "3                                          1   \n",
       "4                                          6   \n",
       "..                                       ...   \n",
       "70                                         3   \n",
       "71                                         3   \n",
       "72                                         4   \n",
       "73                                         4   \n",
       "74                                         3   \n",
       "\n",
       "    # of credit adjustments in last 6 Months  \\\n",
       "0                                          7   \n",
       "1                                          8   \n",
       "2                                         10   \n",
       "3                                         11   \n",
       "4                                         12   \n",
       "..                                       ...   \n",
       "70                                         1   \n",
       "71                                         1   \n",
       "72                                         2   \n",
       "73                                         2   \n",
       "74                                         1   \n",
       "\n",
       "    # of debit adjustments in last 6 Months  \n",
       "0                                         8  \n",
       "1                                         4  \n",
       "2                                        11  \n",
       "3                                         4  \n",
       "4                                         2  \n",
       "..                                      ...  \n",
       "70                                        2  \n",
       "71                                        2  \n",
       "72                                        3  \n",
       "73                                        3  \n",
       "74                                        2  \n",
       "\n",
       "[75 rows x 4 columns]"
      ]
     },
     "execution_count": 16,
     "metadata": {},
     "output_type": "execute_result"
    }
   ],
   "source": [
    "df.iloc[:, 16:20]"
   ]
  },
  {
   "cell_type": "code",
   "execution_count": 17,
   "metadata": {},
   "outputs": [],
   "source": [
    "# As all the cancllaions are highly corellated we decide to merge them into a column called cancellation\n",
    "df.loc[:,'Cancellations'] = df.iloc[:,16:22].sum(axis=1)\n",
    "\n"
   ]
  },
  {
   "cell_type": "code",
   "execution_count": 18,
   "metadata": {},
   "outputs": [],
   "source": [
    "\n",
    "df=df.drop(['# of cancelled Bills in last 6 Months','# of cancelled Paymnets in last 6 Months','# of credit adjustments in last 6 Months','# of debit adjustments in last 6 Months','# of reversed/cancelled adjustments in last 6 Months'], axis = 1)\n"
   ]
  },
  {
   "cell_type": "code",
   "execution_count": 19,
   "metadata": {},
   "outputs": [],
   "source": [
    "df['Exited']=df['Exit']"
   ]
  },
  {
   "cell_type": "code",
   "execution_count": 20,
   "metadata": {},
   "outputs": [],
   "source": [
    "#We removed Customer ID ,Customer Address\n",
    "df=df.drop(['Customer Address','CustomerId','Exit'], axis = 1)\n"
   ]
  },
  {
   "cell_type": "code",
   "execution_count": 21,
   "metadata": {},
   "outputs": [],
   "source": [
    "df= df.rename(columns={'Exited': 'Exit'})"
   ]
  },
  {
   "cell_type": "code",
   "execution_count": 22,
   "metadata": {},
   "outputs": [
    {
     "data": {
      "text/html": [
       "<div>\n",
       "<style scoped>\n",
       "    .dataframe tbody tr th:only-of-type {\n",
       "        vertical-align: middle;\n",
       "    }\n",
       "\n",
       "    .dataframe tbody tr th {\n",
       "        vertical-align: top;\n",
       "    }\n",
       "\n",
       "    .dataframe thead th {\n",
       "        text-align: right;\n",
       "    }\n",
       "</style>\n",
       "<table border=\"1\" class=\"dataframe\">\n",
       "  <thead>\n",
       "    <tr style=\"text-align: right;\">\n",
       "      <th></th>\n",
       "      <th>CreditRating</th>\n",
       "      <th>Turnover</th>\n",
       "      <th>DistanceToResidence</th>\n",
       "      <th>NumOfProducts</th>\n",
       "      <th>Liquidity</th>\n",
       "      <th>Payments</th>\n",
       "      <th>Lending_Loan</th>\n",
       "      <th>Trade</th>\n",
       "      <th>Insurance</th>\n",
       "      <th>HasCrCard</th>\n",
       "      <th>...</th>\n",
       "      <th>Payments made after due date</th>\n",
       "      <th># of complains</th>\n",
       "      <th>Age</th>\n",
       "      <th>Tenure_</th>\n",
       "      <th>Industry_NBFI</th>\n",
       "      <th>Industry_Services</th>\n",
       "      <th>CustomerSegment_Mid_customer</th>\n",
       "      <th>CustomerSegment_Small_customer</th>\n",
       "      <th>Cancellations</th>\n",
       "      <th>Exit</th>\n",
       "    </tr>\n",
       "  </thead>\n",
       "  <tbody>\n",
       "    <tr>\n",
       "      <th>0</th>\n",
       "      <td>0</td>\n",
       "      <td>12000000000</td>\n",
       "      <td>0</td>\n",
       "      <td>238</td>\n",
       "      <td>700</td>\n",
       "      <td>36000</td>\n",
       "      <td>700000</td>\n",
       "      <td>3135300</td>\n",
       "      <td>135299.5</td>\n",
       "      <td>1</td>\n",
       "      <td>...</td>\n",
       "      <td>7</td>\n",
       "      <td>42</td>\n",
       "      <td>25.67</td>\n",
       "      <td>5.75</td>\n",
       "      <td>0</td>\n",
       "      <td>0</td>\n",
       "      <td>0</td>\n",
       "      <td>0</td>\n",
       "      <td>80</td>\n",
       "      <td>0</td>\n",
       "    </tr>\n",
       "    <tr>\n",
       "      <th>1</th>\n",
       "      <td>1</td>\n",
       "      <td>11000050000</td>\n",
       "      <td>0</td>\n",
       "      <td>261</td>\n",
       "      <td>750</td>\n",
       "      <td>23000</td>\n",
       "      <td>800000</td>\n",
       "      <td>4135669</td>\n",
       "      <td>135668.5</td>\n",
       "      <td>1</td>\n",
       "      <td>...</td>\n",
       "      <td>8</td>\n",
       "      <td>17</td>\n",
       "      <td>25.67</td>\n",
       "      <td>12.67</td>\n",
       "      <td>0</td>\n",
       "      <td>1</td>\n",
       "      <td>0</td>\n",
       "      <td>0</td>\n",
       "      <td>46</td>\n",
       "      <td>0</td>\n",
       "    </tr>\n",
       "    <tr>\n",
       "      <th>2</th>\n",
       "      <td>0</td>\n",
       "      <td>9000100000</td>\n",
       "      <td>1</td>\n",
       "      <td>284</td>\n",
       "      <td>800</td>\n",
       "      <td>10000</td>\n",
       "      <td>1000000</td>\n",
       "      <td>5136038</td>\n",
       "      <td>136037.5</td>\n",
       "      <td>1</td>\n",
       "      <td>...</td>\n",
       "      <td>10</td>\n",
       "      <td>21</td>\n",
       "      <td>25.58</td>\n",
       "      <td>12.67</td>\n",
       "      <td>1</td>\n",
       "      <td>0</td>\n",
       "      <td>0</td>\n",
       "      <td>0</td>\n",
       "      <td>58</td>\n",
       "      <td>0</td>\n",
       "    </tr>\n",
       "    <tr>\n",
       "      <th>3</th>\n",
       "      <td>0</td>\n",
       "      <td>10000150000</td>\n",
       "      <td>0</td>\n",
       "      <td>307</td>\n",
       "      <td>120</td>\n",
       "      <td>67000</td>\n",
       "      <td>700000</td>\n",
       "      <td>3136407</td>\n",
       "      <td>136406.5</td>\n",
       "      <td>1</td>\n",
       "      <td>...</td>\n",
       "      <td>6</td>\n",
       "      <td>4</td>\n",
       "      <td>25.50</td>\n",
       "      <td>10.58</td>\n",
       "      <td>0</td>\n",
       "      <td>0</td>\n",
       "      <td>0</td>\n",
       "      <td>0</td>\n",
       "      <td>27</td>\n",
       "      <td>0</td>\n",
       "    </tr>\n",
       "    <tr>\n",
       "      <th>4</th>\n",
       "      <td>1</td>\n",
       "      <td>8000200000</td>\n",
       "      <td>0</td>\n",
       "      <td>330</td>\n",
       "      <td>154</td>\n",
       "      <td>48500</td>\n",
       "      <td>850000</td>\n",
       "      <td>4136776</td>\n",
       "      <td>136775.5</td>\n",
       "      <td>1</td>\n",
       "      <td>...</td>\n",
       "      <td>3</td>\n",
       "      <td>10</td>\n",
       "      <td>25.50</td>\n",
       "      <td>5.50</td>\n",
       "      <td>0</td>\n",
       "      <td>1</td>\n",
       "      <td>0</td>\n",
       "      <td>0</td>\n",
       "      <td>43</td>\n",
       "      <td>0</td>\n",
       "    </tr>\n",
       "  </tbody>\n",
       "</table>\n",
       "<p>5 rows × 23 columns</p>\n",
       "</div>"
      ],
      "text/plain": [
       "   CreditRating     Turnover  DistanceToResidence  NumOfProducts  Liquidity  \\\n",
       "0             0  12000000000                    0            238        700   \n",
       "1             1  11000050000                    0            261        750   \n",
       "2             0   9000100000                    1            284        800   \n",
       "3             0  10000150000                    0            307        120   \n",
       "4             1   8000200000                    0            330        154   \n",
       "\n",
       "   Payments  Lending_Loan    Trade  Insurance  HasCrCard  ...  \\\n",
       "0     36000        700000  3135300   135299.5          1  ...   \n",
       "1     23000        800000  4135669   135668.5          1  ...   \n",
       "2     10000       1000000  5136038   136037.5          1  ...   \n",
       "3     67000        700000  3136407   136406.5          1  ...   \n",
       "4     48500        850000  4136776   136775.5          1  ...   \n",
       "\n",
       "   Payments made after due date  # of complains     Age  Tenure_  \\\n",
       "0                             7               42  25.67     5.75   \n",
       "1                             8               17  25.67    12.67   \n",
       "2                            10               21  25.58    12.67   \n",
       "3                             6                4  25.50    10.58   \n",
       "4                             3               10  25.50     5.50   \n",
       "\n",
       "   Industry_NBFI  Industry_Services  CustomerSegment_Mid_customer  \\\n",
       "0              0                  0                             0   \n",
       "1              0                  1                             0   \n",
       "2              1                  0                             0   \n",
       "3              0                  0                             0   \n",
       "4              0                  1                             0   \n",
       "\n",
       "   CustomerSegment_Small_customer  Cancellations  Exit  \n",
       "0                               0             80     0  \n",
       "1                               0             46     0  \n",
       "2                               0             58     0  \n",
       "3                               0             27     0  \n",
       "4                               0             43     0  \n",
       "\n",
       "[5 rows x 23 columns]"
      ]
     },
     "execution_count": 22,
     "metadata": {},
     "output_type": "execute_result"
    }
   ],
   "source": [
    "df.head()"
   ]
  },
  {
   "cell_type": "code",
   "execution_count": null,
   "metadata": {},
   "outputs": [],
   "source": []
  },
  {
   "cell_type": "code",
   "execution_count": 23,
   "metadata": {},
   "outputs": [
    {
     "data": {
      "text/plain": [
       "<matplotlib.legend.Legend at 0x222f182c208>"
      ]
     },
     "execution_count": 23,
     "metadata": {},
     "output_type": "execute_result"
    },
    {
     "data": {
      "image/png": "[encoded data removed]",
      "text/plain": [
       "<Figure size 432x288 with 1 Axes>"
      ]
     },
     "metadata": {
      "needs_background": "light"
     },
     "output_type": "display_data"
    }
   ],
   "source": [
    "# Attributes distribution with respect to Prediction factor\n",
    "\n",
    "ax=plt.figure()\n",
    "ax=sns.distplot(data[df['Exit'] == 1]['Turnover'], color = 'b',label='Yes')\n",
    "ax=sns.distplot(data[df['Exit'] == 0]['Turnover'], color = 'r',label='No')\n",
    "\n",
    "ax.legend(title='Exited')\n",
    "#ML_Visuals.savefig()\n"
   ]
  },
  {
   "cell_type": "code",
   "execution_count": 24,
   "metadata": {},
   "outputs": [
    {
     "data": {
      "text/plain": [
       "<matplotlib.legend.Legend at 0x222f180b668>"
      ]
     },
     "execution_count": 24,
     "metadata": {},
     "output_type": "execute_result"
    },
    {
     "data": {
      "image/png": "[encoded data removed]",
      "text/plain": [
       "<Figure size 432x288 with 1 Axes>"
      ]
     },
     "metadata": {
      "needs_background": "light"
     },
     "output_type": "display_data"
    }
   ],
   "source": [
    "\n",
    "ax=sns.distplot(data[df['Exit'] == 1]['NumOfProducts'], color = 'b',label='Yes')\n",
    "ax=sns.distplot(data[df['Exit'] == 0]['NumOfProducts'], color = 'r',label='No')\n",
    "ax.legend(title='Exited')\n",
    "#ML_Visuals.savefig()\n"
   ]
  },
  {
   "cell_type": "code",
   "execution_count": 25,
   "metadata": {},
   "outputs": [
    {
     "data": {
      "text/plain": [
       "<matplotlib.legend.Legend at 0x222f1201a20>"
      ]
     },
     "execution_count": 25,
     "metadata": {},
     "output_type": "execute_result"
    },
    {
     "data": {
      "image/png": "[encoded data removed]",
      "text/plain": [
       "<Figure size 432x288 with 1 Axes>"
      ]
     },
     "metadata": {
      "needs_background": "light"
     },
     "output_type": "display_data"
    }
   ],
   "source": [
    "ax=sns.distplot(data[df['Exit'] == 0]['Payments'], color='r',label=\"No\")\n",
    "ax=sns.distplot(data[df['Exit'] == 1]['Payments'], color = 'b',label=\"Yes\")\n",
    "ax.legend(title='Exited')\n",
    "#ML_Visuals.savefig()\n",
    "\n"
   ]
  },
  {
   "cell_type": "code",
   "execution_count": 26,
   "metadata": {},
   "outputs": [
    {
     "data": {
      "text/plain": [
       "<matplotlib.legend.Legend at 0x222f127c860>"
      ]
     },
     "execution_count": 26,
     "metadata": {},
     "output_type": "execute_result"
    },
    {
     "data": {
      "image/png": "[encoded data removed]",
      "text/plain": [
       "<Figure size 432x288 with 1 Axes>"
      ]
     },
     "metadata": {
      "needs_background": "light"
     },
     "output_type": "display_data"
    }
   ],
   "source": [
    "ax=sns.distplot(data[df['Exit'] == 1]['Lending_Loan'], color = 'b',label=\"Lending_Loan-->Yes\")\n",
    "ax=sns.distplot(data[df['Exit'] == 0]['Lending_Loan'], color = 'r',label=\"Lending_Loan-->No\")\n",
    "ax=sns.distplot(data[df['Exit'] == 1]['Trade'], color = 'g',label=\"Trade-->Yes\")\n",
    "ax=sns.distplot(data[df['Exit'] == 0]['Trade'], color = 'grey',label=\"Trade-->No\")\n",
    "ax=sns.distplot(data[df['Exit'] == 1]['Insurance'], color = 'orange',label=\"Insurance-->Yes\")\n",
    "ax=sns.distplot(data[df['Exit'] == 0]['Insurance'], color = 'm',label=\"Insurance-->No\")\n",
    "ax.legend(title='Exited')\n",
    "#ML_Visuals.savefig()\n"
   ]
  },
  {
   "cell_type": "code",
   "execution_count": 27,
   "metadata": {},
   "outputs": [
    {
     "data": {
      "text/plain": [
       "<matplotlib.legend.Legend at 0x222f1653550>"
      ]
     },
     "execution_count": 27,
     "metadata": {},
     "output_type": "execute_result"
    },
    {
     "data": {
      "image/png": "[encoded data removed]",
      "text/plain": [
       "<Figure size 432x288 with 1 Axes>"
      ]
     },
     "metadata": {
      "needs_background": "light"
     },
     "output_type": "display_data"
    }
   ],
   "source": [
    "\n",
    "ax=sns.distplot(data[df['Exit'] == 1]['Aggregate Balance'], color = 'b',label='Yes')\n",
    "ax=sns.distplot(data[df['Exit'] == 0]['Aggregate Balance'], color = 'r',label='No')\n",
    "ax.legend(title='Exited')\n",
    "#ML_Visuals.savefig()\n"
   ]
  },
  {
   "cell_type": "code",
   "execution_count": 28,
   "metadata": {},
   "outputs": [
    {
     "data": {
      "text/plain": [
       "<matplotlib.legend.Legend at 0x222f1709c50>"
      ]
     },
     "execution_count": 28,
     "metadata": {},
     "output_type": "execute_result"
    },
    {
     "data": {
      "image/png": "[encoded data removed]",
      "text/plain": [
       "<Figure size 432x288 with 1 Axes>"
      ]
     },
     "metadata": {
      "needs_background": "light"
     },
     "output_type": "display_data"
    }
   ],
   "source": [
    "\n",
    "ax=sns.distplot(data[df['Exit'] == 1]['No Of Transactions'], color = 'b',label='Yes' )\n",
    "ax=sns.distplot(data[df['Exit'] == 0]['No Of Transactions'], color = 'r',label='No' )\n",
    "ax.legend(title='Exited')\n",
    "#ML_Visuals.savefig()\n"
   ]
  },
  {
   "cell_type": "code",
   "execution_count": 29,
   "metadata": {},
   "outputs": [
    {
     "data": {
      "text/plain": [
       "<matplotlib.legend.Legend at 0x222f176df60>"
      ]
     },
     "execution_count": 29,
     "metadata": {},
     "output_type": "execute_result"
    },
    {
     "data": {
      "image/png": "[encoded data removed]",
      "text/plain": [
       "<Figure size 432x288 with 1 Axes>"
      ]
     },
     "metadata": {
      "needs_background": "light"
     },
     "output_type": "display_data"
    }
   ],
   "source": [
    "\n",
    "\n",
    "ax=sns.distplot(data[df['Exit'] == 1]['Payments made after due date'], color = 'b',label='Yes' )\n",
    "ax=sns.distplot(data[df['Exit'] == 0]['Payments made after due date'], color = 'r',label='No' )\n",
    "ax.legend(title='Exited')\n",
    "#ML_Visuals.savefig()\n"
   ]
  },
  {
   "cell_type": "code",
   "execution_count": 30,
   "metadata": {},
   "outputs": [
    {
     "data": {
      "text/plain": [
       "[Text(0.5, 1.0, 'Years In Bank ')]"
      ]
     },
     "execution_count": 30,
     "metadata": {},
     "output_type": "execute_result"
    },
    {
     "data": {
      "image/png": "[encoded data removed]",
      "text/plain": [
       "<Figure size 432x288 with 1 Axes>"
      ]
     },
     "metadata": {
      "needs_background": "light"
     },
     "output_type": "display_data"
    }
   ],
   "source": [
    "\n",
    "ax=sns.barplot(x=round(df.Tenure_),y=round(df.Tenure_),data=df,hue=\"Exit\", palette=\"vlag\",estimator=lambda x: len(x) / len(df) * 100)\n",
    "ax.set(ylabel=\"Years In Bank\")\n",
    "ax.set(ylabel=\"Percentage\")\n",
    "ax.set(title=\"Years In Bank \")\n",
    "#ML_Visuals.savefig()"
   ]
  },
  {
   "cell_type": "code",
   "execution_count": 31,
   "metadata": {},
   "outputs": [
    {
     "data": {
      "text/plain": [
       "[Text(0, 0.5, 'Percentage')]"
      ]
     },
     "execution_count": 31,
     "metadata": {},
     "output_type": "execute_result"
    },
    {
     "data": {
      "image/png": "[encoded data removed]",
      "text/plain": [
       "<Figure size 432x288 with 1 Axes>"
      ]
     },
     "metadata": {
      "needs_background": "light"
     },
     "output_type": "display_data"
    }
   ],
   "source": [
    "\n",
    "\n",
    "#ax=plt.figure(figsize=(10,5))\n",
    "ax=sns.barplot(x=round(df.Age),y=round(df.Age),data=data,hue=\"Exit\", palette=\"vlag\" ,estimator=lambda x: len(x) / len(df) * 100)\n",
    "ax.set(ylabel=\"Age\")\n",
    "ax.set(ylabel=\"Percentage\")\n",
    "#ax.set(title=\"Age \")\n",
    "#ML_Visuals.savefig()\n"
   ]
  },
  {
   "cell_type": "code",
   "execution_count": 32,
   "metadata": {},
   "outputs": [
    {
     "data": {
      "text/plain": [
       "<matplotlib.legend.Legend at 0x222f2a4e4a8>"
      ]
     },
     "execution_count": 32,
     "metadata": {},
     "output_type": "execute_result"
    },
    {
     "data": {
      "image/png": "[encoded data removed]",
      "text/plain": [
       "<Figure size 432x288 with 1 Axes>"
      ]
     },
     "metadata": {
      "needs_background": "light"
     },
     "output_type": "display_data"
    }
   ],
   "source": [
    "ax=sns.distplot(df[df['Exit'] == 1]['Cancellations'], color = 'b',label='Yes' )\n",
    "ax=sns.distplot(df[df['Exit'] == 0]['Cancellations'], color = 'r',label='No' )\n",
    "ax.legend(title='Exited')\n",
    "#ML_Visuals.savefig()"
   ]
  },
  {
   "cell_type": "code",
   "execution_count": 33,
   "metadata": {},
   "outputs": [
    {
     "data": {
      "text/plain": [
       "<matplotlib.legend.Legend at 0x222f11c1d68>"
      ]
     },
     "execution_count": 33,
     "metadata": {},
     "output_type": "execute_result"
    },
    {
     "data": {
      "image/png": "[encoded data removed]",
      "text/plain": [
       "<Figure size 432x288 with 1 Axes>"
      ]
     },
     "metadata": {
      "needs_background": "light"
     },
     "output_type": "display_data"
    }
   ],
   "source": [
    "ax=sns.distplot(df[df['Exit'] == 1]['# of complains '], color = 'b',label='Yes' )\n",
    "ax=sns.distplot(df[df['Exit'] == 0]['# of complains '], color = 'r',label='No' )\n",
    "ax.legend(title='Exited')\n",
    "#ML_Visuals.savefig()"
   ]
  },
  {
   "cell_type": "code",
   "execution_count": 34,
   "metadata": {},
   "outputs": [
    {
     "data": {
      "text/plain": [
       "Text(0, 0.5, 'Count')"
      ]
     },
     "execution_count": 34,
     "metadata": {},
     "output_type": "execute_result"
    },
    {
     "data": {
      "image/png": "[encoded data removed]",
      "text/plain": [
       "<Figure size 432x288 with 1 Axes>"
      ]
     },
     "metadata": {
      "needs_background": "light"
     },
     "output_type": "display_data"
    }
   ],
   "source": [
    "\n",
    "#ax=plt.figure(figsize=(10,8))\n",
    "ax=sns.countplot(x=\"DistanceToResidence\",hue=\"Exit\" ,palette=\"vlag\",data=data)\n",
    "ax.set_xlabel(\"Distance To Residence\"),\n",
    "ax.set_ylabel(\"Count\")\n",
    "#ax.set_title(\"Distance To Residence Count\")\n",
    "#ML_Visuals.savefig()"
   ]
  },
  {
   "cell_type": "code",
   "execution_count": 35,
   "metadata": {},
   "outputs": [
    {
     "data": {
      "text/plain": [
       "Text(0, 0.5, 'Count')"
      ]
     },
     "execution_count": 35,
     "metadata": {},
     "output_type": "execute_result"
    },
    {
     "data": {
      "image/png": "[encoded data removed]",
      "text/plain": [
       "<Figure size 432x288 with 1 Axes>"
      ]
     },
     "metadata": {
      "needs_background": "light"
     },
     "output_type": "display_data"
    }
   ],
   "source": [
    "\n",
    "\n",
    "#ax=plt.figure(figsize=(8,7))\n",
    "ax=sns.countplot(x=\"CustomerSegment\",hue=\"Exit\",palette=\"vlag\" ,data=data)\n",
    "ax.set_xlabel(\"Customer Segment\")\n",
    "ax.set_ylabel(\"Count\")\n",
    "#ax.set_title(\"Customer Segment Count\")  \n",
    "#ML_Visuals.savefig()\n"
   ]
  },
  {
   "cell_type": "code",
   "execution_count": 36,
   "metadata": {},
   "outputs": [
    {
     "data": {
      "text/plain": [
       "Text(0, 0.5, 'Count')"
      ]
     },
     "execution_count": 36,
     "metadata": {},
     "output_type": "execute_result"
    },
    {
     "data": {
      "image/png": "[encoded data removed]",
      "text/plain": [
       "<Figure size 432x288 with 1 Axes>"
      ]
     },
     "metadata": {
      "needs_background": "light"
     },
     "output_type": "display_data"
    }
   ],
   "source": [
    "\n",
    "\n",
    "ax=sns.countplot(x=\"CreditRating\",hue=\"Exit\",palette=\"vlag\",data=data)\n",
    "ax.set_xlabel(\"Credit Rating\")\n",
    "ax.set_ylabel(\"Count\")\n",
    "#ML_Visuals.savefig()"
   ]
  },
  {
   "cell_type": "code",
   "execution_count": 37,
   "metadata": {},
   "outputs": [],
   "source": [
    "from sklearn.model_selection import train_test_split\n",
    "x=df.iloc[:, :-1]\n",
    "y=df['Exit']\n",
    "x_train, x_test, y_train, y_test = train_test_split(x,y,test_size = 0.05, random_state = 42)"
   ]
  },
  {
   "cell_type": "code",
   "execution_count": 38,
   "metadata": {},
   "outputs": [
    {
     "name": "stderr",
     "output_type": "stream",
     "text": [
      "C:\\Anaconda\\Anaconda3\\lib\\site-packages\\sklearn\\ensemble\\forest.py:245: FutureWarning: The default value of n_estimators will change from 10 in version 0.20 to 100 in 0.22.\n",
      "  \"10 in version 0.20 to 100 in 0.22.\", FutureWarning)\n"
     ]
    },
    {
     "data": {
      "text/plain": [
       "ExtraTreesRegressor(bootstrap=False, criterion='mse', max_depth=None,\n",
       "                    max_features='auto', max_leaf_nodes=None,\n",
       "                    min_impurity_decrease=0.0, min_impurity_split=None,\n",
       "                    min_samples_leaf=1, min_samples_split=2,\n",
       "                    min_weight_fraction_leaf=0.0, n_estimators=10, n_jobs=None,\n",
       "                    oob_score=False, random_state=None, verbose=0,\n",
       "                    warm_start=False)"
      ]
     },
     "execution_count": 38,
     "metadata": {},
     "output_type": "execute_result"
    }
   ],
   "source": [
    "from sklearn.ensemble import ExtraTreesRegressor\n",
    "model = ExtraTreesRegressor()\n",
    "model.fit(x_train,y_train)"
   ]
  },
  {
   "cell_type": "code",
   "execution_count": 39,
   "metadata": {},
   "outputs": [
    {
     "name": "stdout",
     "output_type": "stream",
     "text": [
      "[0.08977659 0.03174706 0.         0.20986113 0.         0.\n",
      " 0.         0.01088123 0.01028442 0.01214423 0.         0.\n",
      " 0.         0.027681   0.33897002 0.02113095 0.         0.\n",
      " 0.         0.         0.01806678 0.22945659]\n"
     ]
    }
   ],
   "source": [
    "print(model.feature_importances_)"
   ]
  },
  {
   "cell_type": "code",
   "execution_count": 40,
   "metadata": {},
   "outputs": [
    {
     "data": {
      "text/plain": [
       "<function matplotlib.pyplot.show(close=None, block=None)>"
      ]
     },
     "execution_count": 40,
     "metadata": {},
     "output_type": "execute_result"
    },
    {
     "data": {
      "image/png": "[encoded data removed]",
      "text/plain": [
       "<Figure size 432x288 with 1 Axes>"
      ]
     },
     "metadata": {
      "needs_background": "light"
     },
     "output_type": "display_data"
    }
   ],
   "source": [
    "fet_imp=pd.Series(model.feature_importances_,index=x_test.columns)\n",
    "fet_imp.nlargest(23).plot(kind='barh')\n",
    "plt.show"
   ]
  },
  {
   "cell_type": "code",
   "execution_count": 41,
   "metadata": {},
   "outputs": [
    {
     "name": "stdout",
     "output_type": "stream",
     "text": [
      "Accuracy of Random Forest Algo:  1.0\n"
     ]
    }
   ],
   "source": [
    "from sklearn.ensemble import RandomForestClassifier\n",
    "\n",
    "rf = RandomForestClassifier(n_estimators = 100, random_state = 1)\n",
    "rf.fit(x_train,y_train)\n",
    "\n",
    "print(\"Accuracy of Random Forest Algo: \", rf.score(x_test,y_test))"
   ]
  },
  {
   "cell_type": "code",
   "execution_count": 42,
   "metadata": {},
   "outputs": [
    {
     "data": {
      "text/plain": [
       "{'Random Forest': 1.0}"
      ]
     },
     "execution_count": 42,
     "metadata": {},
     "output_type": "execute_result"
    }
   ],
   "source": [
    "final_score={}\n",
    "final_score['Random Forest'] = rf.score(x_test,y_test)\n",
    "final_score"
   ]
  },
  {
   "cell_type": "code",
   "execution_count": 43,
   "metadata": {},
   "outputs": [],
   "source": [
    "predictions=rf.predict(x_test)"
   ]
  },
  {
   "cell_type": "code",
   "execution_count": 44,
   "metadata": {},
   "outputs": [
    {
     "name": "stderr",
     "output_type": "stream",
     "text": [
      "C:\\Anaconda\\Anaconda3\\lib\\site-packages\\statsmodels\\nonparametric\\kde.py:487: RuntimeWarning: invalid value encountered in true_divide\n",
      "  binned = fast_linbin(X, a, b, gridsize) / (delta * nobs)\n",
      "C:\\Anaconda\\Anaconda3\\lib\\site-packages\\statsmodels\\nonparametric\\kdetools.py:34: RuntimeWarning: invalid value encountered in double_scalars\n",
      "  FAC1 = 2*(np.pi*bw/RANGE)**2\n"
     ]
    },
    {
     "data": {
      "text/plain": [
       "<AxesSubplot:xlabel='Exit'>"
      ]
     },
     "execution_count": 44,
     "metadata": {},
     "output_type": "execute_result"
    },
    {
     "data": {
      "image/png": "[encoded data removed]",
      "text/plain": [
       "<Figure size 432x288 with 1 Axes>"
      ]
     },
     "metadata": {
      "needs_background": "light"
     },
     "output_type": "display_data"
    }
   ],
   "source": [
    "sns.distplot(y_test-predictions)"
   ]
  },
  {
   "cell_type": "code",
   "execution_count": 45,
   "metadata": {},
   "outputs": [],
   "source": [
    "\n",
    "import pickle\n",
    "# open a file, where you ant to store the data\n",
    "file = open('random_forest_regression_model.pkl', 'wb')\n",
    "\n",
    "\n",
    "# dump information to that file\n",
    "pickle.dump(rf, file)"
   ]
  },
  {
   "cell_type": "code",
   "execution_count": 46,
   "metadata": {},
   "outputs": [],
   "source": [
    "model = open('random_forest_regression_model.pkl','rb')\n",
    "forest = pickle.load(model)"
   ]
  },
  {
   "cell_type": "code",
   "execution_count": 47,
   "metadata": {},
   "outputs": [],
   "source": [
    "y_prediction = forest.predict(x_test)"
   ]
  },
  {
   "cell_type": "code",
   "execution_count": 48,
   "metadata": {},
   "outputs": [],
   "source": [
    "x=[[0, 2.0, 0, 2, 2.0, 2.0, 2.0, 2.0, 2.0, 0, 2.0, 2, 2.0, 2, 2, 28.75, 19.75, 0, 0, 0, 0, 10]]"
   ]
  },
  {
   "cell_type": "code",
   "execution_count": 49,
   "metadata": {},
   "outputs": [],
   "source": [
    "y=forest.predict(x)"
   ]
  },
  {
   "cell_type": "code",
   "execution_count": 50,
   "metadata": {},
   "outputs": [
    {
     "data": {
      "text/plain": [
       "array([0, 0, 1, 0])"
      ]
     },
     "execution_count": 50,
     "metadata": {},
     "output_type": "execute_result"
    }
   ],
   "source": [
    "y_prediction"
   ]
  },
  {
   "cell_type": "code",
   "execution_count": null,
   "metadata": {},
   "outputs": [],
   "source": []
  },
  {
   "cell_type": "code",
   "execution_count": 51,
   "metadata": {
    "scrolled": true
   },
   "outputs": [
    {
     "data": {
      "text/plain": [
       "array([0])"
      ]
     },
     "execution_count": 51,
     "metadata": {},
     "output_type": "execute_result"
    }
   ],
   "source": [
    "y"
   ]
  },
  {
   "cell_type": "code",
   "execution_count": 52,
   "metadata": {},
   "outputs": [
    {
     "data": {
      "text/plain": [
       "['CreditRating',\n",
       " 'Turnover',\n",
       " 'DistanceToResidence',\n",
       " 'NumOfProducts',\n",
       " 'Liquidity',\n",
       " 'Payments',\n",
       " 'Lending_Loan',\n",
       " 'Trade',\n",
       " 'Insurance',\n",
       " 'HasCrCard',\n",
       " 'Aggregate Balance',\n",
       " 'No Of Transactions',\n",
       " '%  difference in balance amount for 6 Months',\n",
       " 'Payments made after due date',\n",
       " '# of complains ',\n",
       " 'Age',\n",
       " 'Tenure_',\n",
       " 'Industry_NBFI',\n",
       " 'Industry_Services',\n",
       " 'CustomerSegment_Mid_customer',\n",
       " 'CustomerSegment_Small_customer',\n",
       " 'Cancellations']"
      ]
     },
     "execution_count": 52,
     "metadata": {},
     "output_type": "execute_result"
    }
   ],
   "source": [
    "list(x_test.columns.values.tolist()) "
   ]
  }
 ],
 "metadata": {
  "kernelspec": {
   "display_name": "Python 3",
   "language": "python",
   "name": "python3"
  },
  "language_info": {
   "codemirror_mode": {
    "name": "ipython",
    "version": 3
   },
   "file_extension": ".py",
   "mimetype": "text/x-python",
   "name": "python",
   "nbconvert_exporter": "python",
   "pygments_lexer": "ipython3",
   "version": "3.7.3"
  }
 },
 "nbformat": 4,
 "nbformat_minor": 2
}
