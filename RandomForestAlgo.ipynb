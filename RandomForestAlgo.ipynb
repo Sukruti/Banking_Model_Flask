{
 "cells": [
  {
   "cell_type": "code",
   "execution_count": 1,
   "metadata": {},
   "outputs": [
    {
     "name": "stderr",
     "output_type": "stream",
     "text": [
      "C:\\Anaconda\\Anaconda3\\lib\\site-packages\\statsmodels\\tools\\_testing.py:19: FutureWarning: pandas.util.testing is deprecated. Use the functions in the public API at pandas.testing instead.\n",
      "  import pandas.util.testing as tm\n"
     ]
    },
    {
     "data": {
      "text/html": [
       "<div>\n",
       "<style scoped>\n",
       "    .dataframe tbody tr th:only-of-type {\n",
       "        vertical-align: middle;\n",
       "    }\n",
       "\n",
       "    .dataframe tbody tr th {\n",
       "        vertical-align: top;\n",
       "    }\n",
       "\n",
       "    .dataframe thead th {\n",
       "        text-align: right;\n",
       "    }\n",
       "</style>\n",
       "<table border=\"1\" class=\"dataframe\">\n",
       "  <thead>\n",
       "    <tr style=\"text-align: right;\">\n",
       "      <th></th>\n",
       "      <th>CustomerId</th>\n",
       "      <th>CreditRating</th>\n",
       "      <th>Customer Address</th>\n",
       "      <th>Industry</th>\n",
       "      <th>CustomerSegment</th>\n",
       "      <th>Turnover</th>\n",
       "      <th>Established Date</th>\n",
       "      <th>DistanceToResidence</th>\n",
       "      <th>Tenure</th>\n",
       "      <th>NumOfProducts</th>\n",
       "      <th>...</th>\n",
       "      <th>No Of Transactions</th>\n",
       "      <th>%  difference in balance amount for 6 Months</th>\n",
       "      <th>Payments made after due date</th>\n",
       "      <th># of cancelled Bills in last 6 Months</th>\n",
       "      <th># of cancelled Paymnets in last 6 Months</th>\n",
       "      <th># of credit adjustments in last 6 Months</th>\n",
       "      <th># of debit adjustments in last 6 Months</th>\n",
       "      <th># of reversed/cancelled adjustments in last 6 Months</th>\n",
       "      <th># of complains</th>\n",
       "      <th>Exit</th>\n",
       "    </tr>\n",
       "  </thead>\n",
       "  <tbody>\n",
       "    <tr>\n",
       "      <th>0</th>\n",
       "      <td>C055</td>\n",
       "      <td>A</td>\n",
       "      <td>Cust_Addr_55</td>\n",
       "      <td>Manufaturing</td>\n",
       "      <td>Small_customer</td>\n",
       "      <td>231150900</td>\n",
       "      <td>1999-03-01</td>\n",
       "      <td>High Proximity</td>\n",
       "      <td>2010-01-27</td>\n",
       "      <td>56</td>\n",
       "      <td>...</td>\n",
       "      <td>11</td>\n",
       "      <td>-0.180000</td>\n",
       "      <td>18</td>\n",
       "      <td>11</td>\n",
       "      <td>4</td>\n",
       "      <td>11</td>\n",
       "      <td>3</td>\n",
       "      <td>1</td>\n",
       "      <td>22</td>\n",
       "      <td>Yes</td>\n",
       "    </tr>\n",
       "    <tr>\n",
       "      <th>1</th>\n",
       "      <td>C021</td>\n",
       "      <td>C</td>\n",
       "      <td>Cust_Addr_21</td>\n",
       "      <td>NBFI</td>\n",
       "      <td>Large_customer</td>\n",
       "      <td>200100000</td>\n",
       "      <td>2000-03-17</td>\n",
       "      <td>Low Proximity</td>\n",
       "      <td>2018-01-03</td>\n",
       "      <td>98</td>\n",
       "      <td>...</td>\n",
       "      <td>4</td>\n",
       "      <td>-0.599900</td>\n",
       "      <td>9</td>\n",
       "      <td>10</td>\n",
       "      <td>11</td>\n",
       "      <td>9</td>\n",
       "      <td>10</td>\n",
       "      <td>8</td>\n",
       "      <td>44</td>\n",
       "      <td>Yes</td>\n",
       "    </tr>\n",
       "    <tr>\n",
       "      <th>2</th>\n",
       "      <td>C015</td>\n",
       "      <td>A</td>\n",
       "      <td>Cust_Addr_15</td>\n",
       "      <td>NBFI</td>\n",
       "      <td>Large_customer</td>\n",
       "      <td>8000700000</td>\n",
       "      <td>1996-11-12</td>\n",
       "      <td>High Proximity</td>\n",
       "      <td>2014-03-26</td>\n",
       "      <td>560</td>\n",
       "      <td>...</td>\n",
       "      <td>5</td>\n",
       "      <td>-0.016851</td>\n",
       "      <td>7</td>\n",
       "      <td>8</td>\n",
       "      <td>9</td>\n",
       "      <td>7</td>\n",
       "      <td>8</td>\n",
       "      <td>6</td>\n",
       "      <td>11</td>\n",
       "      <td>No</td>\n",
       "    </tr>\n",
       "    <tr>\n",
       "      <th>3</th>\n",
       "      <td>C062</td>\n",
       "      <td>C</td>\n",
       "      <td>Cust_Addr_62</td>\n",
       "      <td>Services</td>\n",
       "      <td>Small_customer</td>\n",
       "      <td>526750000</td>\n",
       "      <td>2000-07-26</td>\n",
       "      <td>Low Proximity</td>\n",
       "      <td>2019-06-23</td>\n",
       "      <td>65</td>\n",
       "      <td>...</td>\n",
       "      <td>32</td>\n",
       "      <td>-0.586900</td>\n",
       "      <td>13</td>\n",
       "      <td>14</td>\n",
       "      <td>3</td>\n",
       "      <td>14</td>\n",
       "      <td>2</td>\n",
       "      <td>0</td>\n",
       "      <td>85</td>\n",
       "      <td>Yes</td>\n",
       "    </tr>\n",
       "    <tr>\n",
       "      <th>4</th>\n",
       "      <td>C029</td>\n",
       "      <td>B</td>\n",
       "      <td>Cust_Addr_29</td>\n",
       "      <td>Services</td>\n",
       "      <td>Mid_customer</td>\n",
       "      <td>551000080</td>\n",
       "      <td>1999-09-01</td>\n",
       "      <td>Medium Proximity</td>\n",
       "      <td>2012-02-17</td>\n",
       "      <td>94</td>\n",
       "      <td>...</td>\n",
       "      <td>32</td>\n",
       "      <td>-0.413100</td>\n",
       "      <td>9</td>\n",
       "      <td>10</td>\n",
       "      <td>11</td>\n",
       "      <td>9</td>\n",
       "      <td>10</td>\n",
       "      <td>8</td>\n",
       "      <td>43</td>\n",
       "      <td>Yes</td>\n",
       "    </tr>\n",
       "  </tbody>\n",
       "</table>\n",
       "<p>5 rows × 27 columns</p>\n",
       "</div>"
      ],
      "text/plain": [
       "  CustomerId CreditRating Customer Address      Industry CustomerSegment  \\\n",
       "0       C055            A     Cust_Addr_55  Manufaturing  Small_customer   \n",
       "1       C021            C     Cust_Addr_21          NBFI  Large_customer   \n",
       "2       C015            A     Cust_Addr_15          NBFI  Large_customer   \n",
       "3       C062            C     Cust_Addr_62      Services  Small_customer   \n",
       "4       C029            B     Cust_Addr_29      Services    Mid_customer   \n",
       "\n",
       "     Turnover Established Date DistanceToResidence     Tenure  NumOfProducts  \\\n",
       "0   231150900       1999-03-01      High Proximity 2010-01-27             56   \n",
       "1   200100000       2000-03-17       Low Proximity 2018-01-03             98   \n",
       "2  8000700000       1996-11-12      High Proximity 2014-03-26            560   \n",
       "3   526750000       2000-07-26       Low Proximity 2019-06-23             65   \n",
       "4   551000080       1999-09-01    Medium Proximity 2012-02-17             94   \n",
       "\n",
       "   ...  No Of Transactions  %  difference in balance amount for 6 Months  \\\n",
       "0  ...                  11                                     -0.180000   \n",
       "1  ...                   4                                     -0.599900   \n",
       "2  ...                   5                                     -0.016851   \n",
       "3  ...                  32                                     -0.586900   \n",
       "4  ...                  32                                     -0.413100   \n",
       "\n",
       "   Payments made after due date  # of cancelled Bills in last 6 Months  \\\n",
       "0                            18                                     11   \n",
       "1                             9                                     10   \n",
       "2                             7                                      8   \n",
       "3                            13                                     14   \n",
       "4                             9                                     10   \n",
       "\n",
       "   # of cancelled Paymnets in last 6 Months  \\\n",
       "0                                         4   \n",
       "1                                        11   \n",
       "2                                         9   \n",
       "3                                         3   \n",
       "4                                        11   \n",
       "\n",
       "  # of credit adjustments in last 6 Months  \\\n",
       "0                                       11   \n",
       "1                                        9   \n",
       "2                                        7   \n",
       "3                                       14   \n",
       "4                                        9   \n",
       "\n",
       "   # of debit adjustments in last 6 Months  \\\n",
       "0                                        3   \n",
       "1                                       10   \n",
       "2                                        8   \n",
       "3                                        2   \n",
       "4                                       10   \n",
       "\n",
       "   # of reversed/cancelled adjustments in last 6 Months  # of complains   Exit  \n",
       "0                                                  1                  22   Yes  \n",
       "1                                                  8                  44   Yes  \n",
       "2                                                  6                  11    No  \n",
       "3                                                  0                  85   Yes  \n",
       "4                                                  8                  43   Yes  \n",
       "\n",
       "[5 rows x 27 columns]"
      ]
     },
     "execution_count": 1,
     "metadata": {},
     "output_type": "execute_result"
    }
   ],
   "source": [
    "import pandas as pd\n",
    "import numpy as np\n",
    "import seaborn as sns\n",
    "sns.set(style=\"white\")\n",
    "import matplotlib.pyplot as plt\n",
    "\n",
    "import sklearn\n",
    "from sklearn.preprocessing import LabelEncoder, StandardScaler, normalize\n",
    "from sklearn.model_selection import train_test_split, KFold\n",
    "from sklearn.metrics import accuracy_score, roc_auc_score, f1_score, recall_score\n",
    "from matplotlib.backends.backend_pdf import PdfPages\n",
    "#ML_Visuals = PdfPages('ML_Bank_Attr_Visualisation.pdf')\n",
    "\n",
    "# Load csv as pandas frame and drop useless columns\n",
    "\n",
    "file = r'RIA_ML_Data_Set.xlsx'\n",
    "data = pd.read_excel(file)\n",
    "df = pd.DataFrame(data) \n",
    "df.head()"
   ]
  },
  {
   "cell_type": "code",
   "execution_count": 2,
   "metadata": {},
   "outputs": [
    {
     "name": "stdout",
     "output_type": "stream",
     "text": [
      "Shape (81, 27)\n",
      "Data Types\n",
      "CustomerId                                                      object\n",
      "CreditRating                                                    object\n",
      "Customer Address                                                object\n",
      "Industry                                                        object\n",
      "CustomerSegment                                                 object\n",
      "Turnover                                                         int64\n",
      "Established Date                                        datetime64[ns]\n",
      "DistanceToResidence                                             object\n",
      "Tenure                                                  datetime64[ns]\n",
      "NumOfProducts                                                    int64\n",
      "Liquidity                                                        int64\n",
      "Payments                                                         int64\n",
      "Lending_Loan                                                     int64\n",
      "Trade                                                            int64\n",
      "Insurance                                                      float64\n",
      "HasCrCard                                                       object\n",
      "Aggregate Balance                                              float64\n",
      "No Of Transactions                                               int64\n",
      "%  difference in balance amount for 6 Months                   float64\n",
      "Payments made after due date                                     int64\n",
      "# of cancelled Bills in last 6 Months                            int64\n",
      "# of cancelled Paymnets in last 6 Months                         int64\n",
      "# of credit adjustments in last 6 Months                         int64\n",
      "# of debit adjustments in last 6 Months                          int64\n",
      "# of reversed/cancelled adjustments in last 6 Months             int64\n",
      "# of complains                                                   int64\n",
      "Exit                                                            object\n",
      "dtype: object\n"
     ]
    }
   ],
   "source": [
    "print('Shape' , df.shape)\n",
    "print('Data Types')\n",
    "print(df.dtypes)"
   ]
  },
  {
   "cell_type": "code",
   "execution_count": 3,
   "metadata": {},
   "outputs": [
    {
     "data": {
      "text/html": [
       "<div>\n",
       "<style scoped>\n",
       "    .dataframe tbody tr th:only-of-type {\n",
       "        vertical-align: middle;\n",
       "    }\n",
       "\n",
       "    .dataframe tbody tr th {\n",
       "        vertical-align: top;\n",
       "    }\n",
       "\n",
       "    .dataframe thead th {\n",
       "        text-align: right;\n",
       "    }\n",
       "</style>\n",
       "<table border=\"1\" class=\"dataframe\">\n",
       "  <thead>\n",
       "    <tr style=\"text-align: right;\">\n",
       "      <th></th>\n",
       "      <th>Turnover</th>\n",
       "      <th>NumOfProducts</th>\n",
       "      <th>Liquidity</th>\n",
       "      <th>Payments</th>\n",
       "      <th>Lending_Loan</th>\n",
       "      <th>Trade</th>\n",
       "      <th>Insurance</th>\n",
       "      <th>Aggregate Balance</th>\n",
       "      <th>No Of Transactions</th>\n",
       "      <th>%  difference in balance amount for 6 Months</th>\n",
       "      <th>Payments made after due date</th>\n",
       "      <th># of cancelled Bills in last 6 Months</th>\n",
       "      <th># of cancelled Paymnets in last 6 Months</th>\n",
       "      <th># of credit adjustments in last 6 Months</th>\n",
       "      <th># of debit adjustments in last 6 Months</th>\n",
       "      <th># of reversed/cancelled adjustments in last 6 Months</th>\n",
       "      <th># of complains</th>\n",
       "    </tr>\n",
       "  </thead>\n",
       "  <tbody>\n",
       "    <tr>\n",
       "      <th>count</th>\n",
       "      <td>8.100000e+01</td>\n",
       "      <td>81.000000</td>\n",
       "      <td>81.000000</td>\n",
       "      <td>81.000000</td>\n",
       "      <td>8.100000e+01</td>\n",
       "      <td>8.100000e+01</td>\n",
       "      <td>8.100000e+01</td>\n",
       "      <td>8.100000e+01</td>\n",
       "      <td>81.000000</td>\n",
       "      <td>81.000000</td>\n",
       "      <td>81.000000</td>\n",
       "      <td>81.000000</td>\n",
       "      <td>81.000000</td>\n",
       "      <td>81.000000</td>\n",
       "      <td>81.000000</td>\n",
       "      <td>81.000000</td>\n",
       "      <td>81.000000</td>\n",
       "    </tr>\n",
       "    <tr>\n",
       "      <th>mean</th>\n",
       "      <td>2.552804e+09</td>\n",
       "      <td>233.444444</td>\n",
       "      <td>273.037037</td>\n",
       "      <td>23252.864198</td>\n",
       "      <td>1.802770e+06</td>\n",
       "      <td>2.635803e+06</td>\n",
       "      <td>1.509367e+06</td>\n",
       "      <td>3.175926e+06</td>\n",
       "      <td>47.518519</td>\n",
       "      <td>-0.143315</td>\n",
       "      <td>7.395062</td>\n",
       "      <td>7.012346</td>\n",
       "      <td>5.975309</td>\n",
       "      <td>7.333333</td>\n",
       "      <td>6.197531</td>\n",
       "      <td>5.530864</td>\n",
       "      <td>27.864198</td>\n",
       "    </tr>\n",
       "    <tr>\n",
       "      <th>std</th>\n",
       "      <td>3.818556e+09</td>\n",
       "      <td>184.289378</td>\n",
       "      <td>308.773641</td>\n",
       "      <td>23644.072687</td>\n",
       "      <td>1.934873e+06</td>\n",
       "      <td>1.961039e+06</td>\n",
       "      <td>1.203077e+06</td>\n",
       "      <td>2.552007e+06</td>\n",
       "      <td>57.565422</td>\n",
       "      <td>0.241403</td>\n",
       "      <td>4.926152</td>\n",
       "      <td>4.854106</td>\n",
       "      <td>4.183226</td>\n",
       "      <td>3.987480</td>\n",
       "      <td>3.960492</td>\n",
       "      <td>3.943623</td>\n",
       "      <td>22.003269</td>\n",
       "    </tr>\n",
       "    <tr>\n",
       "      <th>min</th>\n",
       "      <td>1.157500e+07</td>\n",
       "      <td>13.000000</td>\n",
       "      <td>2.000000</td>\n",
       "      <td>1120.000000</td>\n",
       "      <td>3.203000e+05</td>\n",
       "      <td>3.939690e+05</td>\n",
       "      <td>1.352995e+05</td>\n",
       "      <td>5.909535e+05</td>\n",
       "      <td>4.000000</td>\n",
       "      <td>-0.612900</td>\n",
       "      <td>0.000000</td>\n",
       "      <td>0.000000</td>\n",
       "      <td>1.000000</td>\n",
       "      <td>0.000000</td>\n",
       "      <td>0.000000</td>\n",
       "      <td>-1.000000</td>\n",
       "      <td>1.000000</td>\n",
       "    </tr>\n",
       "    <tr>\n",
       "      <th>25%</th>\n",
       "      <td>1.352500e+08</td>\n",
       "      <td>68.000000</td>\n",
       "      <td>38.000000</td>\n",
       "      <td>6009.000000</td>\n",
       "      <td>7.006000e+05</td>\n",
       "      <td>1.046607e+06</td>\n",
       "      <td>7.404595e+05</td>\n",
       "      <td>1.291500e+06</td>\n",
       "      <td>6.000000</td>\n",
       "      <td>-0.379800</td>\n",
       "      <td>2.000000</td>\n",
       "      <td>3.000000</td>\n",
       "      <td>3.000000</td>\n",
       "      <td>2.000000</td>\n",
       "      <td>3.000000</td>\n",
       "      <td>1.000000</td>\n",
       "      <td>11.000000</td>\n",
       "    </tr>\n",
       "    <tr>\n",
       "      <th>50%</th>\n",
       "      <td>7.000950e+08</td>\n",
       "      <td>179.000000</td>\n",
       "      <td>86.000000</td>\n",
       "      <td>11009.000000</td>\n",
       "      <td>9.012000e+05</td>\n",
       "      <td>2.738000e+06</td>\n",
       "      <td>1.247590e+06</td>\n",
       "      <td>1.846107e+06</td>\n",
       "      <td>31.000000</td>\n",
       "      <td>-0.038833</td>\n",
       "      <td>8.000000</td>\n",
       "      <td>8.000000</td>\n",
       "      <td>4.000000</td>\n",
       "      <td>8.000000</td>\n",
       "      <td>5.000000</td>\n",
       "      <td>7.000000</td>\n",
       "      <td>21.000000</td>\n",
       "    </tr>\n",
       "    <tr>\n",
       "      <th>75%</th>\n",
       "      <td>1.002040e+09</td>\n",
       "      <td>399.000000</td>\n",
       "      <td>666.000000</td>\n",
       "      <td>36000.000000</td>\n",
       "      <td>2.302000e+06</td>\n",
       "      <td>4.393600e+06</td>\n",
       "      <td>1.533198e+06</td>\n",
       "      <td>4.739660e+06</td>\n",
       "      <td>77.000000</td>\n",
       "      <td>0.063800</td>\n",
       "      <td>10.000000</td>\n",
       "      <td>11.000000</td>\n",
       "      <td>10.000000</td>\n",
       "      <td>10.000000</td>\n",
       "      <td>9.000000</td>\n",
       "      <td>9.000000</td>\n",
       "      <td>44.000000</td>\n",
       "    </tr>\n",
       "    <tr>\n",
       "      <th>max</th>\n",
       "      <td>1.200000e+10</td>\n",
       "      <td>608.000000</td>\n",
       "      <td>800.000000</td>\n",
       "      <td>97017.000000</td>\n",
       "      <td>9.402600e+06</td>\n",
       "      <td>7.864198e+06</td>\n",
       "      <td>4.431198e+06</td>\n",
       "      <td>1.020719e+07</td>\n",
       "      <td>308.000000</td>\n",
       "      <td>0.109800</td>\n",
       "      <td>23.000000</td>\n",
       "      <td>20.000000</td>\n",
       "      <td>14.000000</td>\n",
       "      <td>17.000000</td>\n",
       "      <td>13.000000</td>\n",
       "      <td>11.000000</td>\n",
       "      <td>88.000000</td>\n",
       "    </tr>\n",
       "  </tbody>\n",
       "</table>\n",
       "</div>"
      ],
      "text/plain": [
       "           Turnover  NumOfProducts   Liquidity      Payments  Lending_Loan  \\\n",
       "count  8.100000e+01      81.000000   81.000000     81.000000  8.100000e+01   \n",
       "mean   2.552804e+09     233.444444  273.037037  23252.864198  1.802770e+06   \n",
       "std    3.818556e+09     184.289378  308.773641  23644.072687  1.934873e+06   \n",
       "min    1.157500e+07      13.000000    2.000000   1120.000000  3.203000e+05   \n",
       "25%    1.352500e+08      68.000000   38.000000   6009.000000  7.006000e+05   \n",
       "50%    7.000950e+08     179.000000   86.000000  11009.000000  9.012000e+05   \n",
       "75%    1.002040e+09     399.000000  666.000000  36000.000000  2.302000e+06   \n",
       "max    1.200000e+10     608.000000  800.000000  97017.000000  9.402600e+06   \n",
       "\n",
       "              Trade     Insurance  Aggregate Balance  No Of Transactions  \\\n",
       "count  8.100000e+01  8.100000e+01       8.100000e+01           81.000000   \n",
       "mean   2.635803e+06  1.509367e+06       3.175926e+06           47.518519   \n",
       "std    1.961039e+06  1.203077e+06       2.552007e+06           57.565422   \n",
       "min    3.939690e+05  1.352995e+05       5.909535e+05            4.000000   \n",
       "25%    1.046607e+06  7.404595e+05       1.291500e+06            6.000000   \n",
       "50%    2.738000e+06  1.247590e+06       1.846107e+06           31.000000   \n",
       "75%    4.393600e+06  1.533198e+06       4.739660e+06           77.000000   \n",
       "max    7.864198e+06  4.431198e+06       1.020719e+07          308.000000   \n",
       "\n",
       "       %  difference in balance amount for 6 Months  \\\n",
       "count                                     81.000000   \n",
       "mean                                      -0.143315   \n",
       "std                                        0.241403   \n",
       "min                                       -0.612900   \n",
       "25%                                       -0.379800   \n",
       "50%                                       -0.038833   \n",
       "75%                                        0.063800   \n",
       "max                                        0.109800   \n",
       "\n",
       "       Payments made after due date  # of cancelled Bills in last 6 Months  \\\n",
       "count                     81.000000                              81.000000   \n",
       "mean                       7.395062                               7.012346   \n",
       "std                        4.926152                               4.854106   \n",
       "min                        0.000000                               0.000000   \n",
       "25%                        2.000000                               3.000000   \n",
       "50%                        8.000000                               8.000000   \n",
       "75%                       10.000000                              11.000000   \n",
       "max                       23.000000                              20.000000   \n",
       "\n",
       "       # of cancelled Paymnets in last 6 Months  \\\n",
       "count                                 81.000000   \n",
       "mean                                   5.975309   \n",
       "std                                    4.183226   \n",
       "min                                    1.000000   \n",
       "25%                                    3.000000   \n",
       "50%                                    4.000000   \n",
       "75%                                   10.000000   \n",
       "max                                   14.000000   \n",
       "\n",
       "       # of credit adjustments in last 6 Months  \\\n",
       "count                                 81.000000   \n",
       "mean                                   7.333333   \n",
       "std                                    3.987480   \n",
       "min                                    0.000000   \n",
       "25%                                    2.000000   \n",
       "50%                                    8.000000   \n",
       "75%                                   10.000000   \n",
       "max                                   17.000000   \n",
       "\n",
       "       # of debit adjustments in last 6 Months  \\\n",
       "count                                81.000000   \n",
       "mean                                  6.197531   \n",
       "std                                   3.960492   \n",
       "min                                   0.000000   \n",
       "25%                                   3.000000   \n",
       "50%                                   5.000000   \n",
       "75%                                   9.000000   \n",
       "max                                  13.000000   \n",
       "\n",
       "       # of reversed/cancelled adjustments in last 6 Months  # of complains   \n",
       "count                                          81.000000           81.000000  \n",
       "mean                                            5.530864           27.864198  \n",
       "std                                             3.943623           22.003269  \n",
       "min                                            -1.000000            1.000000  \n",
       "25%                                             1.000000           11.000000  \n",
       "50%                                             7.000000           21.000000  \n",
       "75%                                             9.000000           44.000000  \n",
       "max                                            11.000000           88.000000  "
      ]
     },
     "execution_count": 3,
     "metadata": {},
     "output_type": "execute_result"
    }
   ],
   "source": [
    "df.describe()"
   ]
  },
  {
   "cell_type": "code",
   "execution_count": 4,
   "metadata": {},
   "outputs": [],
   "source": [
    "from datetime import datetime\n",
    "from dateutil import relativedelta\n",
    "from datetime import date\n",
    "\n",
    "today = date.today()\n",
    "\n",
    "def calculate_age(dtob):\n",
    "    today=date.today()\n",
    "    delta= relativedelta.relativedelta(today,dtob)\n",
    "    return (round((delta.years+(delta.months/12)), 2))"
   ]
  },
  {
   "cell_type": "code",
   "execution_count": 5,
   "metadata": {},
   "outputs": [],
   "source": [
    "establish_age=df['Established Date'].dt.date\n",
    "Age = [0] * len(establish_age)\n",
    "for  i in range(0,len(establish_age)):\n",
    "    Age[i]=calculate_age(establish_age[i])\n",
    "df['Age']= Age\n",
    "df=df.drop(['Established Date'], axis = 1)"
   ]
  },
  {
   "cell_type": "code",
   "execution_count": 6,
   "metadata": {},
   "outputs": [],
   "source": [
    "Tenure=df['Tenure'].dt.date\n",
    "Tenure_ = [0] * len(Tenure)\n",
    "for  i in range(0,len(Tenure)):\n",
    "    Tenure_[i]=calculate_age(Tenure[i])\n",
    "df['Tenure_']=Tenure_\n",
    "df=df.drop(['Tenure'], axis = 1)"
   ]
  },
  {
   "cell_type": "code",
   "execution_count": 7,
   "metadata": {},
   "outputs": [
    {
     "name": "stdout",
     "output_type": "stream",
     "text": [
      "Data Types Object -Unique\n",
      "['A' 'C' 'B']\n",
      "['Manufaturing' 'NBFI' 'Services']\n",
      "['Small_customer' 'Large_customer' 'Mid_customer']\n",
      "['Yes' 'No']\n",
      "['High Proximity' 'Low Proximity' 'Medium Proximity']\n",
      "['Yes' 'No']\n"
     ]
    }
   ],
   "source": [
    "print('Data Types Object -Unique')\n",
    "print(df['CreditRating'].unique())\n",
    "print(df['Industry'].unique())\n",
    "print(df['CustomerSegment'].unique())\n",
    "print(df['HasCrCard'].unique())\n",
    "print(df['DistanceToResidence'].unique())\n",
    "print(df['Exit'].unique())"
   ]
  },
  {
   "cell_type": "code",
   "execution_count": 8,
   "metadata": {},
   "outputs": [],
   "source": [
    "# converts categorical features to integers\n",
    "\n",
    "def label_encoder(data_: df, columns_name_: list):\n",
    "    le = LabelEncoder()\n",
    "    for i in columns_name_:\n",
    "        le.fit(data_[i])\n",
    "        data_[i] = le.transform(data_[i])\n",
    "    return data_"
   ]
  },
  {
   "cell_type": "code",
   "execution_count": 9,
   "metadata": {},
   "outputs": [
    {
     "data": {
      "text/html": [
       "<div>\n",
       "<style scoped>\n",
       "    .dataframe tbody tr th:only-of-type {\n",
       "        vertical-align: middle;\n",
       "    }\n",
       "\n",
       "    .dataframe tbody tr th {\n",
       "        vertical-align: top;\n",
       "    }\n",
       "\n",
       "    .dataframe thead th {\n",
       "        text-align: right;\n",
       "    }\n",
       "</style>\n",
       "<table border=\"1\" class=\"dataframe\">\n",
       "  <thead>\n",
       "    <tr style=\"text-align: right;\">\n",
       "      <th></th>\n",
       "      <th>CustomerId</th>\n",
       "      <th>CreditRating</th>\n",
       "      <th>Customer Address</th>\n",
       "      <th>Industry</th>\n",
       "      <th>CustomerSegment</th>\n",
       "      <th>Turnover</th>\n",
       "      <th>DistanceToResidence</th>\n",
       "      <th>NumOfProducts</th>\n",
       "      <th>Liquidity</th>\n",
       "      <th>Payments</th>\n",
       "      <th>...</th>\n",
       "      <th>Payments made after due date</th>\n",
       "      <th># of cancelled Bills in last 6 Months</th>\n",
       "      <th># of cancelled Paymnets in last 6 Months</th>\n",
       "      <th># of credit adjustments in last 6 Months</th>\n",
       "      <th># of debit adjustments in last 6 Months</th>\n",
       "      <th># of reversed/cancelled adjustments in last 6 Months</th>\n",
       "      <th># of complains</th>\n",
       "      <th>Exit</th>\n",
       "      <th>Age</th>\n",
       "      <th>Tenure_</th>\n",
       "    </tr>\n",
       "  </thead>\n",
       "  <tbody>\n",
       "    <tr>\n",
       "      <th>0</th>\n",
       "      <td>C055</td>\n",
       "      <td>A</td>\n",
       "      <td>Cust_Addr_55</td>\n",
       "      <td>Manufaturing</td>\n",
       "      <td>Small_customer</td>\n",
       "      <td>231150900</td>\n",
       "      <td>High Proximity</td>\n",
       "      <td>56</td>\n",
       "      <td>636</td>\n",
       "      <td>36009</td>\n",
       "      <td>...</td>\n",
       "      <td>18</td>\n",
       "      <td>11</td>\n",
       "      <td>4</td>\n",
       "      <td>11</td>\n",
       "      <td>3</td>\n",
       "      <td>1</td>\n",
       "      <td>22</td>\n",
       "      <td>Yes</td>\n",
       "      <td>21.58</td>\n",
       "      <td>10.67</td>\n",
       "    </tr>\n",
       "    <tr>\n",
       "      <th>1</th>\n",
       "      <td>C021</td>\n",
       "      <td>C</td>\n",
       "      <td>Cust_Addr_21</td>\n",
       "      <td>NBFI</td>\n",
       "      <td>Large_customer</td>\n",
       "      <td>200100000</td>\n",
       "      <td>Low Proximity</td>\n",
       "      <td>98</td>\n",
       "      <td>766</td>\n",
       "      <td>10003</td>\n",
       "      <td>...</td>\n",
       "      <td>9</td>\n",
       "      <td>10</td>\n",
       "      <td>11</td>\n",
       "      <td>9</td>\n",
       "      <td>10</td>\n",
       "      <td>8</td>\n",
       "      <td>44</td>\n",
       "      <td>Yes</td>\n",
       "      <td>20.58</td>\n",
       "      <td>2.75</td>\n",
       "    </tr>\n",
       "    <tr>\n",
       "      <th>2</th>\n",
       "      <td>C015</td>\n",
       "      <td>A</td>\n",
       "      <td>Cust_Addr_15</td>\n",
       "      <td>NBFI</td>\n",
       "      <td>Large_customer</td>\n",
       "      <td>8000700000</td>\n",
       "      <td>High Proximity</td>\n",
       "      <td>560</td>\n",
       "      <td>112</td>\n",
       "      <td>6017</td>\n",
       "      <td>...</td>\n",
       "      <td>7</td>\n",
       "      <td>8</td>\n",
       "      <td>9</td>\n",
       "      <td>7</td>\n",
       "      <td>8</td>\n",
       "      <td>6</td>\n",
       "      <td>11</td>\n",
       "      <td>No</td>\n",
       "      <td>23.92</td>\n",
       "      <td>6.50</td>\n",
       "    </tr>\n",
       "    <tr>\n",
       "      <th>3</th>\n",
       "      <td>C062</td>\n",
       "      <td>C</td>\n",
       "      <td>Cust_Addr_62</td>\n",
       "      <td>Services</td>\n",
       "      <td>Small_customer</td>\n",
       "      <td>526750000</td>\n",
       "      <td>Low Proximity</td>\n",
       "      <td>65</td>\n",
       "      <td>20</td>\n",
       "      <td>3209</td>\n",
       "      <td>...</td>\n",
       "      <td>13</td>\n",
       "      <td>14</td>\n",
       "      <td>3</td>\n",
       "      <td>14</td>\n",
       "      <td>2</td>\n",
       "      <td>0</td>\n",
       "      <td>85</td>\n",
       "      <td>Yes</td>\n",
       "      <td>20.17</td>\n",
       "      <td>1.25</td>\n",
       "    </tr>\n",
       "    <tr>\n",
       "      <th>4</th>\n",
       "      <td>C029</td>\n",
       "      <td>B</td>\n",
       "      <td>Cust_Addr_29</td>\n",
       "      <td>Services</td>\n",
       "      <td>Mid_customer</td>\n",
       "      <td>551000080</td>\n",
       "      <td>Medium Proximity</td>\n",
       "      <td>94</td>\n",
       "      <td>699</td>\n",
       "      <td>23020</td>\n",
       "      <td>...</td>\n",
       "      <td>9</td>\n",
       "      <td>10</td>\n",
       "      <td>11</td>\n",
       "      <td>9</td>\n",
       "      <td>10</td>\n",
       "      <td>8</td>\n",
       "      <td>43</td>\n",
       "      <td>Yes</td>\n",
       "      <td>21.08</td>\n",
       "      <td>8.67</td>\n",
       "    </tr>\n",
       "    <tr>\n",
       "      <th>5</th>\n",
       "      <td>C081</td>\n",
       "      <td>B</td>\n",
       "      <td>Cust_Addr_81</td>\n",
       "      <td>NBFI</td>\n",
       "      <td>Small_customer</td>\n",
       "      <td>55000033</td>\n",
       "      <td>Low Proximity</td>\n",
       "      <td>608</td>\n",
       "      <td>38</td>\n",
       "      <td>4012</td>\n",
       "      <td>...</td>\n",
       "      <td>1</td>\n",
       "      <td>2</td>\n",
       "      <td>3</td>\n",
       "      <td>1</td>\n",
       "      <td>2</td>\n",
       "      <td>0</td>\n",
       "      <td>3</td>\n",
       "      <td>No</td>\n",
       "      <td>23.08</td>\n",
       "      <td>8.50</td>\n",
       "    </tr>\n",
       "    <tr>\n",
       "      <th>6</th>\n",
       "      <td>C066</td>\n",
       "      <td>C</td>\n",
       "      <td>Cust_Addr_66</td>\n",
       "      <td>NBFI</td>\n",
       "      <td>Small_customer</td>\n",
       "      <td>317750000</td>\n",
       "      <td>Low Proximity</td>\n",
       "      <td>13</td>\n",
       "      <td>738</td>\n",
       "      <td>10026</td>\n",
       "      <td>...</td>\n",
       "      <td>23</td>\n",
       "      <td>18</td>\n",
       "      <td>3</td>\n",
       "      <td>10</td>\n",
       "      <td>2</td>\n",
       "      <td>0</td>\n",
       "      <td>44</td>\n",
       "      <td>Yes</td>\n",
       "      <td>24.00</td>\n",
       "      <td>0.50</td>\n",
       "    </tr>\n",
       "    <tr>\n",
       "      <th>7</th>\n",
       "      <td>C050</td>\n",
       "      <td>B</td>\n",
       "      <td>Cust_Addr_50</td>\n",
       "      <td>Services</td>\n",
       "      <td>Mid_customer</td>\n",
       "      <td>728100180</td>\n",
       "      <td>Low Proximity</td>\n",
       "      <td>21</td>\n",
       "      <td>88</td>\n",
       "      <td>8523</td>\n",
       "      <td>...</td>\n",
       "      <td>12</td>\n",
       "      <td>13</td>\n",
       "      <td>14</td>\n",
       "      <td>12</td>\n",
       "      <td>13</td>\n",
       "      <td>11</td>\n",
       "      <td>59</td>\n",
       "      <td>Yes</td>\n",
       "      <td>23.92</td>\n",
       "      <td>2.67</td>\n",
       "    </tr>\n",
       "    <tr>\n",
       "      <th>8</th>\n",
       "      <td>C009</td>\n",
       "      <td>B</td>\n",
       "      <td>Cust_Addr_9</td>\n",
       "      <td>NBFI</td>\n",
       "      <td>Large_customer</td>\n",
       "      <td>7000400000</td>\n",
       "      <td>Low Proximity</td>\n",
       "      <td>422</td>\n",
       "      <td>15</td>\n",
       "      <td>4000</td>\n",
       "      <td>...</td>\n",
       "      <td>4</td>\n",
       "      <td>7</td>\n",
       "      <td>1</td>\n",
       "      <td>2</td>\n",
       "      <td>12</td>\n",
       "      <td>10</td>\n",
       "      <td>11</td>\n",
       "      <td>No</td>\n",
       "      <td>25.25</td>\n",
       "      <td>4.25</td>\n",
       "    </tr>\n",
       "    <tr>\n",
       "      <th>9</th>\n",
       "      <td>C051</td>\n",
       "      <td>C</td>\n",
       "      <td>Cust_Addr_51</td>\n",
       "      <td>NBFI</td>\n",
       "      <td>Mid_customer</td>\n",
       "      <td>400195500</td>\n",
       "      <td>Low Proximity</td>\n",
       "      <td>58</td>\n",
       "      <td>63</td>\n",
       "      <td>6023</td>\n",
       "      <td>...</td>\n",
       "      <td>8</td>\n",
       "      <td>9</td>\n",
       "      <td>10</td>\n",
       "      <td>8</td>\n",
       "      <td>9</td>\n",
       "      <td>7</td>\n",
       "      <td>38</td>\n",
       "      <td>Yes</td>\n",
       "      <td>23.83</td>\n",
       "      <td>6.58</td>\n",
       "    </tr>\n",
       "  </tbody>\n",
       "</table>\n",
       "<p>10 rows × 27 columns</p>\n",
       "</div>"
      ],
      "text/plain": [
       "  CustomerId CreditRating Customer Address      Industry CustomerSegment  \\\n",
       "0       C055            A     Cust_Addr_55  Manufaturing  Small_customer   \n",
       "1       C021            C     Cust_Addr_21          NBFI  Large_customer   \n",
       "2       C015            A     Cust_Addr_15          NBFI  Large_customer   \n",
       "3       C062            C     Cust_Addr_62      Services  Small_customer   \n",
       "4       C029            B     Cust_Addr_29      Services    Mid_customer   \n",
       "5       C081            B     Cust_Addr_81          NBFI  Small_customer   \n",
       "6       C066            C     Cust_Addr_66          NBFI  Small_customer   \n",
       "7       C050            B     Cust_Addr_50      Services    Mid_customer   \n",
       "8       C009            B      Cust_Addr_9          NBFI  Large_customer   \n",
       "9       C051            C     Cust_Addr_51          NBFI    Mid_customer   \n",
       "\n",
       "     Turnover DistanceToResidence  NumOfProducts  Liquidity  Payments  ...  \\\n",
       "0   231150900      High Proximity             56        636     36009  ...   \n",
       "1   200100000       Low Proximity             98        766     10003  ...   \n",
       "2  8000700000      High Proximity            560        112      6017  ...   \n",
       "3   526750000       Low Proximity             65         20      3209  ...   \n",
       "4   551000080    Medium Proximity             94        699     23020  ...   \n",
       "5    55000033       Low Proximity            608         38      4012  ...   \n",
       "6   317750000       Low Proximity             13        738     10026  ...   \n",
       "7   728100180       Low Proximity             21         88      8523  ...   \n",
       "8  7000400000       Low Proximity            422         15      4000  ...   \n",
       "9   400195500       Low Proximity             58         63      6023  ...   \n",
       "\n",
       "   Payments made after due date  # of cancelled Bills in last 6 Months  \\\n",
       "0                            18                                     11   \n",
       "1                             9                                     10   \n",
       "2                             7                                      8   \n",
       "3                            13                                     14   \n",
       "4                             9                                     10   \n",
       "5                             1                                      2   \n",
       "6                            23                                     18   \n",
       "7                            12                                     13   \n",
       "8                             4                                      7   \n",
       "9                             8                                      9   \n",
       "\n",
       "   # of cancelled Paymnets in last 6 Months  \\\n",
       "0                                         4   \n",
       "1                                        11   \n",
       "2                                         9   \n",
       "3                                         3   \n",
       "4                                        11   \n",
       "5                                         3   \n",
       "6                                         3   \n",
       "7                                        14   \n",
       "8                                         1   \n",
       "9                                        10   \n",
       "\n",
       "  # of credit adjustments in last 6 Months  \\\n",
       "0                                       11   \n",
       "1                                        9   \n",
       "2                                        7   \n",
       "3                                       14   \n",
       "4                                        9   \n",
       "5                                        1   \n",
       "6                                       10   \n",
       "7                                       12   \n",
       "8                                        2   \n",
       "9                                        8   \n",
       "\n",
       "   # of debit adjustments in last 6 Months  \\\n",
       "0                                        3   \n",
       "1                                       10   \n",
       "2                                        8   \n",
       "3                                        2   \n",
       "4                                       10   \n",
       "5                                        2   \n",
       "6                                        2   \n",
       "7                                       13   \n",
       "8                                       12   \n",
       "9                                        9   \n",
       "\n",
       "   # of reversed/cancelled adjustments in last 6 Months  # of complains   \\\n",
       "0                                                  1                  22   \n",
       "1                                                  8                  44   \n",
       "2                                                  6                  11   \n",
       "3                                                  0                  85   \n",
       "4                                                  8                  43   \n",
       "5                                                  0                   3   \n",
       "6                                                  0                  44   \n",
       "7                                                 11                  59   \n",
       "8                                                 10                  11   \n",
       "9                                                  7                  38   \n",
       "\n",
       "   Exit    Age  Tenure_  \n",
       "0   Yes  21.58    10.67  \n",
       "1   Yes  20.58     2.75  \n",
       "2    No  23.92     6.50  \n",
       "3   Yes  20.17     1.25  \n",
       "4   Yes  21.08     8.67  \n",
       "5    No  23.08     8.50  \n",
       "6   Yes  24.00     0.50  \n",
       "7   Yes  23.92     2.67  \n",
       "8    No  25.25     4.25  \n",
       "9   Yes  23.83     6.58  \n",
       "\n",
       "[10 rows x 27 columns]"
      ]
     },
     "execution_count": 9,
     "metadata": {},
     "output_type": "execute_result"
    }
   ],
   "source": [
    "df.head(10)"
   ]
  },
  {
   "cell_type": "code",
   "execution_count": 10,
   "metadata": {},
   "outputs": [],
   "source": [
    "\n",
    "df = label_encoder(df, ['CreditRating'])\n",
    "df = label_encoder(df, ['DistanceToResidence'])\n",
    "df = label_encoder(df, ['HasCrCard'])\n",
    "df = label_encoder(df, ['Exit'])\n"
   ]
  },
  {
   "cell_type": "code",
   "execution_count": 11,
   "metadata": {},
   "outputs": [
    {
     "data": {
      "text/html": [
       "<div>\n",
       "<style scoped>\n",
       "    .dataframe tbody tr th:only-of-type {\n",
       "        vertical-align: middle;\n",
       "    }\n",
       "\n",
       "    .dataframe tbody tr th {\n",
       "        vertical-align: top;\n",
       "    }\n",
       "\n",
       "    .dataframe thead th {\n",
       "        text-align: right;\n",
       "    }\n",
       "</style>\n",
       "<table border=\"1\" class=\"dataframe\">\n",
       "  <thead>\n",
       "    <tr style=\"text-align: right;\">\n",
       "      <th></th>\n",
       "      <th>CustomerId</th>\n",
       "      <th>CreditRating</th>\n",
       "      <th>Customer Address</th>\n",
       "      <th>Industry</th>\n",
       "      <th>CustomerSegment</th>\n",
       "      <th>Turnover</th>\n",
       "      <th>DistanceToResidence</th>\n",
       "      <th>NumOfProducts</th>\n",
       "      <th>Liquidity</th>\n",
       "      <th>Payments</th>\n",
       "      <th>...</th>\n",
       "      <th>Payments made after due date</th>\n",
       "      <th># of cancelled Bills in last 6 Months</th>\n",
       "      <th># of cancelled Paymnets in last 6 Months</th>\n",
       "      <th># of credit adjustments in last 6 Months</th>\n",
       "      <th># of debit adjustments in last 6 Months</th>\n",
       "      <th># of reversed/cancelled adjustments in last 6 Months</th>\n",
       "      <th># of complains</th>\n",
       "      <th>Exit</th>\n",
       "      <th>Age</th>\n",
       "      <th>Tenure_</th>\n",
       "    </tr>\n",
       "  </thead>\n",
       "  <tbody>\n",
       "    <tr>\n",
       "      <th>0</th>\n",
       "      <td>C055</td>\n",
       "      <td>0</td>\n",
       "      <td>Cust_Addr_55</td>\n",
       "      <td>Manufaturing</td>\n",
       "      <td>Small_customer</td>\n",
       "      <td>231150900</td>\n",
       "      <td>0</td>\n",
       "      <td>56</td>\n",
       "      <td>636</td>\n",
       "      <td>36009</td>\n",
       "      <td>...</td>\n",
       "      <td>18</td>\n",
       "      <td>11</td>\n",
       "      <td>4</td>\n",
       "      <td>11</td>\n",
       "      <td>3</td>\n",
       "      <td>1</td>\n",
       "      <td>22</td>\n",
       "      <td>1</td>\n",
       "      <td>21.58</td>\n",
       "      <td>10.67</td>\n",
       "    </tr>\n",
       "    <tr>\n",
       "      <th>1</th>\n",
       "      <td>C021</td>\n",
       "      <td>2</td>\n",
       "      <td>Cust_Addr_21</td>\n",
       "      <td>NBFI</td>\n",
       "      <td>Large_customer</td>\n",
       "      <td>200100000</td>\n",
       "      <td>1</td>\n",
       "      <td>98</td>\n",
       "      <td>766</td>\n",
       "      <td>10003</td>\n",
       "      <td>...</td>\n",
       "      <td>9</td>\n",
       "      <td>10</td>\n",
       "      <td>11</td>\n",
       "      <td>9</td>\n",
       "      <td>10</td>\n",
       "      <td>8</td>\n",
       "      <td>44</td>\n",
       "      <td>1</td>\n",
       "      <td>20.58</td>\n",
       "      <td>2.75</td>\n",
       "    </tr>\n",
       "    <tr>\n",
       "      <th>2</th>\n",
       "      <td>C015</td>\n",
       "      <td>0</td>\n",
       "      <td>Cust_Addr_15</td>\n",
       "      <td>NBFI</td>\n",
       "      <td>Large_customer</td>\n",
       "      <td>8000700000</td>\n",
       "      <td>0</td>\n",
       "      <td>560</td>\n",
       "      <td>112</td>\n",
       "      <td>6017</td>\n",
       "      <td>...</td>\n",
       "      <td>7</td>\n",
       "      <td>8</td>\n",
       "      <td>9</td>\n",
       "      <td>7</td>\n",
       "      <td>8</td>\n",
       "      <td>6</td>\n",
       "      <td>11</td>\n",
       "      <td>0</td>\n",
       "      <td>23.92</td>\n",
       "      <td>6.50</td>\n",
       "    </tr>\n",
       "    <tr>\n",
       "      <th>3</th>\n",
       "      <td>C062</td>\n",
       "      <td>2</td>\n",
       "      <td>Cust_Addr_62</td>\n",
       "      <td>Services</td>\n",
       "      <td>Small_customer</td>\n",
       "      <td>526750000</td>\n",
       "      <td>1</td>\n",
       "      <td>65</td>\n",
       "      <td>20</td>\n",
       "      <td>3209</td>\n",
       "      <td>...</td>\n",
       "      <td>13</td>\n",
       "      <td>14</td>\n",
       "      <td>3</td>\n",
       "      <td>14</td>\n",
       "      <td>2</td>\n",
       "      <td>0</td>\n",
       "      <td>85</td>\n",
       "      <td>1</td>\n",
       "      <td>20.17</td>\n",
       "      <td>1.25</td>\n",
       "    </tr>\n",
       "    <tr>\n",
       "      <th>4</th>\n",
       "      <td>C029</td>\n",
       "      <td>1</td>\n",
       "      <td>Cust_Addr_29</td>\n",
       "      <td>Services</td>\n",
       "      <td>Mid_customer</td>\n",
       "      <td>551000080</td>\n",
       "      <td>2</td>\n",
       "      <td>94</td>\n",
       "      <td>699</td>\n",
       "      <td>23020</td>\n",
       "      <td>...</td>\n",
       "      <td>9</td>\n",
       "      <td>10</td>\n",
       "      <td>11</td>\n",
       "      <td>9</td>\n",
       "      <td>10</td>\n",
       "      <td>8</td>\n",
       "      <td>43</td>\n",
       "      <td>1</td>\n",
       "      <td>21.08</td>\n",
       "      <td>8.67</td>\n",
       "    </tr>\n",
       "    <tr>\n",
       "      <th>5</th>\n",
       "      <td>C081</td>\n",
       "      <td>1</td>\n",
       "      <td>Cust_Addr_81</td>\n",
       "      <td>NBFI</td>\n",
       "      <td>Small_customer</td>\n",
       "      <td>55000033</td>\n",
       "      <td>1</td>\n",
       "      <td>608</td>\n",
       "      <td>38</td>\n",
       "      <td>4012</td>\n",
       "      <td>...</td>\n",
       "      <td>1</td>\n",
       "      <td>2</td>\n",
       "      <td>3</td>\n",
       "      <td>1</td>\n",
       "      <td>2</td>\n",
       "      <td>0</td>\n",
       "      <td>3</td>\n",
       "      <td>0</td>\n",
       "      <td>23.08</td>\n",
       "      <td>8.50</td>\n",
       "    </tr>\n",
       "    <tr>\n",
       "      <th>6</th>\n",
       "      <td>C066</td>\n",
       "      <td>2</td>\n",
       "      <td>Cust_Addr_66</td>\n",
       "      <td>NBFI</td>\n",
       "      <td>Small_customer</td>\n",
       "      <td>317750000</td>\n",
       "      <td>1</td>\n",
       "      <td>13</td>\n",
       "      <td>738</td>\n",
       "      <td>10026</td>\n",
       "      <td>...</td>\n",
       "      <td>23</td>\n",
       "      <td>18</td>\n",
       "      <td>3</td>\n",
       "      <td>10</td>\n",
       "      <td>2</td>\n",
       "      <td>0</td>\n",
       "      <td>44</td>\n",
       "      <td>1</td>\n",
       "      <td>24.00</td>\n",
       "      <td>0.50</td>\n",
       "    </tr>\n",
       "    <tr>\n",
       "      <th>7</th>\n",
       "      <td>C050</td>\n",
       "      <td>1</td>\n",
       "      <td>Cust_Addr_50</td>\n",
       "      <td>Services</td>\n",
       "      <td>Mid_customer</td>\n",
       "      <td>728100180</td>\n",
       "      <td>1</td>\n",
       "      <td>21</td>\n",
       "      <td>88</td>\n",
       "      <td>8523</td>\n",
       "      <td>...</td>\n",
       "      <td>12</td>\n",
       "      <td>13</td>\n",
       "      <td>14</td>\n",
       "      <td>12</td>\n",
       "      <td>13</td>\n",
       "      <td>11</td>\n",
       "      <td>59</td>\n",
       "      <td>1</td>\n",
       "      <td>23.92</td>\n",
       "      <td>2.67</td>\n",
       "    </tr>\n",
       "    <tr>\n",
       "      <th>8</th>\n",
       "      <td>C009</td>\n",
       "      <td>1</td>\n",
       "      <td>Cust_Addr_9</td>\n",
       "      <td>NBFI</td>\n",
       "      <td>Large_customer</td>\n",
       "      <td>7000400000</td>\n",
       "      <td>1</td>\n",
       "      <td>422</td>\n",
       "      <td>15</td>\n",
       "      <td>4000</td>\n",
       "      <td>...</td>\n",
       "      <td>4</td>\n",
       "      <td>7</td>\n",
       "      <td>1</td>\n",
       "      <td>2</td>\n",
       "      <td>12</td>\n",
       "      <td>10</td>\n",
       "      <td>11</td>\n",
       "      <td>0</td>\n",
       "      <td>25.25</td>\n",
       "      <td>4.25</td>\n",
       "    </tr>\n",
       "    <tr>\n",
       "      <th>9</th>\n",
       "      <td>C051</td>\n",
       "      <td>2</td>\n",
       "      <td>Cust_Addr_51</td>\n",
       "      <td>NBFI</td>\n",
       "      <td>Mid_customer</td>\n",
       "      <td>400195500</td>\n",
       "      <td>1</td>\n",
       "      <td>58</td>\n",
       "      <td>63</td>\n",
       "      <td>6023</td>\n",
       "      <td>...</td>\n",
       "      <td>8</td>\n",
       "      <td>9</td>\n",
       "      <td>10</td>\n",
       "      <td>8</td>\n",
       "      <td>9</td>\n",
       "      <td>7</td>\n",
       "      <td>38</td>\n",
       "      <td>1</td>\n",
       "      <td>23.83</td>\n",
       "      <td>6.58</td>\n",
       "    </tr>\n",
       "  </tbody>\n",
       "</table>\n",
       "<p>10 rows × 27 columns</p>\n",
       "</div>"
      ],
      "text/plain": [
       "  CustomerId  CreditRating Customer Address      Industry CustomerSegment  \\\n",
       "0       C055             0     Cust_Addr_55  Manufaturing  Small_customer   \n",
       "1       C021             2     Cust_Addr_21          NBFI  Large_customer   \n",
       "2       C015             0     Cust_Addr_15          NBFI  Large_customer   \n",
       "3       C062             2     Cust_Addr_62      Services  Small_customer   \n",
       "4       C029             1     Cust_Addr_29      Services    Mid_customer   \n",
       "5       C081             1     Cust_Addr_81          NBFI  Small_customer   \n",
       "6       C066             2     Cust_Addr_66          NBFI  Small_customer   \n",
       "7       C050             1     Cust_Addr_50      Services    Mid_customer   \n",
       "8       C009             1      Cust_Addr_9          NBFI  Large_customer   \n",
       "9       C051             2     Cust_Addr_51          NBFI    Mid_customer   \n",
       "\n",
       "     Turnover  DistanceToResidence  NumOfProducts  Liquidity  Payments  ...  \\\n",
       "0   231150900                    0             56        636     36009  ...   \n",
       "1   200100000                    1             98        766     10003  ...   \n",
       "2  8000700000                    0            560        112      6017  ...   \n",
       "3   526750000                    1             65         20      3209  ...   \n",
       "4   551000080                    2             94        699     23020  ...   \n",
       "5    55000033                    1            608         38      4012  ...   \n",
       "6   317750000                    1             13        738     10026  ...   \n",
       "7   728100180                    1             21         88      8523  ...   \n",
       "8  7000400000                    1            422         15      4000  ...   \n",
       "9   400195500                    1             58         63      6023  ...   \n",
       "\n",
       "   Payments made after due date  # of cancelled Bills in last 6 Months  \\\n",
       "0                            18                                     11   \n",
       "1                             9                                     10   \n",
       "2                             7                                      8   \n",
       "3                            13                                     14   \n",
       "4                             9                                     10   \n",
       "5                             1                                      2   \n",
       "6                            23                                     18   \n",
       "7                            12                                     13   \n",
       "8                             4                                      7   \n",
       "9                             8                                      9   \n",
       "\n",
       "   # of cancelled Paymnets in last 6 Months  \\\n",
       "0                                         4   \n",
       "1                                        11   \n",
       "2                                         9   \n",
       "3                                         3   \n",
       "4                                        11   \n",
       "5                                         3   \n",
       "6                                         3   \n",
       "7                                        14   \n",
       "8                                         1   \n",
       "9                                        10   \n",
       "\n",
       "   # of credit adjustments in last 6 Months  \\\n",
       "0                                        11   \n",
       "1                                         9   \n",
       "2                                         7   \n",
       "3                                        14   \n",
       "4                                         9   \n",
       "5                                         1   \n",
       "6                                        10   \n",
       "7                                        12   \n",
       "8                                         2   \n",
       "9                                         8   \n",
       "\n",
       "   # of debit adjustments in last 6 Months  \\\n",
       "0                                        3   \n",
       "1                                       10   \n",
       "2                                        8   \n",
       "3                                        2   \n",
       "4                                       10   \n",
       "5                                        2   \n",
       "6                                        2   \n",
       "7                                       13   \n",
       "8                                       12   \n",
       "9                                        9   \n",
       "\n",
       "   # of reversed/cancelled adjustments in last 6 Months  # of complains   \\\n",
       "0                                                  1                  22   \n",
       "1                                                  8                  44   \n",
       "2                                                  6                  11   \n",
       "3                                                  0                  85   \n",
       "4                                                  8                  43   \n",
       "5                                                  0                   3   \n",
       "6                                                  0                  44   \n",
       "7                                                 11                  59   \n",
       "8                                                 10                  11   \n",
       "9                                                  7                  38   \n",
       "\n",
       "   Exit    Age  Tenure_  \n",
       "0     1  21.58    10.67  \n",
       "1     1  20.58     2.75  \n",
       "2     0  23.92     6.50  \n",
       "3     1  20.17     1.25  \n",
       "4     1  21.08     8.67  \n",
       "5     0  23.08     8.50  \n",
       "6     1  24.00     0.50  \n",
       "7     1  23.92     2.67  \n",
       "8     0  25.25     4.25  \n",
       "9     1  23.83     6.58  \n",
       "\n",
       "[10 rows x 27 columns]"
      ]
     },
     "execution_count": 11,
     "metadata": {},
     "output_type": "execute_result"
    }
   ],
   "source": [
    "df.head(10)"
   ]
  },
  {
   "cell_type": "code",
   "execution_count": 12,
   "metadata": {},
   "outputs": [
    {
     "data": {
      "text/plain": [
       "'\\nIndustry = pd.get_dummies(df.Industry)\\ndf = pd.concat([df, Industry], axis=1)\\n\\nCust_Seg = pd.get_dummies(df.CustomerSegment)\\ndf = pd.concat([df, Cust_Seg], axis=1)\\n'"
      ]
     },
     "execution_count": 12,
     "metadata": {},
     "output_type": "execute_result"
    }
   ],
   "source": [
    "'''\n",
    "Industry = pd.get_dummies(df.Industry)\n",
    "df = pd.concat([df, Industry], axis=1)\n",
    "\n",
    "Cust_Seg = pd.get_dummies(df.CustomerSegment)\n",
    "df = pd.concat([df, Cust_Seg], axis=1)\n",
    "'''"
   ]
  },
  {
   "cell_type": "code",
   "execution_count": 13,
   "metadata": {},
   "outputs": [],
   "source": [
    "df=pd.get_dummies(df,columns=['Industry','CustomerSegment'],drop_first=True)"
   ]
  },
  {
   "cell_type": "code",
   "execution_count": 14,
   "metadata": {},
   "outputs": [
    {
     "data": {
      "text/plain": [
       "<AxesSubplot:>"
      ]
     },
     "execution_count": 14,
     "metadata": {},
     "output_type": "execute_result"
    },
    {
     "data": {
      "image/png": "[encoded data removed]",
      "text/plain": [
       "<Figure size 720x720 with 2 Axes>"
      ]
     },
     "metadata": {
      "needs_background": "light"
     },
     "output_type": "display_data"
    }
   ],
   "source": [
    "# correlation table\n",
    "\n",
    "corr = df.corr()\n",
    "f, ax = plt.subplots(figsize=(10, 10))\n",
    "cmap = sns.diverging_palette(220, 10, as_cmap=True)\n",
    "sns.heatmap(corr, mask=None, cmap=cmap, vmax=.3, center=0,\n",
    "            square=True, linewidths=.5, cbar_kws={\"shrink\": .5})"
   ]
  },
  {
   "cell_type": "code",
   "execution_count": 15,
   "metadata": {},
   "outputs": [
    {
     "data": {
      "text/html": [
       "<div>\n",
       "<style scoped>\n",
       "    .dataframe tbody tr th:only-of-type {\n",
       "        vertical-align: middle;\n",
       "    }\n",
       "\n",
       "    .dataframe tbody tr th {\n",
       "        vertical-align: top;\n",
       "    }\n",
       "\n",
       "    .dataframe thead th {\n",
       "        text-align: right;\n",
       "    }\n",
       "</style>\n",
       "<table border=\"1\" class=\"dataframe\">\n",
       "  <thead>\n",
       "    <tr style=\"text-align: right;\">\n",
       "      <th></th>\n",
       "      <th>CustomerId</th>\n",
       "      <th>CreditRating</th>\n",
       "      <th>Customer Address</th>\n",
       "      <th>Turnover</th>\n",
       "      <th>DistanceToResidence</th>\n",
       "      <th>NumOfProducts</th>\n",
       "      <th>Liquidity</th>\n",
       "      <th>Payments</th>\n",
       "      <th>Lending_Loan</th>\n",
       "      <th>Trade</th>\n",
       "      <th>...</th>\n",
       "      <th># of debit adjustments in last 6 Months</th>\n",
       "      <th># of reversed/cancelled adjustments in last 6 Months</th>\n",
       "      <th># of complains</th>\n",
       "      <th>Exit</th>\n",
       "      <th>Age</th>\n",
       "      <th>Tenure_</th>\n",
       "      <th>Industry_NBFI</th>\n",
       "      <th>Industry_Services</th>\n",
       "      <th>CustomerSegment_Mid_customer</th>\n",
       "      <th>CustomerSegment_Small_customer</th>\n",
       "    </tr>\n",
       "  </thead>\n",
       "  <tbody>\n",
       "    <tr>\n",
       "      <th>0</th>\n",
       "      <td>C055</td>\n",
       "      <td>0</td>\n",
       "      <td>Cust_Addr_55</td>\n",
       "      <td>231150900</td>\n",
       "      <td>0</td>\n",
       "      <td>56</td>\n",
       "      <td>636</td>\n",
       "      <td>36009</td>\n",
       "      <td>3600900</td>\n",
       "      <td>1230000</td>\n",
       "      <td>...</td>\n",
       "      <td>3</td>\n",
       "      <td>1</td>\n",
       "      <td>22</td>\n",
       "      <td>1</td>\n",
       "      <td>21.58</td>\n",
       "      <td>10.67</td>\n",
       "      <td>0</td>\n",
       "      <td>0</td>\n",
       "      <td>0</td>\n",
       "      <td>1</td>\n",
       "    </tr>\n",
       "  </tbody>\n",
       "</table>\n",
       "<p>1 rows × 29 columns</p>\n",
       "</div>"
      ],
      "text/plain": [
       "  CustomerId  CreditRating Customer Address   Turnover  DistanceToResidence  \\\n",
       "0       C055             0     Cust_Addr_55  231150900                    0   \n",
       "\n",
       "   NumOfProducts  Liquidity  Payments  Lending_Loan    Trade  ...  \\\n",
       "0             56        636     36009       3600900  1230000  ...   \n",
       "\n",
       "   # of debit adjustments in last 6 Months  \\\n",
       "0                                        3   \n",
       "\n",
       "   # of reversed/cancelled adjustments in last 6 Months  # of complains   \\\n",
       "0                                                  1                  22   \n",
       "\n",
       "   Exit    Age  Tenure_  Industry_NBFI  Industry_Services  \\\n",
       "0     1  21.58    10.67              0                  0   \n",
       "\n",
       "   CustomerSegment_Mid_customer  CustomerSegment_Small_customer  \n",
       "0                             0                               1  \n",
       "\n",
       "[1 rows x 29 columns]"
      ]
     },
     "execution_count": 15,
     "metadata": {},
     "output_type": "execute_result"
    }
   ],
   "source": [
    "df.head(1)"
   ]
  },
  {
   "cell_type": "code",
   "execution_count": 16,
   "metadata": {},
   "outputs": [
    {
     "data": {
      "text/html": [
       "<div>\n",
       "<style scoped>\n",
       "    .dataframe tbody tr th:only-of-type {\n",
       "        vertical-align: middle;\n",
       "    }\n",
       "\n",
       "    .dataframe tbody tr th {\n",
       "        vertical-align: top;\n",
       "    }\n",
       "\n",
       "    .dataframe thead th {\n",
       "        text-align: right;\n",
       "    }\n",
       "</style>\n",
       "<table border=\"1\" class=\"dataframe\">\n",
       "  <thead>\n",
       "    <tr style=\"text-align: right;\">\n",
       "      <th></th>\n",
       "      <th># of cancelled Bills in last 6 Months</th>\n",
       "      <th># of cancelled Paymnets in last 6 Months</th>\n",
       "      <th># of credit adjustments in last 6 Months</th>\n",
       "      <th># of debit adjustments in last 6 Months</th>\n",
       "    </tr>\n",
       "  </thead>\n",
       "  <tbody>\n",
       "    <tr>\n",
       "      <th>0</th>\n",
       "      <td>11</td>\n",
       "      <td>4</td>\n",
       "      <td>11</td>\n",
       "      <td>3</td>\n",
       "    </tr>\n",
       "    <tr>\n",
       "      <th>1</th>\n",
       "      <td>10</td>\n",
       "      <td>11</td>\n",
       "      <td>9</td>\n",
       "      <td>10</td>\n",
       "    </tr>\n",
       "    <tr>\n",
       "      <th>2</th>\n",
       "      <td>8</td>\n",
       "      <td>9</td>\n",
       "      <td>7</td>\n",
       "      <td>8</td>\n",
       "    </tr>\n",
       "    <tr>\n",
       "      <th>3</th>\n",
       "      <td>14</td>\n",
       "      <td>3</td>\n",
       "      <td>14</td>\n",
       "      <td>2</td>\n",
       "    </tr>\n",
       "    <tr>\n",
       "      <th>4</th>\n",
       "      <td>10</td>\n",
       "      <td>11</td>\n",
       "      <td>9</td>\n",
       "      <td>10</td>\n",
       "    </tr>\n",
       "    <tr>\n",
       "      <th>...</th>\n",
       "      <td>...</td>\n",
       "      <td>...</td>\n",
       "      <td>...</td>\n",
       "      <td>...</td>\n",
       "    </tr>\n",
       "    <tr>\n",
       "      <th>76</th>\n",
       "      <td>13</td>\n",
       "      <td>14</td>\n",
       "      <td>12</td>\n",
       "      <td>13</td>\n",
       "    </tr>\n",
       "    <tr>\n",
       "      <th>77</th>\n",
       "      <td>9</td>\n",
       "      <td>10</td>\n",
       "      <td>8</td>\n",
       "      <td>9</td>\n",
       "    </tr>\n",
       "    <tr>\n",
       "      <th>78</th>\n",
       "      <td>3</td>\n",
       "      <td>4</td>\n",
       "      <td>2</td>\n",
       "      <td>3</td>\n",
       "    </tr>\n",
       "    <tr>\n",
       "      <th>79</th>\n",
       "      <td>12</td>\n",
       "      <td>13</td>\n",
       "      <td>11</td>\n",
       "      <td>12</td>\n",
       "    </tr>\n",
       "    <tr>\n",
       "      <th>80</th>\n",
       "      <td>12</td>\n",
       "      <td>13</td>\n",
       "      <td>11</td>\n",
       "      <td>12</td>\n",
       "    </tr>\n",
       "  </tbody>\n",
       "</table>\n",
       "<p>81 rows × 4 columns</p>\n",
       "</div>"
      ],
      "text/plain": [
       "    # of cancelled Bills in last 6 Months  \\\n",
       "0                                      11   \n",
       "1                                      10   \n",
       "2                                       8   \n",
       "3                                      14   \n",
       "4                                      10   \n",
       "..                                    ...   \n",
       "76                                     13   \n",
       "77                                      9   \n",
       "78                                      3   \n",
       "79                                     12   \n",
       "80                                     12   \n",
       "\n",
       "    # of cancelled Paymnets in last 6 Months  \\\n",
       "0                                          4   \n",
       "1                                         11   \n",
       "2                                          9   \n",
       "3                                          3   \n",
       "4                                         11   \n",
       "..                                       ...   \n",
       "76                                        14   \n",
       "77                                        10   \n",
       "78                                         4   \n",
       "79                                        13   \n",
       "80                                        13   \n",
       "\n",
       "    # of credit adjustments in last 6 Months  \\\n",
       "0                                         11   \n",
       "1                                          9   \n",
       "2                                          7   \n",
       "3                                         14   \n",
       "4                                          9   \n",
       "..                                       ...   \n",
       "76                                        12   \n",
       "77                                         8   \n",
       "78                                         2   \n",
       "79                                        11   \n",
       "80                                        11   \n",
       "\n",
       "    # of debit adjustments in last 6 Months  \n",
       "0                                         3  \n",
       "1                                        10  \n",
       "2                                         8  \n",
       "3                                         2  \n",
       "4                                        10  \n",
       "..                                      ...  \n",
       "76                                       13  \n",
       "77                                        9  \n",
       "78                                        3  \n",
       "79                                       12  \n",
       "80                                       12  \n",
       "\n",
       "[81 rows x 4 columns]"
      ]
     },
     "execution_count": 16,
     "metadata": {},
     "output_type": "execute_result"
    }
   ],
   "source": [
    "df.iloc[:, 16:20]"
   ]
  },
  {
   "cell_type": "code",
   "execution_count": 17,
   "metadata": {},
   "outputs": [],
   "source": [
    "# As all the cancllaions are highly corellated we decide to merge them into a column called cancellation\n",
    "df.loc[:,'Cancellations'] = df.iloc[:,16:22].sum(axis=1)\n",
    "\n"
   ]
  },
  {
   "cell_type": "code",
   "execution_count": 18,
   "metadata": {},
   "outputs": [],
   "source": [
    "\n",
    "df=df.drop(['# of cancelled Bills in last 6 Months','# of cancelled Paymnets in last 6 Months','# of credit adjustments in last 6 Months','# of debit adjustments in last 6 Months','# of reversed/cancelled adjustments in last 6 Months'], axis = 1)\n"
   ]
  },
  {
   "cell_type": "code",
   "execution_count": 19,
   "metadata": {},
   "outputs": [],
   "source": [
    "df['Exited']=df['Exit']"
   ]
  },
  {
   "cell_type": "code",
   "execution_count": 20,
   "metadata": {},
   "outputs": [],
   "source": [
    "#We removed Customer ID ,Customer Address\n",
    "df=df.drop(['Customer Address','CustomerId','Exit'], axis = 1)\n"
   ]
  },
  {
   "cell_type": "code",
   "execution_count": 21,
   "metadata": {},
   "outputs": [],
   "source": [
    "df= df.rename(columns={'Exited': 'Exit'})"
   ]
  },
  {
   "cell_type": "code",
   "execution_count": 22,
   "metadata": {},
   "outputs": [
    {
     "data": {
      "text/html": [
       "<div>\n",
       "<style scoped>\n",
       "    .dataframe tbody tr th:only-of-type {\n",
       "        vertical-align: middle;\n",
       "    }\n",
       "\n",
       "    .dataframe tbody tr th {\n",
       "        vertical-align: top;\n",
       "    }\n",
       "\n",
       "    .dataframe thead th {\n",
       "        text-align: right;\n",
       "    }\n",
       "</style>\n",
       "<table border=\"1\" class=\"dataframe\">\n",
       "  <thead>\n",
       "    <tr style=\"text-align: right;\">\n",
       "      <th></th>\n",
       "      <th>CreditRating</th>\n",
       "      <th>Turnover</th>\n",
       "      <th>DistanceToResidence</th>\n",
       "      <th>NumOfProducts</th>\n",
       "      <th>Liquidity</th>\n",
       "      <th>Payments</th>\n",
       "      <th>Lending_Loan</th>\n",
       "      <th>Trade</th>\n",
       "      <th>Insurance</th>\n",
       "      <th>HasCrCard</th>\n",
       "      <th>...</th>\n",
       "      <th>Payments made after due date</th>\n",
       "      <th># of complains</th>\n",
       "      <th>Age</th>\n",
       "      <th>Tenure_</th>\n",
       "      <th>Industry_NBFI</th>\n",
       "      <th>Industry_Services</th>\n",
       "      <th>CustomerSegment_Mid_customer</th>\n",
       "      <th>CustomerSegment_Small_customer</th>\n",
       "      <th>Cancellations</th>\n",
       "      <th>Exit</th>\n",
       "    </tr>\n",
       "  </thead>\n",
       "  <tbody>\n",
       "    <tr>\n",
       "      <th>0</th>\n",
       "      <td>0</td>\n",
       "      <td>231150900</td>\n",
       "      <td>0</td>\n",
       "      <td>56</td>\n",
       "      <td>636</td>\n",
       "      <td>36009</td>\n",
       "      <td>3600900</td>\n",
       "      <td>1230000</td>\n",
       "      <td>1329999.5</td>\n",
       "      <td>1</td>\n",
       "      <td>...</td>\n",
       "      <td>18</td>\n",
       "      <td>22</td>\n",
       "      <td>21.58</td>\n",
       "      <td>10.67</td>\n",
       "      <td>0</td>\n",
       "      <td>0</td>\n",
       "      <td>0</td>\n",
       "      <td>1</td>\n",
       "      <td>52</td>\n",
       "      <td>1</td>\n",
       "    </tr>\n",
       "    <tr>\n",
       "      <th>1</th>\n",
       "      <td>2</td>\n",
       "      <td>200100000</td>\n",
       "      <td>1</td>\n",
       "      <td>98</td>\n",
       "      <td>766</td>\n",
       "      <td>10003</td>\n",
       "      <td>1000300</td>\n",
       "      <td>492738</td>\n",
       "      <td>1492737.5</td>\n",
       "      <td>1</td>\n",
       "      <td>...</td>\n",
       "      <td>9</td>\n",
       "      <td>44</td>\n",
       "      <td>20.58</td>\n",
       "      <td>2.75</td>\n",
       "      <td>1</td>\n",
       "      <td>0</td>\n",
       "      <td>0</td>\n",
       "      <td>0</td>\n",
       "      <td>92</td>\n",
       "      <td>1</td>\n",
       "    </tr>\n",
       "    <tr>\n",
       "      <th>2</th>\n",
       "      <td>0</td>\n",
       "      <td>8000700000</td>\n",
       "      <td>0</td>\n",
       "      <td>560</td>\n",
       "      <td>112</td>\n",
       "      <td>6017</td>\n",
       "      <td>4601700</td>\n",
       "      <td>1395691</td>\n",
       "      <td>395690.5</td>\n",
       "      <td>1</td>\n",
       "      <td>...</td>\n",
       "      <td>7</td>\n",
       "      <td>11</td>\n",
       "      <td>23.92</td>\n",
       "      <td>6.50</td>\n",
       "      <td>1</td>\n",
       "      <td>0</td>\n",
       "      <td>0</td>\n",
       "      <td>0</td>\n",
       "      <td>49</td>\n",
       "      <td>0</td>\n",
       "    </tr>\n",
       "    <tr>\n",
       "      <th>3</th>\n",
       "      <td>2</td>\n",
       "      <td>526750000</td>\n",
       "      <td>1</td>\n",
       "      <td>65</td>\n",
       "      <td>20</td>\n",
       "      <td>3209</td>\n",
       "      <td>320900</td>\n",
       "      <td>1232829</td>\n",
       "      <td>1232828.5</td>\n",
       "      <td>0</td>\n",
       "      <td>...</td>\n",
       "      <td>13</td>\n",
       "      <td>85</td>\n",
       "      <td>20.17</td>\n",
       "      <td>1.25</td>\n",
       "      <td>0</td>\n",
       "      <td>1</td>\n",
       "      <td>0</td>\n",
       "      <td>1</td>\n",
       "      <td>118</td>\n",
       "      <td>1</td>\n",
       "    </tr>\n",
       "    <tr>\n",
       "      <th>4</th>\n",
       "      <td>1</td>\n",
       "      <td>551000080</td>\n",
       "      <td>2</td>\n",
       "      <td>94</td>\n",
       "      <td>699</td>\n",
       "      <td>23020</td>\n",
       "      <td>2302000</td>\n",
       "      <td>738369</td>\n",
       "      <td>738368.5</td>\n",
       "      <td>0</td>\n",
       "      <td>...</td>\n",
       "      <td>9</td>\n",
       "      <td>43</td>\n",
       "      <td>21.08</td>\n",
       "      <td>8.67</td>\n",
       "      <td>0</td>\n",
       "      <td>1</td>\n",
       "      <td>1</td>\n",
       "      <td>0</td>\n",
       "      <td>91</td>\n",
       "      <td>1</td>\n",
       "    </tr>\n",
       "  </tbody>\n",
       "</table>\n",
       "<p>5 rows × 23 columns</p>\n",
       "</div>"
      ],
      "text/plain": [
       "   CreditRating    Turnover  DistanceToResidence  NumOfProducts  Liquidity  \\\n",
       "0             0   231150900                    0             56        636   \n",
       "1             2   200100000                    1             98        766   \n",
       "2             0  8000700000                    0            560        112   \n",
       "3             2   526750000                    1             65         20   \n",
       "4             1   551000080                    2             94        699   \n",
       "\n",
       "   Payments  Lending_Loan    Trade  Insurance  HasCrCard  ...  \\\n",
       "0     36009       3600900  1230000  1329999.5          1  ...   \n",
       "1     10003       1000300   492738  1492737.5          1  ...   \n",
       "2      6017       4601700  1395691   395690.5          1  ...   \n",
       "3      3209        320900  1232829  1232828.5          0  ...   \n",
       "4     23020       2302000   738369   738368.5          0  ...   \n",
       "\n",
       "   Payments made after due date  # of complains     Age  Tenure_  \\\n",
       "0                            18               22  21.58    10.67   \n",
       "1                             9               44  20.58     2.75   \n",
       "2                             7               11  23.92     6.50   \n",
       "3                            13               85  20.17     1.25   \n",
       "4                             9               43  21.08     8.67   \n",
       "\n",
       "   Industry_NBFI  Industry_Services  CustomerSegment_Mid_customer  \\\n",
       "0              0                  0                             0   \n",
       "1              1                  0                             0   \n",
       "2              1                  0                             0   \n",
       "3              0                  1                             0   \n",
       "4              0                  1                             1   \n",
       "\n",
       "   CustomerSegment_Small_customer  Cancellations  Exit  \n",
       "0                               1             52     1  \n",
       "1                               0             92     1  \n",
       "2                               0             49     0  \n",
       "3                               1            118     1  \n",
       "4                               0             91     1  \n",
       "\n",
       "[5 rows x 23 columns]"
      ]
     },
     "execution_count": 22,
     "metadata": {},
     "output_type": "execute_result"
    }
   ],
   "source": [
    "df.head()"
   ]
  },
  {
   "cell_type": "code",
   "execution_count": null,
   "metadata": {},
   "outputs": [],
   "source": []
  },
  {
   "cell_type": "code",
   "execution_count": 23,
   "metadata": {},
   "outputs": [
    {
     "data": {
      "text/plain": [
       "<matplotlib.legend.Legend at 0x26ee433c6d8>"
      ]
     },
     "execution_count": 23,
     "metadata": {},
     "output_type": "execute_result"
    },
    {
     "data": {
      "image/png": "[encoded data removed]",
      "text/plain": [
       "<Figure size 432x288 with 1 Axes>"
      ]
     },
     "metadata": {
      "needs_background": "light"
     },
     "output_type": "display_data"
    }
   ],
   "source": [
    "# Attributes distribution with respect to Prediction factor\n",
    "\n",
    "ax=plt.figure()\n",
    "ax=sns.distplot(data[df['Exit'] == 1]['Turnover'], color = 'b',label='Yes')\n",
    "ax=sns.distplot(data[df['Exit'] == 0]['Turnover'], color = 'r',label='No')\n",
    "\n",
    "ax.legend(title='Exited')\n",
    "#ML_Visuals.savefig()\n"
   ]
  },
  {
   "cell_type": "code",
   "execution_count": 24,
   "metadata": {},
   "outputs": [
    {
     "data": {
      "text/plain": [
       "<matplotlib.legend.Legend at 0x26ee3ca55f8>"
      ]
     },
     "execution_count": 24,
     "metadata": {},
     "output_type": "execute_result"
    },
    {
     "data": {
      "image/png": "[encoded data removed]",
      "text/plain": [
       "<Figure size 432x288 with 1 Axes>"
      ]
     },
     "metadata": {
      "needs_background": "light"
     },
     "output_type": "display_data"
    }
   ],
   "source": [
    "\n",
    "ax=sns.distplot(data[df['Exit'] == 1]['NumOfProducts'], color = 'b',label='Yes')\n",
    "ax=sns.distplot(data[df['Exit'] == 0]['NumOfProducts'], color = 'r',label='No')\n",
    "ax.legend(title='Exited')\n",
    "#ML_Visuals.savefig()\n"
   ]
  },
  {
   "cell_type": "code",
   "execution_count": 25,
   "metadata": {},
   "outputs": [
    {
     "data": {
      "text/plain": [
       "<matplotlib.legend.Legend at 0x26ee3cfcba8>"
      ]
     },
     "execution_count": 25,
     "metadata": {},
     "output_type": "execute_result"
    },
    {
     "data": {
      "image/png": "[encoded data removed]",
      "text/plain": [
       "<Figure size 432x288 with 1 Axes>"
      ]
     },
     "metadata": {
      "needs_background": "light"
     },
     "output_type": "display_data"
    }
   ],
   "source": [
    "ax=sns.distplot(data[df['Exit'] == 0]['Payments'], color='r',label=\"No\")\n",
    "ax=sns.distplot(data[df['Exit'] == 1]['Payments'], color = 'b',label=\"Yes\")\n",
    "ax.legend(title='Exited')\n",
    "#ML_Visuals.savefig()\n",
    "\n"
   ]
  },
  {
   "cell_type": "code",
   "execution_count": 26,
   "metadata": {},
   "outputs": [
    {
     "data": {
      "text/plain": [
       "<matplotlib.legend.Legend at 0x26ee3d974e0>"
      ]
     },
     "execution_count": 26,
     "metadata": {},
     "output_type": "execute_result"
    },
    {
     "data": {
      "image/png": "[encoded data removed]",
      "text/plain": [
       "<Figure size 432x288 with 1 Axes>"
      ]
     },
     "metadata": {
      "needs_background": "light"
     },
     "output_type": "display_data"
    }
   ],
   "source": [
    "ax=sns.distplot(data[df['Exit'] == 1]['Lending_Loan'], color = 'b',label=\"Lending_Loan-->Yes\")\n",
    "ax=sns.distplot(data[df['Exit'] == 0]['Lending_Loan'], color = 'r',label=\"Lending_Loan-->No\")\n",
    "ax=sns.distplot(data[df['Exit'] == 1]['Trade'], color = 'g',label=\"Trade-->Yes\")\n",
    "ax=sns.distplot(data[df['Exit'] == 0]['Trade'], color = 'grey',label=\"Trade-->No\")\n",
    "ax=sns.distplot(data[df['Exit'] == 1]['Insurance'], color = 'orange',label=\"Insurance-->Yes\")\n",
    "ax=sns.distplot(data[df['Exit'] == 0]['Insurance'], color = 'm',label=\"Insurance-->No\")\n",
    "ax.legend(title='Exited')\n",
    "#ML_Visuals.savefig()\n"
   ]
  },
  {
   "cell_type": "code",
   "execution_count": 27,
   "metadata": {},
   "outputs": [
    {
     "data": {
      "text/plain": [
       "<matplotlib.legend.Legend at 0x26ee41675f8>"
      ]
     },
     "execution_count": 27,
     "metadata": {},
     "output_type": "execute_result"
    },
    {
     "data": {
      "image/png": "[encoded data removed]",
      "text/plain": [
       "<Figure size 432x288 with 1 Axes>"
      ]
     },
     "metadata": {
      "needs_background": "light"
     },
     "output_type": "display_data"
    }
   ],
   "source": [
    "\n",
    "ax=sns.distplot(data[df['Exit'] == 1]['Aggregate Balance'], color = 'b',label='Yes')\n",
    "ax=sns.distplot(data[df['Exit'] == 0]['Aggregate Balance'], color = 'r',label='No')\n",
    "ax.legend(title='Exited')\n",
    "#ML_Visuals.savefig()\n"
   ]
  },
  {
   "cell_type": "code",
   "execution_count": 28,
   "metadata": {},
   "outputs": [
    {
     "data": {
      "text/plain": [
       "<matplotlib.legend.Legend at 0x26ee41fb080>"
      ]
     },
     "execution_count": 28,
     "metadata": {},
     "output_type": "execute_result"
    },
    {
     "data": {
      "image/png": "[encoded data removed]",
      "text/plain": [
       "<Figure size 432x288 with 1 Axes>"
      ]
     },
     "metadata": {
      "needs_background": "light"
     },
     "output_type": "display_data"
    }
   ],
   "source": [
    "\n",
    "ax=sns.distplot(data[df['Exit'] == 1]['No Of Transactions'], color = 'b',label='Yes' )\n",
    "ax=sns.distplot(data[df['Exit'] == 0]['No Of Transactions'], color = 'r',label='No' )\n",
    "ax.legend(title='Exited')\n",
    "#ML_Visuals.savefig()\n"
   ]
  },
  {
   "cell_type": "code",
   "execution_count": 29,
   "metadata": {},
   "outputs": [
    {
     "data": {
      "text/plain": [
       "<matplotlib.legend.Legend at 0x26ee428b278>"
      ]
     },
     "execution_count": 29,
     "metadata": {},
     "output_type": "execute_result"
    },
    {
     "data": {
      "image/png": "[encoded data removed]",
      "text/plain": [
       "<Figure size 432x288 with 1 Axes>"
      ]
     },
     "metadata": {
      "needs_background": "light"
     },
     "output_type": "display_data"
    }
   ],
   "source": [
    "\n",
    "\n",
    "ax=sns.distplot(data[df['Exit'] == 1]['Payments made after due date'], color = 'b',label='Yes' )\n",
    "ax=sns.distplot(data[df['Exit'] == 0]['Payments made after due date'], color = 'r',label='No' )\n",
    "ax.legend(title='Exited')\n",
    "#ML_Visuals.savefig()\n"
   ]
  },
  {
   "cell_type": "code",
   "execution_count": 30,
   "metadata": {},
   "outputs": [
    {
     "data": {
      "text/plain": [
       "[Text(0.5, 1.0, 'Years In Bank ')]"
      ]
     },
     "execution_count": 30,
     "metadata": {},
     "output_type": "execute_result"
    },
    {
     "data": {
      "image/png": "[encoded data removed]",
      "text/plain": [
       "<Figure size 432x288 with 1 Axes>"
      ]
     },
     "metadata": {
      "needs_background": "light"
     },
     "output_type": "display_data"
    }
   ],
   "source": [
    "\n",
    "ax=sns.barplot(x=round(df.Tenure_),y=round(df.Tenure_),data=df,hue=\"Exit\", palette=\"vlag\",estimator=lambda x: len(x) / len(df) * 100)\n",
    "ax.set(ylabel=\"Years In Bank\")\n",
    "ax.set(ylabel=\"Percentage\")\n",
    "ax.set(title=\"Years In Bank \")\n",
    "#ML_Visuals.savefig()"
   ]
  },
  {
   "cell_type": "code",
   "execution_count": 31,
   "metadata": {},
   "outputs": [
    {
     "data": {
      "text/plain": [
       "[Text(0, 0.5, 'Percentage')]"
      ]
     },
     "execution_count": 31,
     "metadata": {},
     "output_type": "execute_result"
    },
    {
     "data": {
      "image/png": "[encoded data removed]",
      "text/plain": [
       "<Figure size 432x288 with 1 Axes>"
      ]
     },
     "metadata": {
      "needs_background": "light"
     },
     "output_type": "display_data"
    }
   ],
   "source": [
    "\n",
    "\n",
    "#ax=plt.figure(figsize=(10,5))\n",
    "ax=sns.barplot(x=round(df.Age),y=round(df.Age),data=data,hue=\"Exit\", palette=\"vlag\" ,estimator=lambda x: len(x) / len(df) * 100)\n",
    "ax.set(ylabel=\"Age\")\n",
    "ax.set(ylabel=\"Percentage\")\n",
    "#ax.set(title=\"Age \")\n",
    "#ML_Visuals.savefig()\n"
   ]
  },
  {
   "cell_type": "code",
   "execution_count": 32,
   "metadata": {},
   "outputs": [
    {
     "data": {
      "text/plain": [
       "<matplotlib.legend.Legend at 0x26ee5552ba8>"
      ]
     },
     "execution_count": 32,
     "metadata": {},
     "output_type": "execute_result"
    },
    {
     "data": {
      "image/png": "[encoded data removed]",
      "text/plain": [
       "<Figure size 432x288 with 1 Axes>"
      ]
     },
     "metadata": {
      "needs_background": "light"
     },
     "output_type": "display_data"
    }
   ],
   "source": [
    "ax=sns.distplot(df[df['Exit'] == 1]['Cancellations'], color = 'b',label='Yes' )\n",
    "ax=sns.distplot(df[df['Exit'] == 0]['Cancellations'], color = 'r',label='No' )\n",
    "ax.legend(title='Exited')\n",
    "#ML_Visuals.savefig()"
   ]
  },
  {
   "cell_type": "code",
   "execution_count": 33,
   "metadata": {},
   "outputs": [
    {
     "data": {
      "text/plain": [
       "<matplotlib.legend.Legend at 0x26ee3cfc438>"
      ]
     },
     "execution_count": 33,
     "metadata": {},
     "output_type": "execute_result"
    },
    {
     "data": {
      "image/png": "[encoded data removed]",
      "text/plain": [
       "<Figure size 432x288 with 1 Axes>"
      ]
     },
     "metadata": {
      "needs_background": "light"
     },
     "output_type": "display_data"
    }
   ],
   "source": [
    "ax=sns.distplot(df[df['Exit'] == 1]['# of complains '], color = 'b',label='Yes' )\n",
    "ax=sns.distplot(df[df['Exit'] == 0]['# of complains '], color = 'r',label='No' )\n",
    "ax.legend(title='Exited')\n",
    "#ML_Visuals.savefig()"
   ]
  },
  {
   "cell_type": "code",
   "execution_count": 34,
   "metadata": {},
   "outputs": [
    {
     "data": {
      "text/plain": [
       "Text(0, 0.5, 'Count')"
      ]
     },
     "execution_count": 34,
     "metadata": {},
     "output_type": "execute_result"
    },
    {
     "data": {
      "image/png": "[encoded data removed]",
      "text/plain": [
       "<Figure size 432x288 with 1 Axes>"
      ]
     },
     "metadata": {
      "needs_background": "light"
     },
     "output_type": "display_data"
    }
   ],
   "source": [
    "\n",
    "#ax=plt.figure(figsize=(10,8))\n",
    "ax=sns.countplot(x=\"DistanceToResidence\",hue=\"Exit\" ,palette=\"vlag\",data=data)\n",
    "ax.set_xlabel(\"Distance To Residence\"),\n",
    "ax.set_ylabel(\"Count\")\n",
    "#ax.set_title(\"Distance To Residence Count\")\n",
    "#ML_Visuals.savefig()"
   ]
  },
  {
   "cell_type": "code",
   "execution_count": 35,
   "metadata": {},
   "outputs": [
    {
     "data": {
      "text/plain": [
       "Text(0, 0.5, 'Count')"
      ]
     },
     "execution_count": 35,
     "metadata": {},
     "output_type": "execute_result"
    },
    {
     "data": {
      "image/png": "[encoded data removed]",
      "text/plain": [
       "<Figure size 432x288 with 1 Axes>"
      ]
     },
     "metadata": {
      "needs_background": "light"
     },
     "output_type": "display_data"
    }
   ],
   "source": [
    "\n",
    "\n",
    "#ax=plt.figure(figsize=(8,7))\n",
    "ax=sns.countplot(x=\"CustomerSegment\",hue=\"Exit\",palette=\"vlag\" ,data=data)\n",
    "ax.set_xlabel(\"Customer Segment\")\n",
    "ax.set_ylabel(\"Count\")\n",
    "#ax.set_title(\"Customer Segment Count\")  \n",
    "#ML_Visuals.savefig()\n"
   ]
  },
  {
   "cell_type": "code",
   "execution_count": 36,
   "metadata": {},
   "outputs": [
    {
     "data": {
      "text/plain": [
       "Text(0, 0.5, 'Count')"
      ]
     },
     "execution_count": 36,
     "metadata": {},
     "output_type": "execute_result"
    },
    {
     "data": {
      "image/png": "[encoded data removed]",
      "text/plain": [
       "<Figure size 432x288 with 1 Axes>"
      ]
     },
     "metadata": {
      "needs_background": "light"
     },
     "output_type": "display_data"
    }
   ],
   "source": [
    "\n",
    "\n",
    "ax=sns.countplot(x=\"CreditRating\",hue=\"Exit\",palette=\"vlag\",data=data)\n",
    "ax.set_xlabel(\"Credit Rating\")\n",
    "ax.set_ylabel(\"Count\")\n",
    "#ML_Visuals.savefig()"
   ]
  },
  {
   "cell_type": "code",
   "execution_count": 37,
   "metadata": {},
   "outputs": [],
   "source": [
    "from sklearn.model_selection import train_test_split\n",
    "x=df.iloc[:, :-1]\n",
    "y=df['Exit']\n",
    "x_train, x_test, y_train, y_test = train_test_split(x,y,test_size = 0.10, random_state = 42)"
   ]
  },
  {
   "cell_type": "code",
   "execution_count": 38,
   "metadata": {},
   "outputs": [
    {
     "name": "stderr",
     "output_type": "stream",
     "text": [
      "C:\\Anaconda\\Anaconda3\\lib\\site-packages\\sklearn\\ensemble\\forest.py:245: FutureWarning: The default value of n_estimators will change from 10 in version 0.20 to 100 in 0.22.\n",
      "  \"10 in version 0.20 to 100 in 0.22.\", FutureWarning)\n"
     ]
    },
    {
     "data": {
      "text/plain": [
       "ExtraTreesRegressor(bootstrap=False, criterion='mse', max_depth=None,\n",
       "                    max_features='auto', max_leaf_nodes=None,\n",
       "                    min_impurity_decrease=0.0, min_impurity_split=None,\n",
       "                    min_samples_leaf=1, min_samples_split=2,\n",
       "                    min_weight_fraction_leaf=0.0, n_estimators=10, n_jobs=None,\n",
       "                    oob_score=False, random_state=None, verbose=0,\n",
       "                    warm_start=False)"
      ]
     },
     "execution_count": 38,
     "metadata": {},
     "output_type": "execute_result"
    }
   ],
   "source": [
    "from sklearn.ensemble import ExtraTreesRegressor\n",
    "model = ExtraTreesRegressor()\n",
    "model.fit(x_train,y_train)"
   ]
  },
  {
   "cell_type": "code",
   "execution_count": 39,
   "metadata": {},
   "outputs": [
    {
     "name": "stdout",
     "output_type": "stream",
     "text": [
      "[0.06001462 0.01790341 0.01643092 0.15776488 0.         0.\n",
      " 0.         0.05754836 0.0556808  0.         0.         0.\n",
      " 0.         0.01760277 0.3588379  0.07552094 0.0208072  0.\n",
      " 0.         0.         0.01387747 0.14801073]\n"
     ]
    }
   ],
   "source": [
    "print(model.feature_importances_)"
   ]
  },
  {
   "cell_type": "code",
   "execution_count": 40,
   "metadata": {},
   "outputs": [
    {
     "data": {
      "text/plain": [
       "<function matplotlib.pyplot.show(close=None, block=None)>"
      ]
     },
     "execution_count": 40,
     "metadata": {},
     "output_type": "execute_result"
    },
    {
     "data": {
      "image/png": "[encoded data removed]",
      "text/plain": [
       "<Figure size 432x288 with 1 Axes>"
      ]
     },
     "metadata": {
      "needs_background": "light"
     },
     "output_type": "display_data"
    }
   ],
   "source": [
    "fet_imp=pd.Series(model.feature_importances_,index=x_test.columns)\n",
    "fet_imp.nlargest(23).plot(kind='barh')\n",
    "plt.show"
   ]
  },
  {
   "cell_type": "code",
   "execution_count": 41,
   "metadata": {},
   "outputs": [
    {
     "name": "stdout",
     "output_type": "stream",
     "text": [
      "Accuracy of Random Forest Algo:  0.8888888888888888\n"
     ]
    }
   ],
   "source": [
    "from sklearn.ensemble import RandomForestClassifier\n",
    "\n",
    "rf = RandomForestClassifier(n_estimators = 100, random_state = 1)\n",
    "rf.fit(x_train,y_train)\n",
    "\n",
    "print(\"Accuracy of Random Forest Algo: \", rf.score(x_test,y_test))"
   ]
  },
  {
   "cell_type": "code",
   "execution_count": 42,
   "metadata": {},
   "outputs": [
    {
     "data": {
      "text/plain": [
       "{'Random Forest': 0.8888888888888888}"
      ]
     },
     "execution_count": 42,
     "metadata": {},
     "output_type": "execute_result"
    }
   ],
   "source": [
    "final_score={}\n",
    "final_score['Random Forest'] = rf.score(x_test,y_test)\n",
    "final_score"
   ]
  },
  {
   "cell_type": "code",
   "execution_count": 43,
   "metadata": {},
   "outputs": [],
   "source": [
    "predictions=rf.predict(x_test)"
   ]
  },
  {
   "cell_type": "code",
   "execution_count": 44,
   "metadata": {},
   "outputs": [
    {
     "data": {
      "text/plain": [
       "<AxesSubplot:xlabel='Exit'>"
      ]
     },
     "execution_count": 44,
     "metadata": {},
     "output_type": "execute_result"
    },
    {
     "data": {
      "image/png": "[encoded data removed]",
      "text/plain": [
       "<Figure size 432x288 with 1 Axes>"
      ]
     },
     "metadata": {
      "needs_background": "light"
     },
     "output_type": "display_data"
    }
   ],
   "source": [
    "sns.distplot(y_test-predictions)"
   ]
  },
  {
   "cell_type": "code",
   "execution_count": 45,
   "metadata": {},
   "outputs": [],
   "source": [
    "\n",
    "import pickle\n",
    "# open a file, where you ant to store the data\n",
    "file = open('random_forest_regression_model.pkl', 'wb')\n",
    "\n",
    "\n",
    "# dump information to that file\n",
    "pickle.dump(rf, file)"
   ]
  },
  {
   "cell_type": "code",
   "execution_count": 46,
   "metadata": {},
   "outputs": [],
   "source": [
    "model = open('random_forest_regression_model.pkl','rb')\n",
    "forest = pickle.load(model)"
   ]
  },
  {
   "cell_type": "code",
   "execution_count": 47,
   "metadata": {},
   "outputs": [],
   "source": [
    "y_prediction = forest.predict(x_test)"
   ]
  },
  {
   "cell_type": "code",
   "execution_count": 48,
   "metadata": {},
   "outputs": [],
   "source": [
    "x=[[0, 2.0, 0, 2, 2.0, 2.0, 2.0, 2.0, 2.0, 0, 2.0, 2, 2.0, 2, 2, 28.75, 19.75, 0, 0, 0, 0, 10]]"
   ]
  },
  {
   "cell_type": "code",
   "execution_count": 49,
   "metadata": {},
   "outputs": [],
   "source": [
    "y=forest.predict(x)"
   ]
  },
  {
   "cell_type": "code",
   "execution_count": 50,
   "metadata": {},
   "outputs": [
    {
     "data": {
      "text/plain": [
       "array([1, 0, 0, 1, 0, 1, 1, 1, 1])"
      ]
     },
     "execution_count": 50,
     "metadata": {},
     "output_type": "execute_result"
    }
   ],
   "source": [
    "y_prediction"
   ]
  },
  {
   "cell_type": "code",
   "execution_count": null,
   "metadata": {},
   "outputs": [],
   "source": []
  },
  {
   "cell_type": "code",
   "execution_count": 51,
   "metadata": {
    "scrolled": true
   },
   "outputs": [
    {
     "data": {
      "text/plain": [
       "array([0])"
      ]
     },
     "execution_count": 51,
     "metadata": {},
     "output_type": "execute_result"
    }
   ],
   "source": [
    "y"
   ]
  },
  {
   "cell_type": "code",
   "execution_count": 52,
   "metadata": {},
   "outputs": [
    {
     "data": {
      "text/plain": [
       "['CreditRating',\n",
       " 'Turnover',\n",
       " 'DistanceToResidence',\n",
       " 'NumOfProducts',\n",
       " 'Liquidity',\n",
       " 'Payments',\n",
       " 'Lending_Loan',\n",
       " 'Trade',\n",
       " 'Insurance',\n",
       " 'HasCrCard',\n",
       " 'Aggregate Balance',\n",
       " 'No Of Transactions',\n",
       " '%  difference in balance amount for 6 Months',\n",
       " 'Payments made after due date',\n",
       " '# of complains ',\n",
       " 'Age',\n",
       " 'Tenure_',\n",
       " 'Industry_NBFI',\n",
       " 'Industry_Services',\n",
       " 'CustomerSegment_Mid_customer',\n",
       " 'CustomerSegment_Small_customer',\n",
       " 'Cancellations']"
      ]
     },
     "execution_count": 52,
     "metadata": {},
     "output_type": "execute_result"
    }
   ],
   "source": [
    "list(x_test.columns.values.tolist()) "
   ]
  }
 ],
 "metadata": {
  "kernelspec": {
   "display_name": "Python 3",
   "language": "python",
   "name": "python3"
  },
  "language_info": {
   "codemirror_mode": {
    "name": "ipython",
    "version": 3
   },
   "file_extension": ".py",
   "mimetype": "text/x-python",
   "name": "python",
   "nbconvert_exporter": "python",
   "pygments_lexer": "ipython3",
   "version": "3.7.3"
  }
 },
 "nbformat": 4,
 "nbformat_minor": 2
}
